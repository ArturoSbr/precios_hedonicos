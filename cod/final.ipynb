{
 "cells": [
  {
   "cell_type": "markdown",
   "id": "f749be66",
   "metadata": {},
   "source": [
    "# Econometría Aplicada 1 (Taller) - Examen Final\n",
    "Importar librerías"
   ]
  },
  {
   "cell_type": "code",
   "execution_count": 75,
   "id": "f84d0c3d",
   "metadata": {},
   "outputs": [],
   "source": [
    "import numpy as np\n",
    "import pandas as pd\n",
    "import statsmodels.api as sm\n",
    "import matplotlib.pyplot as plt\n",
    "plt.style.use('fivethirtyeight')"
   ]
  },
  {
   "cell_type": "markdown",
   "id": "b91c3221",
   "metadata": {},
   "source": [
    "## Ejercicio 3: Índice hedónico de computadoras\n",
    "Cargar datos"
   ]
  },
  {
   "cell_type": "code",
   "execution_count": 42,
   "id": "9f9470ab",
   "metadata": {},
   "outputs": [],
   "source": [
    "df = pd.read_csv('../dat/chow.txt', sep='\\t')"
   ]
  },
  {
   "cell_type": "markdown",
   "id": "5ec7bb68",
   "metadata": {},
   "source": [
    "### (a) Construcción de atributos\n",
    "Crear los atributos necesarios"
   ]
  },
  {
   "cell_type": "code",
   "execution_count": 43,
   "id": "275494a5",
   "metadata": {},
   "outputs": [],
   "source": [
    "# Agregar término constante\n",
    "df['CONST'] = 1\n",
    "\n",
    "# Crear atributos logarítmicos\n",
    "for col in ['RENT','MULT','ACCESS','ADD']:\n",
    "    df['LN'+col] = np.log(df[col])\n",
    "    \n",
    "# Crear Memory Space\n",
    "df['LNMEM'] = np.log(df[['WORDS','BINARY','DIGITS']].product(axis=1))\n",
    "\n",
    "# Crear dummies por año (61, 62, ..., 65)\n",
    "df['D'] = np.where(df['YEAR'].lt(61), 60, df['YEAR'])\n",
    "df = pd.get_dummies(df, prefix='D', prefix_sep='_', columns=['D'], drop_first=True)"
   ]
  },
  {
   "cell_type": "markdown",
   "id": "f1e683ef",
   "metadata": {},
   "source": [
    "Comparación de matríces de correlación en los periodos\n",
    "- [1954-1959]"
   ]
  },
  {
   "cell_type": "code",
   "execution_count": 44,
   "id": "5006ea40",
   "metadata": {},
   "outputs": [
    {
     "data": {
      "text/html": [
       "<div>\n",
       "<style scoped>\n",
       "    .dataframe tbody tr th:only-of-type {\n",
       "        vertical-align: middle;\n",
       "    }\n",
       "\n",
       "    .dataframe tbody tr th {\n",
       "        vertical-align: top;\n",
       "    }\n",
       "\n",
       "    .dataframe thead th {\n",
       "        text-align: right;\n",
       "    }\n",
       "</style>\n",
       "<table border=\"1\" class=\"dataframe\">\n",
       "  <thead>\n",
       "    <tr style=\"text-align: right;\">\n",
       "      <th></th>\n",
       "      <th>LNRENT</th>\n",
       "      <th>LNMULT</th>\n",
       "      <th>LNACCESS</th>\n",
       "      <th>LNADD</th>\n",
       "      <th>LNMEM</th>\n",
       "    </tr>\n",
       "  </thead>\n",
       "  <tbody>\n",
       "    <tr>\n",
       "      <th>LNRENT</th>\n",
       "      <td>1.00</td>\n",
       "      <td>-0.87</td>\n",
       "      <td>-0.85</td>\n",
       "      <td>-0.84</td>\n",
       "      <td>0.88</td>\n",
       "    </tr>\n",
       "    <tr>\n",
       "      <th>LNMULT</th>\n",
       "      <td>-0.87</td>\n",
       "      <td>1.00</td>\n",
       "      <td>0.86</td>\n",
       "      <td>0.98</td>\n",
       "      <td>-0.74</td>\n",
       "    </tr>\n",
       "    <tr>\n",
       "      <th>LNACCESS</th>\n",
       "      <td>-0.85</td>\n",
       "      <td>0.86</td>\n",
       "      <td>1.00</td>\n",
       "      <td>0.85</td>\n",
       "      <td>-0.61</td>\n",
       "    </tr>\n",
       "    <tr>\n",
       "      <th>LNADD</th>\n",
       "      <td>-0.84</td>\n",
       "      <td>0.98</td>\n",
       "      <td>0.85</td>\n",
       "      <td>1.00</td>\n",
       "      <td>-0.73</td>\n",
       "    </tr>\n",
       "    <tr>\n",
       "      <th>LNMEM</th>\n",
       "      <td>0.88</td>\n",
       "      <td>-0.74</td>\n",
       "      <td>-0.61</td>\n",
       "      <td>-0.73</td>\n",
       "      <td>1.00</td>\n",
       "    </tr>\n",
       "  </tbody>\n",
       "</table>\n",
       "</div>"
      ],
      "text/plain": [
       "          LNRENT  LNMULT  LNACCESS  LNADD  LNMEM\n",
       "LNRENT      1.00   -0.87     -0.85  -0.84   0.88\n",
       "LNMULT     -0.87    1.00      0.86   0.98  -0.74\n",
       "LNACCESS   -0.85    0.86      1.00   0.85  -0.61\n",
       "LNADD      -0.84    0.98      0.85   1.00  -0.73\n",
       "LNMEM       0.88   -0.74     -0.61  -0.73   1.00"
      ]
     },
     "execution_count": 44,
     "metadata": {},
     "output_type": "execute_result"
    }
   ],
   "source": [
    "c1 = df.loc[df['YEAR'].between(54,59), 'LNRENT':'LNMEM'].corr()\n",
    "c1.round(2)"
   ]
  },
  {
   "cell_type": "markdown",
   "id": "c0215771",
   "metadata": {},
   "source": [
    "- [1960-1965]"
   ]
  },
  {
   "cell_type": "code",
   "execution_count": 45,
   "id": "1b6ebc97",
   "metadata": {},
   "outputs": [
    {
     "data": {
      "text/html": [
       "<div>\n",
       "<style scoped>\n",
       "    .dataframe tbody tr th:only-of-type {\n",
       "        vertical-align: middle;\n",
       "    }\n",
       "\n",
       "    .dataframe tbody tr th {\n",
       "        vertical-align: top;\n",
       "    }\n",
       "\n",
       "    .dataframe thead th {\n",
       "        text-align: right;\n",
       "    }\n",
       "</style>\n",
       "<table border=\"1\" class=\"dataframe\">\n",
       "  <thead>\n",
       "    <tr style=\"text-align: right;\">\n",
       "      <th></th>\n",
       "      <th>LNRENT</th>\n",
       "      <th>LNMULT</th>\n",
       "      <th>LNACCESS</th>\n",
       "      <th>LNADD</th>\n",
       "      <th>LNMEM</th>\n",
       "    </tr>\n",
       "  </thead>\n",
       "  <tbody>\n",
       "    <tr>\n",
       "      <th>LNRENT</th>\n",
       "      <td>1.00</td>\n",
       "      <td>-0.63</td>\n",
       "      <td>-0.58</td>\n",
       "      <td>-0.63</td>\n",
       "      <td>0.88</td>\n",
       "    </tr>\n",
       "    <tr>\n",
       "      <th>LNMULT</th>\n",
       "      <td>-0.63</td>\n",
       "      <td>1.00</td>\n",
       "      <td>0.77</td>\n",
       "      <td>0.94</td>\n",
       "      <td>-0.57</td>\n",
       "    </tr>\n",
       "    <tr>\n",
       "      <th>LNACCESS</th>\n",
       "      <td>-0.58</td>\n",
       "      <td>0.77</td>\n",
       "      <td>1.00</td>\n",
       "      <td>0.81</td>\n",
       "      <td>-0.46</td>\n",
       "    </tr>\n",
       "    <tr>\n",
       "      <th>LNADD</th>\n",
       "      <td>-0.63</td>\n",
       "      <td>0.94</td>\n",
       "      <td>0.81</td>\n",
       "      <td>1.00</td>\n",
       "      <td>-0.56</td>\n",
       "    </tr>\n",
       "    <tr>\n",
       "      <th>LNMEM</th>\n",
       "      <td>0.88</td>\n",
       "      <td>-0.57</td>\n",
       "      <td>-0.46</td>\n",
       "      <td>-0.56</td>\n",
       "      <td>1.00</td>\n",
       "    </tr>\n",
       "  </tbody>\n",
       "</table>\n",
       "</div>"
      ],
      "text/plain": [
       "          LNRENT  LNMULT  LNACCESS  LNADD  LNMEM\n",
       "LNRENT      1.00   -0.63     -0.58  -0.63   0.88\n",
       "LNMULT     -0.63    1.00      0.77   0.94  -0.57\n",
       "LNACCESS   -0.58    0.77      1.00   0.81  -0.46\n",
       "LNADD      -0.63    0.94      0.81   1.00  -0.56\n",
       "LNMEM       0.88   -0.57     -0.46  -0.56   1.00"
      ]
     },
     "execution_count": 45,
     "metadata": {},
     "output_type": "execute_result"
    }
   ],
   "source": [
    "c2 = df.loc[df['YEAR'].between(60,65), 'LNRENT':'LNMEM'].corr()\n",
    "c2.round(2)"
   ]
  },
  {
   "cell_type": "markdown",
   "id": "e36d0705",
   "metadata": {},
   "source": [
    "Los coeficientes de correlación entre las siguientes variables cambiaron menos de 10 puntos porcentuales entre ambos periodos:\n",
    "1. `LNRENT` y `LNMEM`\n",
    "1. `LNMULT` y `LNACCESS`\n",
    "1. `LNMULT` y `LNADD`\n",
    "1. `LNACCESS` y `LNADD`\n",
    "\n",
    "Los demás pares de variables cambian en 10 o más puntos porcentuales.\n",
    "\n",
    "En general, ambas matríces de correlación se parecen. Sin embargo, considero que hay diferencias importantes entre ambos periodos. En particular, hay menos pares de variables con coeficientes de correlación mayores a 0.7 en valor absoluto en el segundo periodo.\n",
    "\n",
    "Igualmente, creo que Chow estaba en lo correcto al preocuparse por la posibilidad de un problema de multicolinealidad, pues todos los pares de variables excepto por `LNMEM` y `LNACCESS` tienen un coeficiente de correlación de almenos 0.7 en valor absoluto en el periodo previo a 1960.\n",
    "\n",
    "Las correlaciones siguen siendo altas de 1960 en adelante. Sin embargo, los coeficientes tienden a disminuir en esta ventana de tiempo."
   ]
  },
  {
   "cell_type": "markdown",
   "id": "7e1411da",
   "metadata": {},
   "source": [
    "### (b) Regresión de Chow"
   ]
  },
  {
   "cell_type": "code",
   "execution_count": 51,
   "id": "18214984",
   "metadata": {},
   "outputs": [],
   "source": [
    "# Objetos para regresión\n",
    "feats = ['CONST','D_61','D_62','D_63','D_64','D_65','LNMULT','LNMEM','LNACCESS']\n",
    "targt = 'LNRENT'\n",
    "X = df.loc[df['YEAR'].ge(60), feats]\n",
    "y = df.loc[df['YEAR'].ge(60), targt]\n",
    "\n",
    "# Modelo de Chow\n",
    "m1 = sm.OLS(endog=y, exog=X)\n",
    "m1_res = m1.fit()"
   ]
  },
  {
   "cell_type": "code",
   "execution_count": 59,
   "id": "1af77812",
   "metadata": {},
   "outputs": [
    {
     "name": "stdout",
     "output_type": "stream",
     "text": [
      "==============================================================================\n",
      "                 coef    std err          t      P>|t|      [0.025      0.975]\n",
      "------------------------------------------------------------------------------\n",
      "CONST         -0.1045      0.315     -0.332      0.741      -0.732       0.523\n",
      "D_61          -0.1398      0.166     -0.840      0.404      -0.472       0.192\n",
      "D_62          -0.4891      0.174     -2.815      0.006      -0.835      -0.143\n",
      "D_63          -0.5938      0.166     -3.575      0.001      -0.925      -0.263\n",
      "D_64          -0.9248      0.166     -5.561      0.000      -1.256      -0.593\n",
      "D_65          -1.1632      0.166     -7.003      0.000      -1.494      -0.832\n",
      "LNMULT        -0.0654      0.028     -2.301      0.024      -0.122      -0.009\n",
      "LNMEM          0.5793      0.035     16.369      0.000       0.509       0.650\n",
      "LNACCESS      -0.1406      0.029     -4.794      0.000      -0.199      -0.082\n",
      "==============================================================================\n",
      "Observations: 82.0\n",
      "R2: 0.908\n"
     ]
    }
   ],
   "source": [
    "print(m1_res.summary().tables[1])\n",
    "print('Observations:', int(m1_res.nobs))\n",
    "print('R2:', round(m1_res.rsquared, 3))"
   ]
  },
  {
   "cell_type": "markdown",
   "id": "cf112074",
   "metadata": {},
   "source": [
    "Índice de precios usando método alternativo"
   ]
  },
  {
   "cell_type": "code",
   "execution_count": 73,
   "id": "766f811c",
   "metadata": {},
   "outputs": [
    {
     "data": {
      "text/html": [
       "<div>\n",
       "<style scoped>\n",
       "    .dataframe tbody tr th:only-of-type {\n",
       "        vertical-align: middle;\n",
       "    }\n",
       "\n",
       "    .dataframe tbody tr th {\n",
       "        vertical-align: top;\n",
       "    }\n",
       "\n",
       "    .dataframe thead th {\n",
       "        text-align: right;\n",
       "    }\n",
       "</style>\n",
       "<table border=\"1\" class=\"dataframe\">\n",
       "  <thead>\n",
       "    <tr style=\"text-align: right;\">\n",
       "      <th></th>\n",
       "      <th>Price Index (exp)</th>\n",
       "      <th>Price Index (Chow)</th>\n",
       "    </tr>\n",
       "  </thead>\n",
       "  <tbody>\n",
       "    <tr>\n",
       "      <th>D_60</th>\n",
       "      <td>1.0000</td>\n",
       "      <td>1.0000</td>\n",
       "    </tr>\n",
       "    <tr>\n",
       "      <th>D_61</th>\n",
       "      <td>0.8695</td>\n",
       "      <td>0.8438</td>\n",
       "    </tr>\n",
       "    <tr>\n",
       "      <th>D_62</th>\n",
       "      <td>0.6132</td>\n",
       "      <td>0.6414</td>\n",
       "    </tr>\n",
       "    <tr>\n",
       "      <th>D_63</th>\n",
       "      <td>0.5522</td>\n",
       "      <td>0.5330</td>\n",
       "    </tr>\n",
       "    <tr>\n",
       "      <th>D_64</th>\n",
       "      <td>0.3966</td>\n",
       "      <td>0.3906</td>\n",
       "    </tr>\n",
       "    <tr>\n",
       "      <th>D_65</th>\n",
       "      <td>0.3125</td>\n",
       "      <td>0.3188</td>\n",
       "    </tr>\n",
       "  </tbody>\n",
       "</table>\n",
       "</div>"
      ],
      "text/plain": [
       "      Price Index (exp)  Price Index (Chow)\n",
       "D_60             1.0000              1.0000\n",
       "D_61             0.8695              0.8438\n",
       "D_62             0.6132              0.6414\n",
       "D_63             0.5522              0.5330\n",
       "D_64             0.3966              0.3906\n",
       "D_65             0.3125              0.3188"
      ]
     },
     "execution_count": 73,
     "metadata": {},
     "output_type": "execute_result"
    }
   ],
   "source": [
    "t = pd.concat([pd.Series([1], ['D_60']), np.exp(m1_res.params['D_61':'D_65'])]).to_frame()\n",
    "t.columns=['Price Index (exp)']\n",
    "t['Price Index (Chow)'] = [1,.8438,.6414,.5330,.3906,.3188]\n",
    "t.round(4)"
   ]
  },
  {
   "cell_type": "code",
   "execution_count": 82,
   "id": "3b11e051",
   "metadata": {},
   "outputs": [
    {
     "data": {
      "image/png": "[encoded data removed]",
      "text/plain": [
       "<Figure size 432x288 with 1 Axes>"
      ]
     },
     "metadata": {},
     "output_type": "display_data"
    }
   ],
   "source": [
    "plt.plot(t.index, t['Price Index (exp)'], label='Coeficientes exponenciados')\n",
    "plt.plot(t.index, t['Price Index (Chow)'], label='Método Chow')\n",
    "plt.xticks(t.index, labels=range(1960,1966), rotation=45, fontsize=12)\n",
    "plt.xlabel('Año', fontsize=12)\n",
    "plt.ylabel('Índice de precios (base 1960)', fontsize=12)\n",
    "plt.legend()\n",
    "plt.show()"
   ]
  },
  {
   "cell_type": "markdown",
   "id": "ff34a954",
   "metadata": {},
   "source": [
    "El índice de precios usando el método de exponenciar los coeficientes de efectos fijos por año da resultados muy similares al método de Chow. Ambas series muestran la misma tendencia a la baja y las diferencias son negligibles."
   ]
  },
  {
   "cell_type": "markdown",
   "id": "60574a03",
   "metadata": {},
   "source": [
    "### (c) Especificación alternativa\n",
    "Prueba de que la especificación de Chow asume que el logaritmo `BINARY * DIGITS` y de `WORDS` tienen la misma pendiente:\n",
    "$$\\beta \\ln(MEM) = \\beta \\ln(WORDS \\times BINARY \\times DIGITS) = \\beta \\ln(WORDS) + \\beta \\ln(BINARY \\times DIGITS)$$"
   ]
  },
  {
   "cell_type": "code",
   "execution_count": 97,
   "id": "87dfd7cd",
   "metadata": {},
   "outputs": [
    {
     "name": "stdout",
     "output_type": "stream",
     "text": [
      "==============================================================================\n",
      "                 coef    std err          t      P>|t|      [0.025      0.975]\n",
      "------------------------------------------------------------------------------\n",
      "CONST          0.0257      0.352      0.073      0.942      -0.677       0.728\n",
      "D_61          -0.1562      0.168     -0.930      0.355      -0.491       0.179\n",
      "D_62          -0.4990      0.175     -2.859      0.006      -0.847      -0.151\n",
      "D_63          -0.6004      0.167     -3.603      0.001      -0.933      -0.268\n",
      "D_64          -0.9289      0.167     -5.571      0.000      -1.261      -0.597\n",
      "D_65          -1.1722      0.167     -7.027      0.000      -1.505      -0.840\n",
      "LNMULT        -0.0701      0.029     -2.414      0.018      -0.128      -0.012\n",
      "LNLENGTH       0.5334      0.066      8.120      0.000       0.402       0.664\n",
      "LNWORDS        0.5896      0.038     15.699      0.000       0.515       0.664\n",
      "LNACCESS      -0.1320      0.031     -4.240      0.000      -0.194      -0.070\n",
      "==============================================================================\n"
     ]
    }
   ],
   "source": [
    "# Separar LNMEM en dos términos independientes\n",
    "df = df.assign(LNLENGTH=np.log(df['BINARY'].multiply(df['DIGITS'])),\n",
    "               LNWORDS=np.log(df['WORDS']))\n",
    "\n",
    "# Objetos para regresión\n",
    "feats = ['CONST','D_61','D_62','D_63','D_64','D_65','LNMULT','LNLENGTH','LNWORDS','LNACCESS']\n",
    "X = df.loc[df['YEAR'].ge(60), feats]\n",
    "y = df.loc[df['YEAR'].ge(60), 'LNRENT']\n",
    "\n",
    "# Modelo alternativo\n",
    "m2 = sm.OLS(y, X)\n",
    "m2_res = m2.fit()\n",
    "print(m2_res.summary().tables[1])"
   ]
  },
  {
   "cell_type": "markdown",
   "id": "3d68be29",
   "metadata": {},
   "source": [
    "Probar si los coeficientes son distintos entre sí:"
   ]
  },
  {
   "cell_type": "code",
   "execution_count": 98,
   "id": "c654e503",
   "metadata": {},
   "outputs": [
    {
     "name": "stdout",
     "output_type": "stream",
     "text": [
      "R2 adj de modelo 1: 0.8984\n",
      "R2 adj de modelo 2: 0.8984\n"
     ]
    },
    {
     "data": {
      "text/html": [
       "<table class=\"simpletable\">\n",
       "<caption>Test for Constraints</caption>\n",
       "<tr>\n",
       "   <td></td>     <th>coef</th>     <th>std err</th>      <th>t</th>      <th>P>|t|</th>  <th>[0.025</th>    <th>0.975]</th>  \n",
       "</tr>\n",
       "<tr>\n",
       "  <th>c0</th> <td>   -0.0562</td> <td>    0.068</td> <td>   -0.831</td> <td> 0.409</td> <td>   -0.191</td> <td>    0.079</td>\n",
       "</tr>\n",
       "</table>"
      ],
      "text/plain": [
       "<class 'statsmodels.iolib.table.SimpleTable'>"
      ]
     },
     "execution_count": 98,
     "metadata": {},
     "output_type": "execute_result"
    }
   ],
   "source": [
    "print('R2 adj de modelo 1:', round(m1_res.rsquared_adj, 4))\n",
    "print('R2 adj de modelo 2:', round(m1_res.rsquared_adj, 4))\n",
    "\n",
    "# Probar si los coeficientes son distintos\n",
    "m2_res.t_test([0,0,0,0,0,0,0,1,-1,0]).summary()"
   ]
  },
  {
   "cell_type": "markdown",
   "id": "321691f6",
   "metadata": {},
   "source": [
    "Ambas especificaciones resultan en prácticamente el mismo coeficiente $R^2$ adjustado, así que la especificación no tienen un impacto sobre el desempeño predictivo del modelo. Sin embargo, los coeficientes de `LNLENGTH` y de `LNWORDS` son muy parecidos y no podemos rechazar la hipótesis nula de que tengan el mismo efecto sobre la variable dependiente.\n",
    "\n",
    "Por cuestiones de parsimonía, prefiero el primer modelo."
   ]
  },
  {
   "cell_type": "markdown",
   "id": "3a6aaa6b",
   "metadata": {},
   "source": [
    "### (d) Efectos fijos sin término constante\n",
    "Usar todas las observaciones y crear efectos fijos por año (sin constante)"
   ]
  },
  {
   "cell_type": "code",
   "execution_count": 110,
   "id": "7dcd9b36",
   "metadata": {},
   "outputs": [
    {
     "name": "stdout",
     "output_type": "stream",
     "text": [
      "==============================================================================\n",
      "                 coef    std err          t      P>|t|      [0.025      0.975]\n",
      "------------------------------------------------------------------------------\n",
      "D_54           1.3931      0.288      4.829      0.000       0.822       1.964\n",
      "D_55           1.3385      0.290      4.614      0.000       0.764       1.913\n",
      "D_56           1.1808      0.294      4.021      0.000       0.599       1.762\n",
      "D_57           1.1086      0.296      3.742      0.000       0.522       1.695\n",
      "D_58           0.9171      0.274      3.347      0.001       0.375       1.460\n",
      "D_59           0.6990      0.274      2.555      0.012       0.157       1.241\n",
      "D_60           0.2542      0.263      0.967      0.336      -0.266       0.775\n",
      "D_61           0.1542      0.267      0.577      0.565      -0.374       0.683\n",
      "D_62          -0.2287      0.242     -0.946      0.346      -0.707       0.250\n",
      "D_63          -0.3395      0.233     -1.459      0.147      -0.800       0.121\n",
      "D_64          -0.6351      0.235     -2.702      0.008      -1.100      -0.170\n",
      "D_65          -0.9127      0.231     -3.948      0.000      -1.370      -0.455\n",
      "LNMULT        -0.0635      0.023     -2.725      0.007      -0.110      -0.017\n",
      "LNMEM          0.5191      0.028     18.873      0.000       0.465       0.574\n",
      "LNACCESS      -0.1606      0.020     -8.091      0.000      -0.200      -0.121\n",
      "==============================================================================\n"
     ]
    }
   ],
   "source": [
    "# Objetos para regresión\n",
    "X = pd.concat([pd.get_dummies(df['YEAR'], prefix='D'), df[['LNMULT','LNMEM','LNACCESS']]], axis=1)\n",
    "y = df['LNRENT']\n",
    "\n",
    "# Modelo\n",
    "m3 = sm.OLS(y, X)\n",
    "m3_res = m3.fit()\n",
    "print(m3_res.summary().tables[1])"
   ]
  },
  {
   "cell_type": "code",
   "execution_count": 128,
   "id": "3edd790b",
   "metadata": {},
   "outputs": [
    {
     "data": {
      "text/html": [
       "<div>\n",
       "<style scoped>\n",
       "    .dataframe tbody tr th:only-of-type {\n",
       "        vertical-align: middle;\n",
       "    }\n",
       "\n",
       "    .dataframe tbody tr th {\n",
       "        vertical-align: top;\n",
       "    }\n",
       "\n",
       "    .dataframe thead th {\n",
       "        text-align: right;\n",
       "    }\n",
       "</style>\n",
       "<table border=\"1\" class=\"dataframe\">\n",
       "  <thead>\n",
       "    <tr style=\"text-align: right;\">\n",
       "      <th></th>\n",
       "      <th>Price Index (base 1954)</th>\n",
       "      <th>Price Index (base 1965)</th>\n",
       "    </tr>\n",
       "  </thead>\n",
       "  <tbody>\n",
       "    <tr>\n",
       "      <th>D_54</th>\n",
       "      <td>100.0</td>\n",
       "      <td>1003.0</td>\n",
       "    </tr>\n",
       "    <tr>\n",
       "      <th>D_55</th>\n",
       "      <td>95.0</td>\n",
       "      <td>950.0</td>\n",
       "    </tr>\n",
       "    <tr>\n",
       "      <th>D_56</th>\n",
       "      <td>81.0</td>\n",
       "      <td>811.0</td>\n",
       "    </tr>\n",
       "    <tr>\n",
       "      <th>D_57</th>\n",
       "      <td>75.0</td>\n",
       "      <td>755.0</td>\n",
       "    </tr>\n",
       "    <tr>\n",
       "      <th>D_58</th>\n",
       "      <td>62.0</td>\n",
       "      <td>623.0</td>\n",
       "    </tr>\n",
       "    <tr>\n",
       "      <th>D_59</th>\n",
       "      <td>50.0</td>\n",
       "      <td>501.0</td>\n",
       "    </tr>\n",
       "    <tr>\n",
       "      <th>D_60</th>\n",
       "      <td>32.0</td>\n",
       "      <td>321.0</td>\n",
       "    </tr>\n",
       "    <tr>\n",
       "      <th>D_61</th>\n",
       "      <td>29.0</td>\n",
       "      <td>291.0</td>\n",
       "    </tr>\n",
       "    <tr>\n",
       "      <th>D_62</th>\n",
       "      <td>20.0</td>\n",
       "      <td>198.0</td>\n",
       "    </tr>\n",
       "    <tr>\n",
       "      <th>D_63</th>\n",
       "      <td>18.0</td>\n",
       "      <td>177.0</td>\n",
       "    </tr>\n",
       "    <tr>\n",
       "      <th>D_64</th>\n",
       "      <td>13.0</td>\n",
       "      <td>132.0</td>\n",
       "    </tr>\n",
       "    <tr>\n",
       "      <th>D_65</th>\n",
       "      <td>10.0</td>\n",
       "      <td>100.0</td>\n",
       "    </tr>\n",
       "  </tbody>\n",
       "</table>\n",
       "</div>"
      ],
      "text/plain": [
       "      Price Index (base 1954)  Price Index (base 1965)\n",
       "D_54                    100.0                   1003.0\n",
       "D_55                     95.0                    950.0\n",
       "D_56                     81.0                    811.0\n",
       "D_57                     75.0                    755.0\n",
       "D_58                     62.0                    623.0\n",
       "D_59                     50.0                    501.0\n",
       "D_60                     32.0                    321.0\n",
       "D_61                     29.0                    291.0\n",
       "D_62                     20.0                    198.0\n",
       "D_63                     18.0                    177.0\n",
       "D_64                     13.0                    132.0\n",
       "D_65                     10.0                    100.0"
      ]
     },
     "execution_count": 128,
     "metadata": {},
     "output_type": "execute_result"
    }
   ],
   "source": [
    "t = np.exp(m3_res.params['D_54':'D_65'] - m3_res.params['D_54']).to_frame()\n",
    "t.columns = ['Price Index (base 1954)']\n",
    "t['Price Index (base 1965)'] = t['Price Index (base 1954)'].div(t.loc['D_65'].item())\n",
    "(t * 100).round(0)"
   ]
  },
  {
   "cell_type": "markdown",
   "id": "b42f00ab",
   "metadata": {},
   "source": [
    "La segunda columna es igual a la primera salvo porque renormalicé la serie a 1965.\n",
    "\n",
    "Con respecto a la serie de Triplett, mis estimaciones resultan en índices más bajos. Por ejemplo, en 1954, el precio de una computadora era 10 veces el índice de 1965. De acuerdo a los coeficientes estimados por Triplett, el precio de la misma computadora era 13.20 veces el precio de 1965."
   ]
  },
  {
   "cell_type": "markdown",
   "id": "8e0aa224",
   "metadata": {},
   "source": [
    "### (e) Heteroscedasticidad"
   ]
  },
  {
   "cell_type": "code",
   "execution_count": 166,
   "id": "9dc2c62f",
   "metadata": {},
   "outputs": [
    {
     "name": "stdout",
     "output_type": "stream",
     "text": [
      "==============================================================================\n",
      "                 coef    std err          t      P>|t|      [0.025      0.975]\n",
      "------------------------------------------------------------------------------\n",
      "CONST          0.2270      0.285      0.796      0.429      -0.342       0.795\n",
      "D_61          -0.1369      0.133     -1.030      0.307      -0.402       0.128\n",
      "D_62           0.0544      0.211      0.257      0.798      -0.367       0.476\n",
      "D_63          -0.0633      0.113     -0.558      0.578      -0.289       0.163\n",
      "D_64          -0.1822      0.138     -1.318      0.192      -0.458       0.093\n",
      "D_65          -0.4108      0.122     -3.362      0.001      -0.654      -0.167\n",
      "LNMULT        -0.0762      0.024     -3.190      0.002      -0.124      -0.029\n",
      "LNMEM          0.1204      0.032      3.771      0.000       0.057       0.184\n",
      "LNACCESS       0.0203      0.027      0.751      0.455      -0.034       0.074\n",
      "==============================================================================\n"
     ]
    }
   ],
   "source": [
    "# Objetos para regresión\n",
    "w = np.sqrt(df.loc[df['YEAR'].ge(60), 'VOLUME'])\n",
    "X = df.loc[df['YEAR'].ge(60), m1.exog_names]\n",
    "y = df.loc[df['YEAR'].ge(60), 'LNRENT']\n",
    "\n",
    "# Modelo\n",
    "m4 = sm.OLS(y, X.multiply(w, axis=0), hasconst=True)\n",
    "m4_res = m4.fit()\n",
    "print(m4_res.summary().tables[1])"
   ]
  },
  {
   "cell_type": "markdown",
   "id": "be3e5c77",
   "metadata": {},
   "source": [
    "Me parece que este método no es correcto porque el libro muestra un ejemplo donde $Y_i$ es el precio promedio del modelo $i$ en la siguiente especificación:\n",
    "$$Y_i = \\beta_0 + \\beta_1 X_{1,i} + ... + u_i$$\n",
    "\n",
    "Nuestra especificación usa $\\ln(Y_i)$ como variable dependiente, la cual no es una transformación lineal. Es decir, $\\sqrt{S_m} \\ \\times \\ln(Y_i) \\neq \\ln\\big(Y_i \\times \\sqrt{S_m} \\ \\big)$.\n",
    "\n",
    "Solo deberíamos de aplicar esta transformación cuando modelamos el precio de las computadoras, no el logaritmo del precio.\n",
    "\n",
    "Como se muestra a continuación, el método que no usa este atajo coincide casi puntualmente con la estimación original salvo que los errores estándar son más grandesPara probar, voy a usar el método integrado en Python."
   ]
  },
  {
   "cell_type": "code",
   "execution_count": 167,
   "id": "113b7bc1",
   "metadata": {},
   "outputs": [
    {
     "name": "stdout",
     "output_type": "stream",
     "text": [
      "==============================================================================\n",
      "                 coef    std err          t      P>|t|      [0.025      0.975]\n",
      "------------------------------------------------------------------------------\n",
      "CONST         -0.1045      0.315     -0.332      0.741      -0.732       0.523\n",
      "D_61          -0.1398      0.166     -0.840      0.404      -0.472       0.192\n",
      "D_62          -0.4891      0.174     -2.815      0.006      -0.835      -0.143\n",
      "D_63          -0.5938      0.166     -3.575      0.001      -0.925      -0.263\n",
      "D_64          -0.9248      0.166     -5.561      0.000      -1.256      -0.593\n",
      "D_65          -1.1632      0.166     -7.003      0.000      -1.494      -0.832\n",
      "LNMULT        -0.0654      0.028     -2.301      0.024      -0.122      -0.009\n",
      "LNMEM          0.5793      0.035     16.369      0.000       0.509       0.650\n",
      "LNACCESS      -0.1406      0.029     -4.794      0.000      -0.199      -0.082\n",
      "==============================================================================\n"
     ]
    }
   ],
   "source": [
    "m5 = sm.OLS(y, X, weights=w).fit()\n",
    "print(m5.summary().tables[1])"
   ]
  }
 ],
 "metadata": {
  "kernelspec": {
   "display_name": "Python 3",
   "language": "python",
   "name": "python3"
  },
  "language_info": {
   "codemirror_mode": {
    "name": "ipython",
    "version": 3
   },
   "file_extension": ".py",
   "mimetype": "text/x-python",
   "name": "python",
   "nbconvert_exporter": "python",
   "pygments_lexer": "ipython3",
   "version": "3.8.8"
  }
 },
 "nbformat": 4,
 "nbformat_minor": 5
}
