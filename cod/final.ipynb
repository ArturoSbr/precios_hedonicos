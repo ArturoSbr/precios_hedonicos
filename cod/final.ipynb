{
 "cells": [
  {
   "cell_type": "markdown",
   "id": "d74ad4a7",
   "metadata": {},
   "source": [
    "# Econometría Aplicada 1 (Taller) - Examen Final\n",
    "Importar librerías"
   ]
  },
  {
   "cell_type": "code",
   "execution_count": 45,
   "id": "98be54b7",
   "metadata": {},
   "outputs": [],
   "source": [
    "import numpy as np\n",
    "import pandas as pd\n",
    "from scipy import stats\n",
    "import statsmodels.api as sm\n",
    "import matplotlib.pyplot as plt\n",
    "plt.style.use('fivethirtyeight')"
   ]
  },
  {
   "cell_type": "markdown",
   "id": "c4252dbc",
   "metadata": {},
   "source": [
    "## Ejercicio 3: Índice hedónico de computadoras\n",
    "Cargar datos"
   ]
  },
  {
   "cell_type": "code",
   "execution_count": null,
   "id": "90de866d",
   "metadata": {},
   "outputs": [],
   "source": [
    "df = pd.read_csv('../dat/chow.txt', sep='\\t')"
   ]
  },
  {
   "cell_type": "markdown",
   "id": "3245f9e1",
   "metadata": {},
   "source": [
    "### (a) Construcción de atributos\n",
    "Crear los atributos necesarios"
   ]
  },
  {
   "cell_type": "code",
   "execution_count": null,
   "id": "dfee3926",
   "metadata": {},
   "outputs": [],
   "source": [
    "# Agregar término constante\n",
    "df['CONST'] = 1\n",
    "\n",
    "# Crear atributos logarítmicos\n",
    "for col in ['RENT','MULT','ACCESS','ADD']:\n",
    "    df['LN'+col] = np.log(df[col])\n",
    "    \n",
    "# Crear Memory Space\n",
    "df['LNMEM'] = np.log(df[['WORDS','BINARY','DIGITS']].product(axis=1))\n",
    "\n",
    "# Crear dummies por año (61, 62, ..., 65)\n",
    "df['D'] = np.where(df['YEAR'].lt(61), 60, df['YEAR'])\n",
    "df = pd.get_dummies(df, prefix='D', prefix_sep='_', columns=['D'], drop_first=True)"
   ]
  },
  {
   "cell_type": "markdown",
   "id": "002164ad",
   "metadata": {},
   "source": [
    "Comparación de matríces de correlación en los periodos\n",
    "- [1954-1959]"
   ]
  },
  {
   "cell_type": "code",
   "execution_count": null,
   "id": "9d56d382",
   "metadata": {},
   "outputs": [],
   "source": [
    "c1 = df.loc[df['YEAR'].between(54,59), 'LNRENT':'LNMEM'].corr()\n",
    "c1.round(2)"
   ]
  },
  {
   "cell_type": "markdown",
   "id": "b68f70dc",
   "metadata": {},
   "source": [
    "- [1960-1965]"
   ]
  },
  {
   "cell_type": "code",
   "execution_count": null,
   "id": "4c74a709",
   "metadata": {},
   "outputs": [],
   "source": [
    "c2 = df.loc[df['YEAR'].between(60,65), 'LNRENT':'LNMEM'].corr()\n",
    "c2.round(2)"
   ]
  },
  {
   "cell_type": "markdown",
   "id": "51acd592",
   "metadata": {},
   "source": [
    "Los coeficientes de correlación entre las siguientes variables cambiaron menos de 10 puntos porcentuales entre ambos periodos:\n",
    "1. `LNRENT` y `LNMEM`\n",
    "1. `LNMULT` y `LNACCESS`\n",
    "1. `LNMULT` y `LNADD`\n",
    "1. `LNACCESS` y `LNADD`\n",
    "\n",
    "Los demás pares de variables cambian en 10 o más puntos porcentuales.\n",
    "\n",
    "En general, ambas matríces de correlación se parecen. Sin embargo, considero que hay diferencias importantes entre ambos periodos. En particular, hay menos pares de variables con coeficientes de correlación mayores a 0.7 en valor absoluto en el segundo periodo.\n",
    "\n",
    "Igualmente, creo que Chow estaba en lo correcto al preocuparse por la posibilidad de un problema de multicolinealidad, pues todos los pares de variables excepto por `LNMEM` y `LNACCESS` tienen un coeficiente de correlación de almenos 0.7 en valor absoluto en el periodo previo a 1960.\n",
    "\n",
    "Las correlaciones siguen siendo altas de 1960 en adelante. Sin embargo, los coeficientes tienden a disminuir en esta ventana de tiempo."
   ]
  },
  {
   "cell_type": "markdown",
   "id": "5e7ccb18",
   "metadata": {},
   "source": [
    "### (b) Regresión de Chow"
   ]
  },
  {
   "cell_type": "code",
   "execution_count": null,
   "id": "02a20fb8",
   "metadata": {},
   "outputs": [],
   "source": [
    "# Objetos para regresión\n",
    "feats = ['CONST','D_61','D_62','D_63','D_64','D_65','LNMULT','LNMEM','LNACCESS']\n",
    "targt = 'LNRENT'\n",
    "X = df.loc[df['YEAR'].ge(60), feats]\n",
    "y = df.loc[df['YEAR'].ge(60), targt]\n",
    "\n",
    "# Modelo de Chow\n",
    "m1 = sm.OLS(endog=y, exog=X)\n",
    "m1_res = m1.fit()"
   ]
  },
  {
   "cell_type": "code",
   "execution_count": null,
   "id": "fcbc2fa4",
   "metadata": {},
   "outputs": [],
   "source": [
    "print(m1_res.summary().tables[1])\n",
    "print('Observations:', int(m1_res.nobs))\n",
    "print('R2:', round(m1_res.rsquared, 3))"
   ]
  },
  {
   "cell_type": "markdown",
   "id": "2dde9779",
   "metadata": {},
   "source": [
    "Índice de precios usando método alternativo"
   ]
  },
  {
   "cell_type": "code",
   "execution_count": null,
   "id": "13968c28",
   "metadata": {},
   "outputs": [],
   "source": [
    "t = pd.concat([pd.Series([1], ['D_60']), np.exp(m1_res.params['D_61':'D_65'])]).to_frame()\n",
    "t.columns=['Price Index (exp)']\n",
    "t['Price Index (Chow)'] = [1,.8438,.6414,.5330,.3906,.3188]\n",
    "t.round(4)"
   ]
  },
  {
   "cell_type": "code",
   "execution_count": null,
   "id": "4dc44377",
   "metadata": {},
   "outputs": [],
   "source": [
    "plt.plot(t.index, t['Price Index (exp)'], label='Coeficientes exponenciados')\n",
    "plt.plot(t.index, t['Price Index (Chow)'], label='Método Chow')\n",
    "plt.xticks(t.index, labels=range(1960,1966), rotation=45, fontsize=12)\n",
    "plt.xlabel('Año', fontsize=12)\n",
    "plt.ylabel('Índice de precios (base 1960)', fontsize=12)\n",
    "plt.legend()\n",
    "plt.show()"
   ]
  },
  {
   "cell_type": "markdown",
   "id": "d6096be9",
   "metadata": {},
   "source": [
    "El índice de precios usando el método de exponenciar los coeficientes de efectos fijos por año da resultados muy similares al método de Chow. Ambas series muestran la misma tendencia a la baja y las diferencias son negligibles."
   ]
  },
  {
   "cell_type": "markdown",
   "id": "273b7fac",
   "metadata": {},
   "source": [
    "### (c) Especificación alternativa\n",
    "Prueba de que la especificación de Chow asume que el logaritmo `BINARY * DIGITS` y de `WORDS` tienen la misma pendiente:\n",
    "$$\\beta \\ln(MEM) = \\beta \\ln(WORDS \\times BINARY \\times DIGITS) = \\beta \\ln(WORDS) + \\beta \\ln(BINARY \\times DIGITS)$$"
   ]
  },
  {
   "cell_type": "code",
   "execution_count": null,
   "id": "739ac1b6",
   "metadata": {},
   "outputs": [],
   "source": [
    "# Separar LNMEM en dos términos independientes\n",
    "df = df.assign(LNLENGTH=np.log(df['BINARY'].multiply(df['DIGITS'])),\n",
    "               LNWORDS=np.log(df['WORDS']))\n",
    "\n",
    "# Objetos para regresión\n",
    "feats = ['CONST','D_61','D_62','D_63','D_64','D_65','LNMULT','LNLENGTH','LNWORDS','LNACCESS']\n",
    "X = df.loc[df['YEAR'].ge(60), feats]\n",
    "y = df.loc[df['YEAR'].ge(60), 'LNRENT']\n",
    "\n",
    "# Modelo alternativo\n",
    "m2 = sm.OLS(y, X)\n",
    "m2_res = m2.fit()\n",
    "print(m2_res.summary().tables[1])"
   ]
  },
  {
   "cell_type": "markdown",
   "id": "5f942ad4",
   "metadata": {},
   "source": [
    "Probar si los coeficientes son distintos entre sí:"
   ]
  },
  {
   "cell_type": "code",
   "execution_count": null,
   "id": "9ad78492",
   "metadata": {},
   "outputs": [],
   "source": [
    "print('R2 adj de modelo 1:', round(m1_res.rsquared_adj, 4))\n",
    "print('R2 adj de modelo 2:', round(m1_res.rsquared_adj, 4))\n",
    "\n",
    "# Probar si los coeficientes son distintos\n",
    "m2_res.t_test([0,0,0,0,0,0,0,1,-1,0]).summary()"
   ]
  },
  {
   "cell_type": "markdown",
   "id": "04f26773",
   "metadata": {},
   "source": [
    "Ambas especificaciones resultan en prácticamente el mismo coeficiente $R^2$ adjustado, así que la especificación no tienen un impacto sobre el desempeño predictivo del modelo. Sin embargo, los coeficientes de `LNLENGTH` y de `LNWORDS` son muy parecidos y no podemos rechazar la hipótesis nula de que tengan el mismo efecto sobre la variable dependiente.\n",
    "\n",
    "Por cuestiones de parsimonía, prefiero el primer modelo."
   ]
  },
  {
   "cell_type": "markdown",
   "id": "d3e26f5a",
   "metadata": {},
   "source": [
    "### (d) Efectos fijos sin término constante\n",
    "Usar todas las observaciones y crear efectos fijos por año (sin constante)"
   ]
  },
  {
   "cell_type": "code",
   "execution_count": null,
   "id": "48450d12",
   "metadata": {},
   "outputs": [],
   "source": [
    "# Objetos para regresión\n",
    "X = pd.concat([pd.get_dummies(df['YEAR'], prefix='D'), df[['LNMULT','LNMEM','LNACCESS']]], axis=1)\n",
    "y = df['LNRENT']\n",
    "\n",
    "# Modelo\n",
    "m3 = sm.OLS(y, X)\n",
    "m3_res = m3.fit()\n",
    "print(m3_res.summary().tables[1])"
   ]
  },
  {
   "cell_type": "code",
   "execution_count": null,
   "id": "440c8d58",
   "metadata": {},
   "outputs": [],
   "source": [
    "t = np.exp(m3_res.params['D_54':'D_65'] - m3_res.params['D_54']).to_frame()\n",
    "t.columns = ['Price Index (base 1954)']\n",
    "t['Price Index (base 1965)'] = t['Price Index (base 1954)'].div(t.loc['D_65'].item())\n",
    "(t * 100).round(0)"
   ]
  },
  {
   "cell_type": "markdown",
   "id": "c12b959c",
   "metadata": {},
   "source": [
    "La segunda columna es igual a la primera salvo porque renormalicé la serie a 1965.\n",
    "\n",
    "Con respecto a la serie de Triplett, mis estimaciones resultan en índices más bajos. Por ejemplo, en 1954, el precio de una computadora era 10 veces el índice de 1965. De acuerdo a los coeficientes estimados por Triplett, el precio de la misma computadora era 13.20 veces el precio de 1965."
   ]
  },
  {
   "cell_type": "markdown",
   "id": "a1156179",
   "metadata": {},
   "source": [
    "### (e) Heteroscedasticidad"
   ]
  },
  {
   "cell_type": "code",
   "execution_count": null,
   "id": "a7bb0368",
   "metadata": {},
   "outputs": [],
   "source": [
    "# Objetos para regresión\n",
    "w = np.sqrt(df.loc[df['YEAR'].ge(60), 'VOLUME'])\n",
    "X = df.loc[df['YEAR'].ge(60), m1.exog_names]\n",
    "y = df.loc[df['YEAR'].ge(60), 'LNRENT']\n",
    "\n",
    "# Modelo\n",
    "m4 = sm.OLS(y, X.multiply(w, axis=0), hasconst=True)\n",
    "m4_res = m4.fit()\n",
    "print(m4_res.summary().tables[1])"
   ]
  },
  {
   "cell_type": "markdown",
   "id": "70da1c84",
   "metadata": {},
   "source": [
    "Me parece que este método no es correcto porque el libro muestra un ejemplo donde $Y_i$ es el precio promedio del modelo $i$ en la siguiente especificación:\n",
    "$$Y_i = \\beta_0 + \\beta_1 X_{1,i} + ... + u_i$$\n",
    "\n",
    "Nuestra especificación usa $\\ln(Y_i)$ como variable dependiente, la cual no es una transformación lineal. Es decir, $\\sqrt{S_m} \\ \\times \\ln(Y_i) \\neq \\ln\\big(Y_i \\times \\sqrt{S_m} \\ \\big)$.\n",
    "\n",
    "Solo deberíamos de aplicar esta transformación cuando modelamos el precio de las computadoras, no el logaritmo del precio.\n",
    "\n",
    "Como se muestra a continuación, el método que no usa este atajo coincide casi puntualmente con la estimación original salvo que los errores estándar son más grandes en la mayoría de los casos."
   ]
  },
  {
   "cell_type": "code",
   "execution_count": null,
   "id": "a1374ae2",
   "metadata": {},
   "outputs": [],
   "source": [
    "m5 = sm.OLS(y, X, weights=w).fit()\n",
    "print(m5.summary().tables[1])"
   ]
  },
  {
   "cell_type": "markdown",
   "id": "72615f0f",
   "metadata": {},
   "source": [
    "## Ejercicio 4: IBM\n",
    "Cargar datos"
   ]
  },
  {
   "cell_type": "code",
   "execution_count": 2,
   "id": "f16f0c88",
   "metadata": {},
   "outputs": [],
   "source": [
    "df = pd.read_csv('../dat/cole.txt', sep='\\t')"
   ]
  },
  {
   "cell_type": "markdown",
   "id": "39bc68af",
   "metadata": {},
   "source": [
    "### (a) Regresión\n",
    "La pregunta indica que tengo que usar los datos viejos."
   ]
  },
  {
   "cell_type": "code",
   "execution_count": 3,
   "id": "ef7983bc",
   "metadata": {},
   "outputs": [
    {
     "name": "stdout",
     "output_type": "stream",
     "text": [
      "==============================================================================\n",
      "                 coef    std err          t      P>|t|      [0.025      0.975]\n",
      "------------------------------------------------------------------------------\n",
      "CONST          9.4803      0.739     12.830      0.000       8.009      10.952\n",
      "D73            0.0531      0.121      0.438      0.663      -0.189       0.295\n",
      "D74           -0.1828      0.115     -1.588      0.116      -0.412       0.046\n",
      "D75           -0.2743      0.115     -2.381      0.020      -0.504      -0.045\n",
      "D76           -0.3861      0.111     -3.482      0.001      -0.607      -0.165\n",
      "D77           -0.3916      0.123     -3.187      0.002      -0.636      -0.147\n",
      "D78           -0.5500      0.169     -3.263      0.002      -0.886      -0.214\n",
      "D79           -0.7449      0.169     -4.419      0.000      -1.081      -0.409\n",
      "D80           -0.9365      0.162     -5.779      0.000      -1.259      -0.614\n",
      "D81           -0.9455      0.161     -5.889      0.000      -1.265      -0.626\n",
      "D82           -0.9334      0.169     -5.513      0.000      -1.271      -0.596\n",
      "D83           -1.0893      0.184     -5.925      0.000      -1.455      -0.723\n",
      "D84           -1.1678      0.189     -6.193      0.000      -1.543      -0.792\n",
      "LNOLDSP        0.4108      0.123      3.343      0.001       0.166       0.656\n",
      "LNCAP          0.4558      0.078      5.840      0.000       0.300       0.611\n",
      "==============================================================================\n",
      "R2: 0.8438665464110455\n"
     ]
    }
   ],
   "source": [
    "# Nuevas columnas\n",
    "df = df.assign(CONST=1,\n",
    "               LNOLDPR=np.log(df['OLDPR']),\n",
    "               LNPRICE=np.log(df['PRICE']),\n",
    "               LNOLDSP=np.log(df['OLDSP']),\n",
    "               LNSPEED=np.log(df['SPEED']),\n",
    "               LNCAP=np.log(df['CAP']))\n",
    "\n",
    "# Objetos para regresión\n",
    "feats = ['CONST','D73','D74','D75','D76','D77','D78','D79','D80',\n",
    "         'D81','D82','D83','D84','LNOLDSP','LNCAP']\n",
    "X = df[feats]\n",
    "y = df['LNOLDPR']\n",
    "\n",
    "# Modelo\n",
    "m1 = sm.OLS(y, X).fit()\n",
    "print(m1.summary().tables[1])\n",
    "print('R2:', m1.rsquared)"
   ]
  },
  {
   "cell_type": "markdown",
   "id": "1a1d594c",
   "metadata": {},
   "source": [
    "### (b) Misma regresión usando nuevos datos"
   ]
  },
  {
   "cell_type": "code",
   "execution_count": 4,
   "id": "7ea68e00",
   "metadata": {},
   "outputs": [
    {
     "name": "stdout",
     "output_type": "stream",
     "text": [
      "==============================================================================\n",
      "                 coef    std err          t      P>|t|      [0.025      0.975]\n",
      "------------------------------------------------------------------------------\n",
      "CONST          9.4283      0.757     12.459      0.000       7.921      10.936\n",
      "D73            0.0160      0.121      0.132      0.896      -0.225       0.257\n",
      "D74           -0.2177      0.115     -1.891      0.062      -0.447       0.012\n",
      "D75           -0.3092      0.115     -2.685      0.009      -0.539      -0.080\n",
      "D76           -0.4173      0.111     -3.764      0.000      -0.638      -0.197\n",
      "D77           -0.4167      0.123     -3.387      0.001      -0.662      -0.172\n",
      "D78           -0.5740      0.169     -3.399      0.001      -0.910      -0.238\n",
      "D79           -0.7689      0.169     -4.553      0.000      -1.105      -0.433\n",
      "D80           -0.9602      0.162     -5.915      0.000      -1.283      -0.637\n",
      "D81           -0.9670      0.161     -6.014      0.000      -1.287      -0.647\n",
      "D82           -0.9537      0.170     -5.626      0.000      -1.291      -0.616\n",
      "D83           -1.1017      0.184     -5.988      0.000      -1.468      -0.735\n",
      "D84           -1.1812      0.189     -6.259      0.000      -1.557      -0.805\n",
      "LNSPEED        0.3909      0.126      3.092      0.003       0.139       0.643\n",
      "LNCAP          0.4588      0.079      5.794      0.000       0.301       0.616\n",
      "==============================================================================\n",
      "R2: 0.8383458867355523\n"
     ]
    }
   ],
   "source": [
    "feats = ['CONST','D73','D74','D75','D76','D77','D78','D79','D80',\n",
    "         'D81','D82','D83','D84','LNSPEED','LNCAP']\n",
    "X = df[feats]\n",
    "y = df['LNPRICE']\n",
    "\n",
    "# Modelo nuevo\n",
    "m2 = sm.OLS(y, X).fit()\n",
    "print(m2.summary().tables[1])\n",
    "print('R2:', m2.rsquared)"
   ]
  },
  {
   "cell_type": "markdown",
   "id": "1a07f8ee",
   "metadata": {},
   "source": [
    "Todos los coeficientes se mantienen cercanos a lo que solían ser. En particular, los coeficientes estimados en la vieja y nueva regresión resultan en que las mismas variables tienen un efecto estadísticamente significativo.\n",
    "\n",
    "El efecto marginal de `LNSPEED` bajo, pero no mucho."
   ]
  },
  {
   "cell_type": "markdown",
   "id": "99ef2744",
   "metadata": {},
   "source": [
    "### (c) Homogeneidad\n",
    "$H_0$: $\\beta_{lnspeed} + \\beta_{lncap} = 1$\n",
    "\n",
    "$H_1$: $\\beta_{lnspeed} + \\beta_{lncap} \\neq 1$"
   ]
  },
  {
   "cell_type": "code",
   "execution_count": 5,
   "id": "44648fa2",
   "metadata": {},
   "outputs": [
    {
     "data": {
      "text/plain": [
       "<class 'statsmodels.stats.contrast.ContrastResults'>\n",
       "                             Test for Constraints                             \n",
       "==============================================================================\n",
       "                 coef    std err          t      P>|t|      [0.025      0.975]\n",
       "------------------------------------------------------------------------------\n",
       "c0             0.8497      0.074     11.430      0.000       0.702       0.998\n",
       "=============================================================================="
      ]
     },
     "execution_count": 5,
     "metadata": {},
     "output_type": "execute_result"
    }
   ],
   "source": [
    "m2.t_test(np.zeros(len(m2.params)-2).astype(int).tolist() + [1, 1])"
   ]
  },
  {
   "cell_type": "markdown",
   "id": "6b4f192d",
   "metadata": {},
   "source": [
    "Podemos rechazar la hipótesis nula de que los coeficientes sean iguales a uno. Esto significa que al multiplicar ambas variables por $\\lambda$, el precio se multiplicaría por un factor menor a $\\lambda$."
   ]
  },
  {
   "cell_type": "markdown",
   "id": "e8ed007d",
   "metadata": {},
   "source": [
    "### (d) Efectos anuales constantes\n",
    "Si reemplazamos los efectos fijos anuales por una sola columna de tiempo, estamos asumiendo que el paso del tiempo tiene rendimientos constantes sobre el logaritmo del precio porque estamos estimando un solo coeficiente."
   ]
  },
  {
   "cell_type": "code",
   "execution_count": 6,
   "id": "3ed2a853",
   "metadata": {},
   "outputs": [
    {
     "name": "stdout",
     "output_type": "stream",
     "text": [
      "==============================================================================\n",
      "                 coef    std err          t      P>|t|      [0.025      0.975]\n",
      "------------------------------------------------------------------------------\n",
      "CONST          9.7808      0.639     15.298      0.000       8.510      11.052\n",
      "TIME          -0.1052      0.012     -8.424      0.000      -0.130      -0.080\n",
      "LNSPEED        0.4343      0.109      3.988      0.000       0.218       0.651\n",
      "LNCAP          0.4428      0.066      6.745      0.000       0.312       0.573\n",
      "==============================================================================\n"
     ]
    }
   ],
   "source": [
    "# Nueva variable de rendimientos constantes\n",
    "df['TIME'] = df['YEAR'] - 1971\n",
    "\n",
    "# Objetos para regresión\n",
    "X = df[['CONST','TIME','LNSPEED','LNCAP']]\n",
    "y = df['LNPRICE']\n",
    "\n",
    "# Modelo\n",
    "m3 = sm.OLS(y, X).fit()\n",
    "print(m3.summary().tables[1])"
   ]
  },
  {
   "cell_type": "markdown",
   "id": "bf7a2751",
   "metadata": {},
   "source": [
    "Haré la prueba $F$ de que todos los coeficientes sean iguales al $\\beta_{time}$ del modelo restringido."
   ]
  },
  {
   "cell_type": "code",
   "execution_count": 7,
   "id": "95611bac",
   "metadata": {},
   "outputs": [
    {
     "name": "stdout",
     "output_type": "stream",
     "text": [
      "F-stat: 6.1991\n",
      "p-value: 0.0\n"
     ]
    }
   ],
   "source": [
    "# Efecto marginal anual\n",
    "b = m3.params['TIME']\n",
    "\n",
    "# Matriz de restricciones\n",
    "L = np.matrix([[0,1-b,0,0,0,0,0,0,0,0,0,0,0,0,0],\n",
    "               [0,0,1-b,0,0,0,0,0,0,0,0,0,0,0,0],\n",
    "               [0,0,0,1-b,0,0,0,0,0,0,0,0,0,0,0],\n",
    "               [0,0,0,0,1-b,0,0,0,0,0,0,0,0,0,0],\n",
    "               [0,0,0,0,0,1-b,0,0,0,0,0,0,0,0,0],\n",
    "               [0,0,0,0,0,0,1-b,0,0,0,0,0,0,0,0],\n",
    "               [0,0,0,0,0,0,0,1-b,0,0,0,0,0,0,0],\n",
    "               [0,0,0,0,0,0,0,0,1-b,0,0,0,0,0,0],\n",
    "               [0,0,0,0,0,0,0,0,0,1-b,0,0,0,0,0],\n",
    "               [0,0,0,0,0,0,0,0,0,0,1-b,0,0,0,0],\n",
    "               [0,0,0,0,0,0,0,0,0,0,0,1-b,0,0,0],\n",
    "               [0,0,0,0,0,0,0,0,0,0,0,0,1-b,0,0]])\n",
    "\n",
    "# Prueba\n",
    "f = m2.f_test(L)\n",
    "print('F-stat:', round(f.statistic.item(), 4))\n",
    "print('p-value:', round(f.pvalue.item(), 4))"
   ]
  },
  {
   "cell_type": "markdown",
   "id": "ab8fb977",
   "metadata": {},
   "source": [
    "Podemos rechazar la hipótesis de que los rendimientos marginales sobre el tiempo sean constantes e iguales al coeficiente del modelo del inciso anterior."
   ]
  },
  {
   "cell_type": "markdown",
   "id": "a9a58079",
   "metadata": {},
   "source": [
    "## Ejercicio 5: Estabilidad de precios hedónicos\n",
    "Definir función para comparar modelo restringido contra no restringido:"
   ]
  },
  {
   "cell_type": "code",
   "execution_count": 46,
   "id": "f521d5d6",
   "metadata": {},
   "outputs": [],
   "source": [
    "def f_test(unrest, rest):\n",
    "    ussr = np.power(unrest.resid, 2).sum()\n",
    "    rssr = np.power(rest.resid, 2).sum()\n",
    "    n = rest.nobs\n",
    "    k = len(unrest.params)\n",
    "    q = k - len(np.intersect1d(unrest.params.index, rest.params.index))\n",
    "    f = ((rssr - ussr) / q) / (ussr / (n - k))\n",
    "    p = stats.f(dfn=q, dfd=n - k).sf(f)\n",
    "    return (f, q, n - k, p)"
   ]
  },
  {
   "cell_type": "markdown",
   "id": "dd19903f",
   "metadata": {},
   "source": [
    "Reconstruir datos de pregunta 3"
   ]
  },
  {
   "cell_type": "code",
   "execution_count": 23,
   "id": "57b6376d",
   "metadata": {},
   "outputs": [],
   "source": [
    "# Leer datos\n",
    "df = pd.read_csv('../dat/chow.txt', sep='\\t')\n",
    "\n",
    "# Agregar término constante\n",
    "df['CONST'] = 1\n",
    "\n",
    "# Crear atributos logarítmicos\n",
    "for col in ['RENT','MULT','ACCESS','ADD']:\n",
    "    df['LN'+col] = np.log(df[col])\n",
    "    \n",
    "# Crear Memory Space\n",
    "df['LNMEM'] = np.log(df[['WORDS','BINARY','DIGITS']].product(axis=1))\n",
    "\n",
    "# Crear dummies por año\n",
    "df['D'] = df['YEAR']\n",
    "df = pd.get_dummies(df, prefix='D', prefix_sep='_', columns=['D'], drop_first=False)"
   ]
  },
  {
   "cell_type": "markdown",
   "id": "9baa4584",
   "metadata": {},
   "source": [
    "### (a) Regresiones 60-65"
   ]
  },
  {
   "cell_type": "markdown",
   "id": "e36250cc",
   "metadata": {},
   "source": [
    "Modelo restringido"
   ]
  },
  {
   "cell_type": "code",
   "execution_count": 24,
   "id": "2e4b1e07",
   "metadata": {},
   "outputs": [],
   "source": [
    "# Objetos para regresión\n",
    "feats = ['CONST','D_61','D_62','D_63','D_64','D_65','LNMULT','LNMEM','LNACCESS']\n",
    "targt = 'LNRENT'\n",
    "X = df.loc[df['YEAR'].ge(60), feats]\n",
    "y = df.loc[df['YEAR'].ge(60), targt]\n",
    "\n",
    "# Modelo restringido\n",
    "m1 = sm.OLS(endog=y, exog=X).fit()"
   ]
  },
  {
   "cell_type": "markdown",
   "id": "fe993845",
   "metadata": {},
   "source": [
    "Modelo no restringido"
   ]
  },
  {
   "cell_type": "code",
   "execution_count": 27,
   "id": "85798606",
   "metadata": {},
   "outputs": [
    {
     "name": "stdout",
     "output_type": "stream",
     "text": [
      "===============================================================================\n",
      "                  coef    std err          t      P>|t|      [0.025      0.975]\n",
      "-------------------------------------------------------------------------------\n",
      "CONST           1.2047      1.381      0.872      0.387      -1.560       3.970\n",
      "D_61           -1.1999      1.755     -0.684      0.497      -4.713       2.313\n",
      "D_62           -3.6092      1.683     -2.145      0.036      -6.978      -0.241\n",
      "D_63           -2.0055      1.651     -1.215      0.229      -5.311       1.300\n",
      "D_64           -2.7946      1.524     -1.833      0.072      -5.846       0.256\n",
      "D_65           -2.5584      1.461     -1.751      0.085      -5.482       0.366\n",
      "LNMULT         -0.1523      0.091     -1.678      0.099      -0.334       0.029\n",
      "LNMEM           0.4234      0.162      2.619      0.011       0.100       0.747\n",
      "LNACCESS       -0.1208      0.070     -1.713      0.092      -0.262       0.020\n",
      "LNMULT_61       0.0908      0.124      0.732      0.467      -0.157       0.339\n",
      "LNMEM_61        0.1273      0.204      0.623      0.536      -0.282       0.536\n",
      "LNACCESS_61    -0.0547      0.093     -0.590      0.557      -0.240       0.131\n",
      "LNMULT_62       0.2309      0.145      1.590      0.117      -0.060       0.522\n",
      "LNMEM_62        0.4031      0.203      1.987      0.052      -0.003       0.809\n",
      "LNACCESS_62    -0.1363      0.117     -1.162      0.250      -0.371       0.098\n",
      "LNMULT_63       0.0848      0.133      0.640      0.525      -0.181       0.350\n",
      "LNMEM_63        0.1516      0.191      0.792      0.432      -0.232       0.535\n",
      "LNACCESS_63     0.0796      0.186      0.428      0.670      -0.292       0.452\n",
      "LNMULT_64       0.0037      0.112      0.033      0.974      -0.221       0.229\n",
      "LNMEM_64        0.2633      0.188      1.403      0.166      -0.112       0.639\n",
      "LNACCESS_64     0.1620      0.150      1.081      0.284      -0.138       0.462\n",
      "LNMULT_65       0.1112      0.110      1.016      0.314      -0.108       0.330\n",
      "LNMEM_65        0.1544      0.174      0.887      0.379      -0.194       0.503\n",
      "LNACCESS_65    -0.0258      0.106     -0.244      0.808      -0.237       0.186\n",
      "===============================================================================\n"
     ]
    }
   ],
   "source": [
    "# Objetos para regresión\n",
    "x = ['CONST','D_61','D_62','D_63','D_64','D_65','LNMULT','LNMEM','LNACCESS']\n",
    "X = df.loc[df['YEAR'].ge(60), x].copy()\n",
    "for year in range(61,66):\n",
    "    y = str(year)\n",
    "    f = ['LNMULT','LNMEM','LNACCESS']\n",
    "    X[['LNMULT_'+y,'LNMEM_'+y,'LNACCESS_'+y]] = X[f].multiply(X['D_'+y], axis=0)\n",
    "y = df.loc[df['YEAR'].ge(60), 'LNRENT']\n",
    "\n",
    "# Regresión\n",
    "m2 = sm.OLS(endog=y, exog=X).fit()\n",
    "print(m2.summary().tables[1])"
   ]
  },
  {
   "cell_type": "markdown",
   "id": "054c1c44",
   "metadata": {},
   "source": [
    "Prueba F"
   ]
  },
  {
   "cell_type": "code",
   "execution_count": 47,
   "id": "c4dad559",
   "metadata": {},
   "outputs": [
    {
     "data": {
      "text/plain": [
       "(0.7431887126370076, 15, 58.0, 0.7312392203957196)"
      ]
     },
     "execution_count": 47,
     "metadata": {},
     "output_type": "execute_result"
    }
   ],
   "source": [
    "f_test(unrest=m2, rest=m1)"
   ]
  },
  {
   "cell_type": "markdown",
   "id": "c758babf",
   "metadata": {},
   "source": [
    "El estadístico $F$ es 0.74 y la probabilidad de observar un resultado así o más extremo dada la hipótesis nula es 0.73.\n",
    "\n",
    "Por ende, no rechazo que todas las pendientes sean iguales simultaneamente."
   ]
  },
  {
   "cell_type": "markdown",
   "id": "86872e58",
   "metadata": {},
   "source": [
    "### (b) Regresiones 55-65\n",
    "Modelo no restringido"
   ]
  },
  {
   "cell_type": "code",
   "execution_count": 50,
   "id": "4a3f2ac4",
   "metadata": {},
   "outputs": [
    {
     "name": "stdout",
     "output_type": "stream",
     "text": [
      "===============================================================================\n",
      "                  coef    std err          t      P>|t|      [0.025      0.975]\n",
      "-------------------------------------------------------------------------------\n",
      "CONST           2.5659      2.542      1.009      0.321      -2.619       7.750\n",
      "D_55           -0.4309      2.983     -0.144      0.886      -6.514       5.652\n",
      "D_56           -1.8915      2.776     -0.681      0.501      -7.553       3.770\n",
      "D_57           -1.5191      3.010     -0.505      0.617      -7.659       4.620\n",
      "D_58           -0.9850      2.746     -0.359      0.722      -6.586       4.616\n",
      "D_59           -0.0765      2.650     -0.029      0.977      -5.482       5.329\n",
      "LNMULT         -0.0872      0.207     -0.421      0.677      -0.509       0.335\n",
      "LNMEM           0.2751      0.279      0.987      0.331      -0.293       0.844\n",
      "LNACCESS       -0.1465      0.094     -1.553      0.130      -0.339       0.046\n",
      "LNMULT_55       0.0841      0.239      0.351      0.728      -0.404       0.572\n",
      "LNMEM_55        0.1449      0.332      0.436      0.666      -0.532       0.822\n",
      "LNACCESS_55    -0.1333      0.121     -1.106      0.277      -0.379       0.113\n",
      "LNMULT_56       0.1839      0.234      0.786      0.438      -0.293       0.661\n",
      "LNMEM_56        0.2374      0.301      0.789      0.436      -0.377       0.851\n",
      "LNACCESS_56    -0.1399      0.118     -1.191      0.243      -0.380       0.100\n",
      "LNMULT_57       0.0615      0.264      0.233      0.817      -0.477       0.600\n",
      "LNMEM_57        0.2406      0.312      0.771      0.446      -0.396       0.877\n",
      "LNACCESS_57    -0.0543      0.127     -0.428      0.672      -0.313       0.205\n",
      "LNMULT_58       0.0229      0.225      0.102      0.920      -0.436       0.482\n",
      "LNMEM_58        0.1524      0.296      0.515      0.610      -0.451       0.756\n",
      "LNACCESS_58    -0.0593      0.114     -0.522      0.605      -0.291       0.172\n",
      "LNMULT_59      -0.1244      0.220     -0.566      0.575      -0.572       0.323\n",
      "LNMEM_59        0.0811      0.290      0.280      0.781      -0.510       0.672\n",
      "LNACCESS_59     0.0195      0.116      0.168      0.867      -0.217       0.256\n",
      "===============================================================================\n"
     ]
    }
   ],
   "source": [
    "# Objetos para regresión\n",
    "x = ['CONST','D_55','D_56','D_57','D_58','D_59','LNMULT','LNMEM','LNACCESS']\n",
    "X = df.loc[df['YEAR'].lt(60), x].copy()\n",
    "for year in range(55,60):\n",
    "    y = str(year)\n",
    "    f = ['LNMULT','LNMEM','LNACCESS']\n",
    "    X[['LNMULT_'+y,'LNMEM_'+y,'LNACCESS_'+y]] = X[f].multiply(X['D_'+y], axis=0)\n",
    "y = df.loc[df['YEAR'].lt(60), 'LNRENT']\n",
    "\n",
    "# Regresión\n",
    "m3 = sm.OLS(endog=y, exog=X).fit()\n",
    "print(m3.summary().tables[1])"
   ]
  },
  {
   "cell_type": "markdown",
   "id": "b16d6970",
   "metadata": {},
   "source": [
    "Modelo restringido"
   ]
  },
  {
   "cell_type": "code",
   "execution_count": 57,
   "id": "545eca98",
   "metadata": {},
   "outputs": [],
   "source": [
    "X = df.loc[df['YEAR'].lt(60), ['CONST','D_55','D_56','D_57','D_58','D_59','LNMULT','LNMEM','LNACCESS']]\n",
    "y = df.loc[df['YEAR'].lt(60), 'LNRENT']\n",
    "m4 = sm.OLS(y, X).fit()"
   ]
  },
  {
   "cell_type": "markdown",
   "id": "67dacb73",
   "metadata": {},
   "source": [
    "Prueba F"
   ]
  },
  {
   "cell_type": "code",
   "execution_count": 60,
   "id": "dc9e33bf",
   "metadata": {},
   "outputs": [
    {
     "data": {
      "text/plain": [
       "(0.8324101264948284, 15, 31.0, 0.6372982082554904)"
      ]
     },
     "execution_count": 60,
     "metadata": {},
     "output_type": "execute_result"
    }
   ],
   "source": [
    "f_test(unrest=m3, rest=m4)"
   ]
  },
  {
   "cell_type": "markdown",
   "id": "e532d097",
   "metadata": {},
   "source": [
    "El estadístico $F$ de la prueba es 0.83 y el $p$-value es 0.63.\n",
    "\n",
    "Por ende, no rechazo que las pendientes sean iguales en este periodo."
   ]
  },
  {
   "cell_type": "markdown",
   "id": "12ec8674",
   "metadata": {},
   "source": [
    "### (c) Regresiones 54-65"
   ]
  },
  {
   "cell_type": "code",
   "execution_count": null,
   "id": "b9fcc598",
   "metadata": {},
   "outputs": [],
   "source": [
    "# Objetos para regresión\n",
    "x = ['CONST'] + ['D_' + str(i) for i in range(55,66)] + ['LNMULT','LNMEM','LNACCESS']\n",
    "X = df[x].copy()\n",
    "for year in range(55,66):\n",
    "    y = str(year)\n",
    "    f = ['LNMULT','LNMEM','LNACCESS']\n",
    "    X[['LNMULT_'+y,'LNMEM_'+y,'LNACCESS_'+y]] = X[f].multiply(X['D_'+y], axis=0)\n",
    "X.drop(columns=['LNMULT','LNMEM','LNACCESS'], axis=1, inplace=True)\n",
    "y = df['LNRENT']\n",
    "\n",
    "# Regresión\n",
    "m4 = sm.OLS(endog=y, exog=X).fit()\n",
    "print(m4.summary().tables[1])"
   ]
  },
  {
   "cell_type": "markdown",
   "id": "e63ad000",
   "metadata": {},
   "source": [
    "Prueba F"
   ]
  },
  {
   "cell_type": "code",
   "execution_count": null,
   "id": "dc1423cd",
   "metadata": {},
   "outputs": [],
   "source": []
  },
  {
   "cell_type": "markdown",
   "id": "8d31ed05",
   "metadata": {},
   "source": [
    "### (d) Heteroscedasticidad\n",
    "Heteroscedasticidad en periodo 54-60"
   ]
  },
  {
   "cell_type": "code",
   "execution_count": null,
   "id": "a173bfc3",
   "metadata": {},
   "outputs": [],
   "source": [
    "X = df.loc[df['YEAR'].lt(60), ['D_55','D_56','D_57','D_58','D_59','D_60']]\n",
    "sm.stats.diagnostic.het_breuschpagan(resid=m3.resid, exog_het=X)"
   ]
  },
  {
   "cell_type": "markdown",
   "id": "4aad7bcd",
   "metadata": {},
   "source": [
    "El p-value del estadístico F es 0.99. Entonces no puedo rechazar la hipótesis de que los errores sean homoscedásticos."
   ]
  },
  {
   "cell_type": "markdown",
   "id": "e4c1066a",
   "metadata": {},
   "source": [
    "Heteroscedasticidad en periodo 60-65"
   ]
  },
  {
   "cell_type": "code",
   "execution_count": null,
   "id": "7e7f6ad3",
   "metadata": {
    "scrolled": true
   },
   "outputs": [],
   "source": [
    "X = df.loc[df['YEAR'].ge(60), ['D_60','D_61','D_62','D_63','D_64','D_65']]\n",
    "sm.stats.diagnostic.het_breuschpagan(resid=m2.resid, exog_het=X)"
   ]
  },
  {
   "cell_type": "markdown",
   "id": "2faf73cd",
   "metadata": {},
   "source": [
    "El p-value del estadístico F es 0.28. Como sigue siendo mayor a 0.05, no puedo rechazar la hipótesis de homoscedasticidad."
   ]
  },
  {
   "cell_type": "code",
   "execution_count": null,
   "id": "94629d92",
   "metadata": {},
   "outputs": [],
   "source": []
  },
  {
   "cell_type": "markdown",
   "id": "a9c761cb",
   "metadata": {},
   "source": [
    "## Ejercicio 6: Índice encadenado"
   ]
  },
  {
   "cell_type": "code",
   "execution_count": null,
   "id": "0284e9b9",
   "metadata": {},
   "outputs": [],
   "source": []
  },
  {
   "cell_type": "markdown",
   "id": "27a4e688",
   "metadata": {},
   "source": [
    "## Ejercicio 7: Box-Cox"
   ]
  },
  {
   "cell_type": "code",
   "execution_count": null,
   "id": "9f32eb1f",
   "metadata": {},
   "outputs": [],
   "source": []
  }
 ],
 "metadata": {
  "kernelspec": {
   "display_name": "Python 3",
   "language": "python",
   "name": "python3"
  },
  "language_info": {
   "codemirror_mode": {
    "name": "ipython",
    "version": 3
   },
   "file_extension": ".py",
   "mimetype": "text/x-python",
   "name": "python",
   "nbconvert_exporter": "python",
   "pygments_lexer": "ipython3",
   "version": "3.8.8"
  }
 },
 "nbformat": 4,
 "nbformat_minor": 5
}
