{
 "cells": [
  {
   "cell_type": "markdown",
   "id": "d74ad4a7",
   "metadata": {},
   "source": [
    "# Econometría Aplicada 1 (Taller) - Examen Final\n",
    "Importar librerías"
   ]
  },
  {
   "cell_type": "code",
   "execution_count": 1,
   "id": "98be54b7",
   "metadata": {},
   "outputs": [],
   "source": [
    "import numpy as np\n",
    "import pandas as pd\n",
    "from scipy import stats\n",
    "import statsmodels.api as sm\n",
    "import matplotlib.pyplot as plt\n",
    "plt.style.use('fivethirtyeight')"
   ]
  },
  {
   "cell_type": "markdown",
   "id": "c4252dbc",
   "metadata": {},
   "source": [
    "## Ejercicio 3: Índice hedónico de computadoras\n",
    "Cargar datos"
   ]
  },
  {
   "cell_type": "code",
   "execution_count": 148,
   "id": "90de866d",
   "metadata": {},
   "outputs": [],
   "source": [
    "df = pd.read_csv('../dat/chow.txt', sep='\\t')"
   ]
  },
  {
   "cell_type": "markdown",
   "id": "3245f9e1",
   "metadata": {},
   "source": [
    "### (a) Construcción de atributos\n",
    "Crear los atributos necesarios"
   ]
  },
  {
   "cell_type": "code",
   "execution_count": 149,
   "id": "dfee3926",
   "metadata": {},
   "outputs": [],
   "source": [
    "# Agregar término constante\n",
    "df['CONST'] = 1\n",
    "\n",
    "# Crear atributos logarítmicos\n",
    "for col in ['RENT','MULT','ACCESS','ADD']:\n",
    "    df['LN'+col] = np.log(df[col])\n",
    "    \n",
    "# Crear Memory Space\n",
    "df['LNMEM'] = np.log(df[['WORDS','BINARY','DIGITS']].product(axis=1))\n",
    "\n",
    "# Crear dummies por año (61, 62, ..., 65)\n",
    "df['D'] = np.where(df['YEAR'].lt(61), 60, df['YEAR'])\n",
    "df = pd.get_dummies(df, prefix='D', prefix_sep='_', columns=['D'], drop_first=True)"
   ]
  },
  {
   "cell_type": "markdown",
   "id": "002164ad",
   "metadata": {},
   "source": [
    "Comparación de matríces de correlación en los periodos\n",
    "- [1954-1959]"
   ]
  },
  {
   "cell_type": "code",
   "execution_count": 150,
   "id": "9d56d382",
   "metadata": {},
   "outputs": [
    {
     "data": {
      "text/html": [
       "<div>\n",
       "<style scoped>\n",
       "    .dataframe tbody tr th:only-of-type {\n",
       "        vertical-align: middle;\n",
       "    }\n",
       "\n",
       "    .dataframe tbody tr th {\n",
       "        vertical-align: top;\n",
       "    }\n",
       "\n",
       "    .dataframe thead th {\n",
       "        text-align: right;\n",
       "    }\n",
       "</style>\n",
       "<table border=\"1\" class=\"dataframe\">\n",
       "  <thead>\n",
       "    <tr style=\"text-align: right;\">\n",
       "      <th></th>\n",
       "      <th>LNRENT</th>\n",
       "      <th>LNMULT</th>\n",
       "      <th>LNACCESS</th>\n",
       "      <th>LNADD</th>\n",
       "      <th>LNMEM</th>\n",
       "    </tr>\n",
       "  </thead>\n",
       "  <tbody>\n",
       "    <tr>\n",
       "      <th>LNRENT</th>\n",
       "      <td>1.00</td>\n",
       "      <td>-0.87</td>\n",
       "      <td>-0.85</td>\n",
       "      <td>-0.84</td>\n",
       "      <td>0.88</td>\n",
       "    </tr>\n",
       "    <tr>\n",
       "      <th>LNMULT</th>\n",
       "      <td>-0.87</td>\n",
       "      <td>1.00</td>\n",
       "      <td>0.86</td>\n",
       "      <td>0.98</td>\n",
       "      <td>-0.74</td>\n",
       "    </tr>\n",
       "    <tr>\n",
       "      <th>LNACCESS</th>\n",
       "      <td>-0.85</td>\n",
       "      <td>0.86</td>\n",
       "      <td>1.00</td>\n",
       "      <td>0.85</td>\n",
       "      <td>-0.61</td>\n",
       "    </tr>\n",
       "    <tr>\n",
       "      <th>LNADD</th>\n",
       "      <td>-0.84</td>\n",
       "      <td>0.98</td>\n",
       "      <td>0.85</td>\n",
       "      <td>1.00</td>\n",
       "      <td>-0.73</td>\n",
       "    </tr>\n",
       "    <tr>\n",
       "      <th>LNMEM</th>\n",
       "      <td>0.88</td>\n",
       "      <td>-0.74</td>\n",
       "      <td>-0.61</td>\n",
       "      <td>-0.73</td>\n",
       "      <td>1.00</td>\n",
       "    </tr>\n",
       "  </tbody>\n",
       "</table>\n",
       "</div>"
      ],
      "text/plain": [
       "          LNRENT  LNMULT  LNACCESS  LNADD  LNMEM\n",
       "LNRENT      1.00   -0.87     -0.85  -0.84   0.88\n",
       "LNMULT     -0.87    1.00      0.86   0.98  -0.74\n",
       "LNACCESS   -0.85    0.86      1.00   0.85  -0.61\n",
       "LNADD      -0.84    0.98      0.85   1.00  -0.73\n",
       "LNMEM       0.88   -0.74     -0.61  -0.73   1.00"
      ]
     },
     "execution_count": 150,
     "metadata": {},
     "output_type": "execute_result"
    }
   ],
   "source": [
    "c1 = df.loc[df['YEAR'].between(54,59), 'LNRENT':'LNMEM'].corr()\n",
    "c1.round(2)"
   ]
  },
  {
   "cell_type": "markdown",
   "id": "b68f70dc",
   "metadata": {},
   "source": [
    "- [1960-1965]"
   ]
  },
  {
   "cell_type": "code",
   "execution_count": 151,
   "id": "4c74a709",
   "metadata": {},
   "outputs": [
    {
     "data": {
      "text/html": [
       "<div>\n",
       "<style scoped>\n",
       "    .dataframe tbody tr th:only-of-type {\n",
       "        vertical-align: middle;\n",
       "    }\n",
       "\n",
       "    .dataframe tbody tr th {\n",
       "        vertical-align: top;\n",
       "    }\n",
       "\n",
       "    .dataframe thead th {\n",
       "        text-align: right;\n",
       "    }\n",
       "</style>\n",
       "<table border=\"1\" class=\"dataframe\">\n",
       "  <thead>\n",
       "    <tr style=\"text-align: right;\">\n",
       "      <th></th>\n",
       "      <th>LNRENT</th>\n",
       "      <th>LNMULT</th>\n",
       "      <th>LNACCESS</th>\n",
       "      <th>LNADD</th>\n",
       "      <th>LNMEM</th>\n",
       "    </tr>\n",
       "  </thead>\n",
       "  <tbody>\n",
       "    <tr>\n",
       "      <th>LNRENT</th>\n",
       "      <td>1.00</td>\n",
       "      <td>-0.63</td>\n",
       "      <td>-0.58</td>\n",
       "      <td>-0.63</td>\n",
       "      <td>0.88</td>\n",
       "    </tr>\n",
       "    <tr>\n",
       "      <th>LNMULT</th>\n",
       "      <td>-0.63</td>\n",
       "      <td>1.00</td>\n",
       "      <td>0.77</td>\n",
       "      <td>0.94</td>\n",
       "      <td>-0.57</td>\n",
       "    </tr>\n",
       "    <tr>\n",
       "      <th>LNACCESS</th>\n",
       "      <td>-0.58</td>\n",
       "      <td>0.77</td>\n",
       "      <td>1.00</td>\n",
       "      <td>0.81</td>\n",
       "      <td>-0.46</td>\n",
       "    </tr>\n",
       "    <tr>\n",
       "      <th>LNADD</th>\n",
       "      <td>-0.63</td>\n",
       "      <td>0.94</td>\n",
       "      <td>0.81</td>\n",
       "      <td>1.00</td>\n",
       "      <td>-0.56</td>\n",
       "    </tr>\n",
       "    <tr>\n",
       "      <th>LNMEM</th>\n",
       "      <td>0.88</td>\n",
       "      <td>-0.57</td>\n",
       "      <td>-0.46</td>\n",
       "      <td>-0.56</td>\n",
       "      <td>1.00</td>\n",
       "    </tr>\n",
       "  </tbody>\n",
       "</table>\n",
       "</div>"
      ],
      "text/plain": [
       "          LNRENT  LNMULT  LNACCESS  LNADD  LNMEM\n",
       "LNRENT      1.00   -0.63     -0.58  -0.63   0.88\n",
       "LNMULT     -0.63    1.00      0.77   0.94  -0.57\n",
       "LNACCESS   -0.58    0.77      1.00   0.81  -0.46\n",
       "LNADD      -0.63    0.94      0.81   1.00  -0.56\n",
       "LNMEM       0.88   -0.57     -0.46  -0.56   1.00"
      ]
     },
     "execution_count": 151,
     "metadata": {},
     "output_type": "execute_result"
    }
   ],
   "source": [
    "c2 = df.loc[df['YEAR'].between(60,65), 'LNRENT':'LNMEM'].corr()\n",
    "c2.round(2)"
   ]
  },
  {
   "cell_type": "markdown",
   "id": "51acd592",
   "metadata": {},
   "source": [
    "Los coeficientes de correlación entre las siguientes variables cambiaron menos de 10 puntos porcentuales entre ambos periodos:\n",
    "1. `LNRENT` y `LNMEM`\n",
    "1. `LNMULT` y `LNACCESS`\n",
    "1. `LNMULT` y `LNADD`\n",
    "1. `LNACCESS` y `LNADD`\n",
    "\n",
    "Los demás pares de variables cambian en 10 o más puntos porcentuales.\n",
    "\n",
    "En general, ambas matríces de correlación se parecen. Sin embargo, considero que hay diferencias importantes entre ambos periodos. En particular, hay menos pares de variables con coeficientes de correlación mayores a 0.7 en valor absoluto en el segundo periodo.\n",
    "\n",
    "Igualmente, creo que Chow estaba en lo correcto al preocuparse por la posibilidad de un problema de multicolinealidad, pues todos los pares de variables excepto por `LNMEM` y `LNACCESS` tienen un coeficiente de correlación de almenos 0.7 en valor absoluto en el periodo previo a 1960.\n",
    "\n",
    "Las correlaciones siguen siendo altas de 1960 en adelante. Sin embargo, los coeficientes tienden a disminuir en esta ventana de tiempo."
   ]
  },
  {
   "cell_type": "markdown",
   "id": "5e7ccb18",
   "metadata": {},
   "source": [
    "### (b) Regresión de Chow"
   ]
  },
  {
   "cell_type": "code",
   "execution_count": 152,
   "id": "02a20fb8",
   "metadata": {},
   "outputs": [],
   "source": [
    "# Objetos para regresión\n",
    "feats = ['CONST','D_61','D_62','D_63','D_64','D_65','LNMULT','LNMEM','LNACCESS']\n",
    "targt = 'LNRENT'\n",
    "X = df.loc[df['YEAR'].ge(60), feats]\n",
    "y = df.loc[df['YEAR'].ge(60), targt]\n",
    "\n",
    "# Modelo de Chow\n",
    "m1 = sm.OLS(endog=y, exog=X)\n",
    "m1_res = m1.fit()"
   ]
  },
  {
   "cell_type": "code",
   "execution_count": 153,
   "id": "fcbc2fa4",
   "metadata": {},
   "outputs": [
    {
     "name": "stdout",
     "output_type": "stream",
     "text": [
      "==============================================================================\n",
      "                 coef    std err          t      P>|t|      [0.025      0.975]\n",
      "------------------------------------------------------------------------------\n",
      "CONST         -0.1045      0.315     -0.332      0.741      -0.732       0.523\n",
      "D_61          -0.1398      0.166     -0.840      0.404      -0.472       0.192\n",
      "D_62          -0.4891      0.174     -2.815      0.006      -0.835      -0.143\n",
      "D_63          -0.5938      0.166     -3.575      0.001      -0.925      -0.263\n",
      "D_64          -0.9248      0.166     -5.561      0.000      -1.256      -0.593\n",
      "D_65          -1.1632      0.166     -7.003      0.000      -1.494      -0.832\n",
      "LNMULT        -0.0654      0.028     -2.301      0.024      -0.122      -0.009\n",
      "LNMEM          0.5793      0.035     16.369      0.000       0.509       0.650\n",
      "LNACCESS      -0.1406      0.029     -4.794      0.000      -0.199      -0.082\n",
      "==============================================================================\n",
      "Observations: 82\n",
      "R2: 0.908\n"
     ]
    }
   ],
   "source": [
    "print(m1_res.summary().tables[1])\n",
    "print('Observations:', int(m1_res.nobs))\n",
    "print('R2:', round(m1_res.rsquared, 3))"
   ]
  },
  {
   "cell_type": "markdown",
   "id": "2dde9779",
   "metadata": {},
   "source": [
    "Índice de precios usando método alternativo"
   ]
  },
  {
   "cell_type": "code",
   "execution_count": 154,
   "id": "13968c28",
   "metadata": {},
   "outputs": [
    {
     "data": {
      "text/html": [
       "<div>\n",
       "<style scoped>\n",
       "    .dataframe tbody tr th:only-of-type {\n",
       "        vertical-align: middle;\n",
       "    }\n",
       "\n",
       "    .dataframe tbody tr th {\n",
       "        vertical-align: top;\n",
       "    }\n",
       "\n",
       "    .dataframe thead th {\n",
       "        text-align: right;\n",
       "    }\n",
       "</style>\n",
       "<table border=\"1\" class=\"dataframe\">\n",
       "  <thead>\n",
       "    <tr style=\"text-align: right;\">\n",
       "      <th></th>\n",
       "      <th>Price Index (exp)</th>\n",
       "      <th>Price Index (Chow)</th>\n",
       "    </tr>\n",
       "  </thead>\n",
       "  <tbody>\n",
       "    <tr>\n",
       "      <th>D_60</th>\n",
       "      <td>1.0000</td>\n",
       "      <td>1.0000</td>\n",
       "    </tr>\n",
       "    <tr>\n",
       "      <th>D_61</th>\n",
       "      <td>0.8695</td>\n",
       "      <td>0.8438</td>\n",
       "    </tr>\n",
       "    <tr>\n",
       "      <th>D_62</th>\n",
       "      <td>0.6132</td>\n",
       "      <td>0.6414</td>\n",
       "    </tr>\n",
       "    <tr>\n",
       "      <th>D_63</th>\n",
       "      <td>0.5522</td>\n",
       "      <td>0.5330</td>\n",
       "    </tr>\n",
       "    <tr>\n",
       "      <th>D_64</th>\n",
       "      <td>0.3966</td>\n",
       "      <td>0.3906</td>\n",
       "    </tr>\n",
       "    <tr>\n",
       "      <th>D_65</th>\n",
       "      <td>0.3125</td>\n",
       "      <td>0.3188</td>\n",
       "    </tr>\n",
       "  </tbody>\n",
       "</table>\n",
       "</div>"
      ],
      "text/plain": [
       "      Price Index (exp)  Price Index (Chow)\n",
       "D_60             1.0000              1.0000\n",
       "D_61             0.8695              0.8438\n",
       "D_62             0.6132              0.6414\n",
       "D_63             0.5522              0.5330\n",
       "D_64             0.3966              0.3906\n",
       "D_65             0.3125              0.3188"
      ]
     },
     "execution_count": 154,
     "metadata": {},
     "output_type": "execute_result"
    }
   ],
   "source": [
    "t = pd.concat([pd.Series([1], ['D_60']), np.exp(m1_res.params['D_61':'D_65'])]).to_frame()\n",
    "t.columns=['Price Index (exp)']\n",
    "t['Price Index (Chow)'] = [1,.8438,.6414,.5330,.3906,.3188]\n",
    "t.round(4)"
   ]
  },
  {
   "cell_type": "code",
   "execution_count": 155,
   "id": "4dc44377",
   "metadata": {},
   "outputs": [
    {
     "data": {
      "image/png": "[encoded data removed]",
      "text/plain": [
       "<Figure size 432x288 with 1 Axes>"
      ]
     },
     "metadata": {},
     "output_type": "display_data"
    }
   ],
   "source": [
    "plt.plot(t.index, t['Price Index (exp)'], label='Coeficientes exponenciados')\n",
    "plt.plot(t.index, t['Price Index (Chow)'], label='Método Chow')\n",
    "plt.xticks(t.index, labels=range(1960,1966), rotation=45, fontsize=12)\n",
    "plt.xlabel('Año', fontsize=12)\n",
    "plt.ylabel('Índice de precios (base 1960)', fontsize=12)\n",
    "plt.legend()\n",
    "plt.show()"
   ]
  },
  {
   "cell_type": "markdown",
   "id": "d6096be9",
   "metadata": {},
   "source": [
    "El índice de precios usando el método de exponenciar los coeficientes de efectos fijos por año da resultados muy similares al método de Chow. Ambas series muestran la misma tendencia a la baja y las diferencias son negligibles."
   ]
  },
  {
   "cell_type": "markdown",
   "id": "273b7fac",
   "metadata": {},
   "source": [
    "### (c) Especificación alternativa\n",
    "Prueba de que la especificación de Chow asume que el logaritmo `BINARY * DIGITS` y de `WORDS` tienen la misma pendiente:\n",
    "$$\\beta \\ln(MEM) = \\beta \\ln(WORDS \\times BINARY \\times DIGITS) = \\beta \\ln(WORDS) + \\beta \\ln(BINARY \\times DIGITS)$$"
   ]
  },
  {
   "cell_type": "code",
   "execution_count": null,
   "id": "739ac1b6",
   "metadata": {},
   "outputs": [],
   "source": [
    "# Separar LNMEM en dos términos independientes\n",
    "df = df.assign(LNLENGTH=np.log(df['BINARY'].multiply(df['DIGITS'])),\n",
    "               LNWORDS=np.log(df['WORDS']))\n",
    "\n",
    "# Objetos para regresión\n",
    "feats = ['CONST','D_61','D_62','D_63','D_64','D_65','LNMULT','LNLENGTH','LNWORDS','LNACCESS']\n",
    "X = df.loc[df['YEAR'].ge(60), feats]\n",
    "y = df.loc[df['YEAR'].ge(60), 'LNRENT']\n",
    "\n",
    "# Modelo alternativo\n",
    "m2 = sm.OLS(y, X)\n",
    "m2_res = m2.fit()\n",
    "print(m2_res.summary().tables[1])"
   ]
  },
  {
   "cell_type": "markdown",
   "id": "5f942ad4",
   "metadata": {},
   "source": [
    "Probar si los coeficientes son distintos entre sí:"
   ]
  },
  {
   "cell_type": "code",
   "execution_count": null,
   "id": "9ad78492",
   "metadata": {},
   "outputs": [],
   "source": [
    "print('R2 adj de modelo 1:', round(m1_res.rsquared_adj, 4))\n",
    "print('R2 adj de modelo 2:', round(m1_res.rsquared_adj, 4))\n",
    "\n",
    "# Probar si los coeficientes son distintos\n",
    "m2_res.t_test([0,0,0,0,0,0,0,1,-1,0]).summary()"
   ]
  },
  {
   "cell_type": "markdown",
   "id": "04f26773",
   "metadata": {},
   "source": [
    "Ambas especificaciones resultan en prácticamente el mismo coeficiente $R^2$ adjustado, así que la especificación no tienen un impacto sobre el desempeño predictivo del modelo. Sin embargo, los coeficientes de `LNLENGTH` y de `LNWORDS` son muy parecidos y no podemos rechazar la hipótesis nula de que tengan el mismo efecto sobre la variable dependiente.\n",
    "\n",
    "Por cuestiones de parsimonía, prefiero el primer modelo."
   ]
  },
  {
   "cell_type": "markdown",
   "id": "d3e26f5a",
   "metadata": {},
   "source": [
    "### (d) Efectos fijos sin término constante\n",
    "Usar todas las observaciones y crear efectos fijos por año (sin constante)"
   ]
  },
  {
   "cell_type": "code",
   "execution_count": null,
   "id": "48450d12",
   "metadata": {},
   "outputs": [],
   "source": [
    "# Objetos para regresión\n",
    "X = pd.concat([pd.get_dummies(df['YEAR'], prefix='D'), df[['LNMULT','LNMEM','LNACCESS']]], axis=1)\n",
    "y = df['LNRENT']\n",
    "\n",
    "# Modelo\n",
    "m3 = sm.OLS(y, X)\n",
    "m3_res = m3.fit()\n",
    "print(m3_res.summary().tables[1])"
   ]
  },
  {
   "cell_type": "code",
   "execution_count": null,
   "id": "440c8d58",
   "metadata": {},
   "outputs": [],
   "source": [
    "t = np.exp(m3_res.params['D_54':'D_65'] - m3_res.params['D_54']).to_frame()\n",
    "t.columns = ['Price Index (base 1954)']\n",
    "t['Price Index (base 1965)'] = t['Price Index (base 1954)'].div(t.loc['D_65'].item())\n",
    "(t * 100).round(0)"
   ]
  },
  {
   "cell_type": "markdown",
   "id": "c12b959c",
   "metadata": {},
   "source": [
    "La segunda columna es igual a la primera salvo porque renormalicé la serie a 1965.\n",
    "\n",
    "Con respecto a la serie de Triplett, mis estimaciones resultan en índices más bajos. Por ejemplo, en 1954, el precio de una computadora era 10 veces el índice de 1965. De acuerdo a los coeficientes estimados por Triplett, el precio de la misma computadora era 13.20 veces el precio de 1965."
   ]
  },
  {
   "cell_type": "markdown",
   "id": "a1156179",
   "metadata": {},
   "source": [
    "### (e) Heteroscedasticidad"
   ]
  },
  {
   "cell_type": "code",
   "execution_count": null,
   "id": "a7bb0368",
   "metadata": {},
   "outputs": [],
   "source": [
    "# Objetos para regresión\n",
    "w = np.sqrt(df.loc[df['YEAR'].ge(60), 'VOLUME'])\n",
    "X = df.loc[df['YEAR'].ge(60), m1.exog_names]\n",
    "y = df.loc[df['YEAR'].ge(60), 'LNRENT']\n",
    "\n",
    "# Modelo\n",
    "m4 = sm.OLS(y, X.multiply(w, axis=0), hasconst=True)\n",
    "m4_res = m4.fit()\n",
    "print(m4_res.summary().tables[1])"
   ]
  },
  {
   "cell_type": "markdown",
   "id": "70da1c84",
   "metadata": {},
   "source": [
    "Me parece que este método no es correcto porque el libro muestra un ejemplo donde $Y_i$ es el precio promedio del modelo $i$ en la siguiente especificación:\n",
    "$$Y_i = \\beta_0 + \\beta_1 X_{1,i} + ... + u_i$$\n",
    "\n",
    "Nuestra especificación usa $\\ln(Y_i)$ como variable dependiente, la cual no es una transformación lineal. Es decir, $\\sqrt{S_m} \\ \\times \\ln(Y_i) \\neq \\ln\\big(Y_i \\times \\sqrt{S_m} \\ \\big)$.\n",
    "\n",
    "Solo deberíamos de aplicar esta transformación cuando modelamos el precio de las computadoras, no el logaritmo del precio.\n",
    "\n",
    "Como se muestra a continuación, el método que no usa este atajo coincide casi puntualmente con la estimación original salvo que los errores estándar son más grandes en la mayoría de los casos."
   ]
  },
  {
   "cell_type": "code",
   "execution_count": null,
   "id": "a1374ae2",
   "metadata": {},
   "outputs": [],
   "source": [
    "m5 = sm.OLS(y, X, weights=w).fit()\n",
    "print(m5.summary().tables[1])"
   ]
  },
  {
   "cell_type": "markdown",
   "id": "72615f0f",
   "metadata": {},
   "source": [
    "## Ejercicio 4: IBM\n",
    "Cargar datos"
   ]
  },
  {
   "cell_type": "code",
   "execution_count": null,
   "id": "f16f0c88",
   "metadata": {},
   "outputs": [],
   "source": [
    "df = pd.read_csv('../dat/cole.txt', sep='\\t')"
   ]
  },
  {
   "cell_type": "markdown",
   "id": "39bc68af",
   "metadata": {},
   "source": [
    "### (a) Regresión\n",
    "La pregunta indica que tengo que usar los datos viejos."
   ]
  },
  {
   "cell_type": "code",
   "execution_count": null,
   "id": "ef7983bc",
   "metadata": {},
   "outputs": [],
   "source": [
    "# Nuevas columnas\n",
    "df = df.assign(CONST=1,\n",
    "               LNOLDPR=np.log(df['OLDPR']),\n",
    "               LNPRICE=np.log(df['PRICE']),\n",
    "               LNOLDSP=np.log(df['OLDSP']),\n",
    "               LNSPEED=np.log(df['SPEED']),\n",
    "               LNCAP=np.log(df['CAP']))\n",
    "\n",
    "# Objetos para regresión\n",
    "feats = ['CONST','D73','D74','D75','D76','D77','D78','D79','D80',\n",
    "         'D81','D82','D83','D84','LNOLDSP','LNCAP']\n",
    "X = df[feats]\n",
    "y = df['LNOLDPR']\n",
    "\n",
    "# Modelo\n",
    "m1 = sm.OLS(y, X).fit()\n",
    "print(m1.summary().tables[1])\n",
    "print('R2:', m1.rsquared)"
   ]
  },
  {
   "cell_type": "markdown",
   "id": "1a1d594c",
   "metadata": {},
   "source": [
    "### (b) Misma regresión usando nuevos datos"
   ]
  },
  {
   "cell_type": "code",
   "execution_count": null,
   "id": "7ea68e00",
   "metadata": {},
   "outputs": [],
   "source": [
    "feats = ['CONST','D73','D74','D75','D76','D77','D78','D79','D80',\n",
    "         'D81','D82','D83','D84','LNSPEED','LNCAP']\n",
    "X = df[feats]\n",
    "y = df['LNPRICE']\n",
    "\n",
    "# Modelo nuevo\n",
    "m2 = sm.OLS(y, X).fit()\n",
    "print(m2.summary().tables[1])\n",
    "print('R2:', m2.rsquared)"
   ]
  },
  {
   "cell_type": "markdown",
   "id": "1a07f8ee",
   "metadata": {},
   "source": [
    "Todos los coeficientes se mantienen cercanos a lo que solían ser. En particular, los coeficientes estimados en la vieja y nueva regresión resultan en que las mismas variables tienen un efecto estadísticamente significativo.\n",
    "\n",
    "El efecto marginal de `LNSPEED` bajo, pero no mucho."
   ]
  },
  {
   "cell_type": "markdown",
   "id": "99ef2744",
   "metadata": {},
   "source": [
    "### (c) Homogeneidad\n",
    "$H_0$: $\\beta_{lnspeed} + \\beta_{lncap} = 1$\n",
    "\n",
    "$H_1$: $\\beta_{lnspeed} + \\beta_{lncap} \\neq 1$"
   ]
  },
  {
   "cell_type": "code",
   "execution_count": null,
   "id": "44648fa2",
   "metadata": {},
   "outputs": [],
   "source": [
    "m2.t_test(np.zeros(len(m2.params)-2).astype(int).tolist() + [1, 1])"
   ]
  },
  {
   "cell_type": "markdown",
   "id": "6b4f192d",
   "metadata": {},
   "source": [
    "Podemos rechazar la hipótesis nula de que los coeficientes sean iguales a uno. Esto significa que al multiplicar ambas variables por $\\lambda$, el precio se multiplicaría por un factor menor a $\\lambda$."
   ]
  },
  {
   "cell_type": "markdown",
   "id": "e8ed007d",
   "metadata": {},
   "source": [
    "### (d) Efectos anuales constantes\n",
    "Si reemplazamos los efectos fijos anuales por una sola columna de tiempo, estamos asumiendo que el paso del tiempo tiene rendimientos constantes sobre el logaritmo del precio porque estamos estimando un solo coeficiente."
   ]
  },
  {
   "cell_type": "code",
   "execution_count": null,
   "id": "3ed2a853",
   "metadata": {},
   "outputs": [],
   "source": [
    "# Nueva variable de rendimientos constantes\n",
    "df['TIME'] = df['YEAR'] - 1971\n",
    "\n",
    "# Objetos para regresión\n",
    "X = df[['CONST','TIME','LNSPEED','LNCAP']]\n",
    "y = df['LNPRICE']\n",
    "\n",
    "# Modelo\n",
    "m3 = sm.OLS(y, X).fit()\n",
    "print(m3.summary().tables[1])"
   ]
  },
  {
   "cell_type": "markdown",
   "id": "bf7a2751",
   "metadata": {},
   "source": [
    "Haré la prueba $F$ de que todos los coeficientes sean iguales al $\\beta_{time}$ del modelo restringido."
   ]
  },
  {
   "cell_type": "code",
   "execution_count": null,
   "id": "95611bac",
   "metadata": {},
   "outputs": [],
   "source": [
    "# Efecto marginal anual\n",
    "b = m3.params['TIME']\n",
    "\n",
    "# Matriz de restricciones\n",
    "L = np.matrix([[0,1-b,0,0,0,0,0,0,0,0,0,0,0,0,0],\n",
    "               [0,0,1-b,0,0,0,0,0,0,0,0,0,0,0,0],\n",
    "               [0,0,0,1-b,0,0,0,0,0,0,0,0,0,0,0],\n",
    "               [0,0,0,0,1-b,0,0,0,0,0,0,0,0,0,0],\n",
    "               [0,0,0,0,0,1-b,0,0,0,0,0,0,0,0,0],\n",
    "               [0,0,0,0,0,0,1-b,0,0,0,0,0,0,0,0],\n",
    "               [0,0,0,0,0,0,0,1-b,0,0,0,0,0,0,0],\n",
    "               [0,0,0,0,0,0,0,0,1-b,0,0,0,0,0,0],\n",
    "               [0,0,0,0,0,0,0,0,0,1-b,0,0,0,0,0],\n",
    "               [0,0,0,0,0,0,0,0,0,0,1-b,0,0,0,0],\n",
    "               [0,0,0,0,0,0,0,0,0,0,0,1-b,0,0,0],\n",
    "               [0,0,0,0,0,0,0,0,0,0,0,0,1-b,0,0]])\n",
    "\n",
    "# Prueba\n",
    "f = m2.f_test(L)\n",
    "print('F-stat:', round(f.statistic.item(), 4))\n",
    "print('p-value:', round(f.pvalue.item(), 4))"
   ]
  },
  {
   "cell_type": "markdown",
   "id": "ab8fb977",
   "metadata": {},
   "source": [
    "Podemos rechazar la hipótesis de que los rendimientos marginales sobre el tiempo sean constantes e iguales al coeficiente del modelo del inciso anterior."
   ]
  },
  {
   "cell_type": "markdown",
   "id": "a9a58079",
   "metadata": {},
   "source": [
    "## Ejercicio 5: Estabilidad de precios hedónicos\n",
    "Definir función para comparar modelo restringido contra no restringido:"
   ]
  },
  {
   "cell_type": "code",
   "execution_count": 2,
   "id": "97843bed",
   "metadata": {},
   "outputs": [],
   "source": [
    "def f_test(unrest, rest):\n",
    "    ussr = np.power(unrest.resid, 2).sum()\n",
    "    rssr = np.power(rest.resid, 2).sum()\n",
    "    n = unrest.nobs\n",
    "    k = len(unrest.params.index)\n",
    "    q = k - len(np.intersect1d(unrest.params.index, rest.params.index))\n",
    "    f = ((rssr - ussr) / q) / (ussr / (n - k))\n",
    "    p = stats.f(dfn=q, dfd=n - k).sf(f)\n",
    "    return (f, q, n - k, p)"
   ]
  },
  {
   "cell_type": "markdown",
   "id": "dd1105ec",
   "metadata": {},
   "source": [
    "Reconstruir datos de pregunta 3"
   ]
  },
  {
   "cell_type": "code",
   "execution_count": 3,
   "id": "57b6376d",
   "metadata": {},
   "outputs": [],
   "source": [
    "# Leer datos\n",
    "df = pd.read_csv('../dat/chow.txt', sep='\\t')\n",
    "\n",
    "# Agregar término constante\n",
    "df['CONST'] = 1\n",
    "\n",
    "# Crear atributos logarítmicos\n",
    "for col in ['RENT','MULT','ACCESS','ADD']:\n",
    "    df['LN'+col] = np.log(df[col])\n",
    "    \n",
    "# Crear Memory Space\n",
    "df['LNMEM'] = np.log(df[['WORDS','BINARY','DIGITS']].product(axis=1))\n",
    "\n",
    "# Crear dummies por año\n",
    "df['D'] = df['YEAR']\n",
    "df = pd.get_dummies(df, prefix='D', prefix_sep='_', columns=['D'], drop_first=False)"
   ]
  },
  {
   "cell_type": "markdown",
   "id": "9baa4584",
   "metadata": {},
   "source": [
    "### (a) Regresiones 60-65"
   ]
  },
  {
   "cell_type": "markdown",
   "id": "e36250cc",
   "metadata": {},
   "source": [
    "Modelo restringido"
   ]
  },
  {
   "cell_type": "code",
   "execution_count": 4,
   "id": "2e4b1e07",
   "metadata": {},
   "outputs": [],
   "source": [
    "# Objetos para regresión\n",
    "feats = ['CONST','D_61','D_62','D_63','D_64','D_65','LNMULT','LNMEM','LNACCESS']\n",
    "targt = 'LNRENT'\n",
    "X = df.loc[df['YEAR'].ge(60), feats]\n",
    "y = df.loc[df['YEAR'].ge(60), targt]\n",
    "\n",
    "# Modelo restringido\n",
    "m1 = sm.OLS(endog=y, exog=X).fit()"
   ]
  },
  {
   "cell_type": "markdown",
   "id": "fe993845",
   "metadata": {},
   "source": [
    "Modelo no restringido"
   ]
  },
  {
   "cell_type": "code",
   "execution_count": 5,
   "id": "85798606",
   "metadata": {},
   "outputs": [
    {
     "name": "stdout",
     "output_type": "stream",
     "text": [
      "===============================================================================\n",
      "                  coef    std err          t      P>|t|      [0.025      0.975]\n",
      "-------------------------------------------------------------------------------\n",
      "CONST           1.2047      1.381      0.872      0.387      -1.560       3.970\n",
      "D_61           -1.1999      1.755     -0.684      0.497      -4.713       2.313\n",
      "D_62           -3.6092      1.683     -2.145      0.036      -6.978      -0.241\n",
      "D_63           -2.0055      1.651     -1.215      0.229      -5.311       1.300\n",
      "D_64           -2.7946      1.524     -1.833      0.072      -5.846       0.256\n",
      "D_65           -2.5584      1.461     -1.751      0.085      -5.482       0.366\n",
      "LNMULT         -0.1523      0.091     -1.678      0.099      -0.334       0.029\n",
      "LNMEM           0.4234      0.162      2.619      0.011       0.100       0.747\n",
      "LNACCESS       -0.1208      0.070     -1.713      0.092      -0.262       0.020\n",
      "LNMULT_61       0.0908      0.124      0.732      0.467      -0.157       0.339\n",
      "LNMEM_61        0.1273      0.204      0.623      0.536      -0.282       0.536\n",
      "LNACCESS_61    -0.0547      0.093     -0.590      0.557      -0.240       0.131\n",
      "LNMULT_62       0.2309      0.145      1.590      0.117      -0.060       0.522\n",
      "LNMEM_62        0.4031      0.203      1.987      0.052      -0.003       0.809\n",
      "LNACCESS_62    -0.1363      0.117     -1.162      0.250      -0.371       0.098\n",
      "LNMULT_63       0.0848      0.133      0.640      0.525      -0.181       0.350\n",
      "LNMEM_63        0.1516      0.191      0.792      0.432      -0.232       0.535\n",
      "LNACCESS_63     0.0796      0.186      0.428      0.670      -0.292       0.452\n",
      "LNMULT_64       0.0037      0.112      0.033      0.974      -0.221       0.229\n",
      "LNMEM_64        0.2633      0.188      1.403      0.166      -0.112       0.639\n",
      "LNACCESS_64     0.1620      0.150      1.081      0.284      -0.138       0.462\n",
      "LNMULT_65       0.1112      0.110      1.016      0.314      -0.108       0.330\n",
      "LNMEM_65        0.1544      0.174      0.887      0.379      -0.194       0.503\n",
      "LNACCESS_65    -0.0258      0.106     -0.244      0.808      -0.237       0.186\n",
      "===============================================================================\n"
     ]
    }
   ],
   "source": [
    "# Objetos para regresión\n",
    "x = ['CONST','D_61','D_62','D_63','D_64','D_65','LNMULT','LNMEM','LNACCESS']\n",
    "X = df.loc[df['YEAR'].ge(60), x].copy()\n",
    "for year in range(61,66):\n",
    "    y = str(year)\n",
    "    f = ['LNMULT','LNMEM','LNACCESS']\n",
    "    X[['LNMULT_'+y,'LNMEM_'+y,'LNACCESS_'+y]] = X[f].multiply(X['D_'+y], axis=0)\n",
    "y = df.loc[df['YEAR'].ge(60), 'LNRENT']\n",
    "\n",
    "# Regresión\n",
    "m2 = sm.OLS(endog=y, exog=X).fit()\n",
    "print(m2.summary().tables[1])"
   ]
  },
  {
   "cell_type": "markdown",
   "id": "054c1c44",
   "metadata": {},
   "source": [
    "Prueba F"
   ]
  },
  {
   "cell_type": "code",
   "execution_count": 6,
   "id": "fc554a36",
   "metadata": {},
   "outputs": [
    {
     "data": {
      "text/plain": [
       "(0.7431887126370076, 15, 58.0, 0.7312392203957196)"
      ]
     },
     "execution_count": 6,
     "metadata": {},
     "output_type": "execute_result"
    }
   ],
   "source": [
    "f_test(unrest=m2, rest=m1)"
   ]
  },
  {
   "cell_type": "markdown",
   "id": "6b4202a5",
   "metadata": {},
   "source": [
    "El estadístico $F$ es 0.74 y la probabilidad de observar un resultado así o más extremo dada la hipótesis nula es 0.73.\n",
    "\n",
    "Por ende, no rechazo que todas las pendientes sean iguales simultaneamente."
   ]
  },
  {
   "cell_type": "markdown",
   "id": "86872e58",
   "metadata": {},
   "source": [
    "### (b) Regresiones 55-65\n",
    "Modelo no restringido"
   ]
  },
  {
   "cell_type": "code",
   "execution_count": 7,
   "id": "4a3f2ac4",
   "metadata": {},
   "outputs": [
    {
     "name": "stdout",
     "output_type": "stream",
     "text": [
      "===============================================================================\n",
      "                  coef    std err          t      P>|t|      [0.025      0.975]\n",
      "-------------------------------------------------------------------------------\n",
      "CONST           2.5659      2.542      1.009      0.321      -2.619       7.750\n",
      "D_55           -0.4309      2.983     -0.144      0.886      -6.514       5.652\n",
      "D_56           -1.8915      2.776     -0.681      0.501      -7.553       3.770\n",
      "D_57           -1.5191      3.010     -0.505      0.617      -7.659       4.620\n",
      "D_58           -0.9850      2.746     -0.359      0.722      -6.586       4.616\n",
      "D_59           -0.0765      2.650     -0.029      0.977      -5.482       5.329\n",
      "LNMULT         -0.0872      0.207     -0.421      0.677      -0.509       0.335\n",
      "LNMEM           0.2751      0.279      0.987      0.331      -0.293       0.844\n",
      "LNACCESS       -0.1465      0.094     -1.553      0.130      -0.339       0.046\n",
      "LNMULT_55       0.0841      0.239      0.351      0.728      -0.404       0.572\n",
      "LNMEM_55        0.1449      0.332      0.436      0.666      -0.532       0.822\n",
      "LNACCESS_55    -0.1333      0.121     -1.106      0.277      -0.379       0.113\n",
      "LNMULT_56       0.1839      0.234      0.786      0.438      -0.293       0.661\n",
      "LNMEM_56        0.2374      0.301      0.789      0.436      -0.377       0.851\n",
      "LNACCESS_56    -0.1399      0.118     -1.191      0.243      -0.380       0.100\n",
      "LNMULT_57       0.0615      0.264      0.233      0.817      -0.477       0.600\n",
      "LNMEM_57        0.2406      0.312      0.771      0.446      -0.396       0.877\n",
      "LNACCESS_57    -0.0543      0.127     -0.428      0.672      -0.313       0.205\n",
      "LNMULT_58       0.0229      0.225      0.102      0.920      -0.436       0.482\n",
      "LNMEM_58        0.1524      0.296      0.515      0.610      -0.451       0.756\n",
      "LNACCESS_58    -0.0593      0.114     -0.522      0.605      -0.291       0.172\n",
      "LNMULT_59      -0.1244      0.220     -0.566      0.575      -0.572       0.323\n",
      "LNMEM_59        0.0811      0.290      0.280      0.781      -0.510       0.672\n",
      "LNACCESS_59     0.0195      0.116      0.168      0.867      -0.217       0.256\n",
      "===============================================================================\n"
     ]
    }
   ],
   "source": [
    "# Objetos para regresión\n",
    "x = ['CONST','D_55','D_56','D_57','D_58','D_59','LNMULT','LNMEM','LNACCESS']\n",
    "X = df.loc[df['YEAR'].lt(60), x].copy()\n",
    "for year in range(55,60):\n",
    "    y = str(year)\n",
    "    f = ['LNMULT','LNMEM','LNACCESS']\n",
    "    X[['LNMULT_'+y,'LNMEM_'+y,'LNACCESS_'+y]] = X[f].multiply(X['D_'+y], axis=0)\n",
    "y = df.loc[df['YEAR'].lt(60), 'LNRENT']\n",
    "\n",
    "# Regresión\n",
    "m3 = sm.OLS(endog=y, exog=X).fit()\n",
    "print(m3.summary().tables[1])"
   ]
  },
  {
   "cell_type": "markdown",
   "id": "ccbedc2a",
   "metadata": {},
   "source": [
    "Modelo restringido"
   ]
  },
  {
   "cell_type": "code",
   "execution_count": 8,
   "id": "10cea590",
   "metadata": {},
   "outputs": [],
   "source": [
    "X = df.loc[df['YEAR'].lt(60), ['CONST','D_55','D_56','D_57','D_58','D_59','LNMULT','LNMEM','LNACCESS']]\n",
    "y = df.loc[df['YEAR'].lt(60), 'LNRENT']\n",
    "m4 = sm.OLS(y, X).fit()"
   ]
  },
  {
   "cell_type": "markdown",
   "id": "67dacb73",
   "metadata": {},
   "source": [
    "Prueba F"
   ]
  },
  {
   "cell_type": "code",
   "execution_count": 9,
   "id": "57e757f3",
   "metadata": {},
   "outputs": [
    {
     "data": {
      "text/plain": [
       "(0.8324101264948284, 15, 31.0, 0.6372982082554904)"
      ]
     },
     "execution_count": 9,
     "metadata": {},
     "output_type": "execute_result"
    }
   ],
   "source": [
    "f_test(unrest=m3, rest=m4)"
   ]
  },
  {
   "cell_type": "markdown",
   "id": "37a36a91",
   "metadata": {},
   "source": [
    "El estadístico $F$ de la prueba es 0.83 y el $p$-value es 0.63.\n",
    "\n",
    "Por ende, no rechazo que las pendientes sean iguales en este periodo."
   ]
  },
  {
   "cell_type": "markdown",
   "id": "12ec8674",
   "metadata": {},
   "source": [
    "### (c) Regresiones 54-65\n",
    "1. Probar si las pendientes de las computadoras de primera generación son iguales que las de segunda generación\n",
    "\n",
    "Modelo restringido"
   ]
  },
  {
   "cell_type": "code",
   "execution_count": 10,
   "id": "f01b853d",
   "metadata": {},
   "outputs": [],
   "source": [
    "# Objetos para regresión\n",
    "X = df[['CONST'] + ['D_'+str(y) for y in range(55,66)] + ['LNMULT','LNMEM','LNACCESS']]\n",
    "y = df['LNRENT']\n",
    "\n",
    "# Regresión\n",
    "m6 = sm.OLS(y, X).fit()"
   ]
  },
  {
   "cell_type": "markdown",
   "id": "fc572368",
   "metadata": {},
   "source": [
    "Modelo no restringido"
   ]
  },
  {
   "cell_type": "code",
   "execution_count": 11,
   "id": "1216ffab",
   "metadata": {},
   "outputs": [
    {
     "name": "stdout",
     "output_type": "stream",
     "text": [
      "=================================================================================\n",
      "                    coef    std err          t      P>|t|      [0.025      0.975]\n",
      "---------------------------------------------------------------------------------\n",
      "Obs           -2.093e-15   7.43e-15     -0.282      0.779   -1.68e-14    1.26e-14\n",
      "VOLUME         1.567e-15   8.62e-16      1.818      0.072   -1.42e-16    3.28e-15\n",
      "RENT           7.654e-15    5.9e-15      1.298      0.197   -4.03e-15    1.93e-14\n",
      "BINARY        -3.221e-14   5.21e-14     -0.618      0.538   -1.36e-13    7.11e-14\n",
      "DIGITS        -4.997e-15    6.5e-15     -0.768      0.444   -1.79e-14    7.89e-15\n",
      "WORDS         -6.767e-15   1.42e-15     -4.774      0.000   -9.58e-15   -3.96e-15\n",
      "ADD           -3.618e-17    3.6e-17     -1.004      0.318   -1.08e-16    3.53e-17\n",
      "MULT           1.273e-17   8.39e-18      1.518      0.132    -3.9e-18    2.94e-17\n",
      "ACCESS        -3.715e-17   2.45e-17     -1.518      0.132   -8.57e-17    1.14e-17\n",
      "YEAR           7.713e-15   2.15e-14      0.359      0.720   -3.48e-14    5.03e-14\n",
      "ORDER         -3.218e-16   7.43e-15     -0.043      0.966   -1.51e-14    1.44e-14\n",
      "IBMDUM         1.776e-15   1.78e-13      0.010      0.992    -3.5e-13    3.54e-13\n",
      "CONST         -2.665e-15   4.96e-13     -0.005      0.996   -9.86e-13     9.8e-13\n",
      "LNRENT            1.0000   1.87e-13   5.35e+12      0.000       1.000       1.000\n",
      "LNMULT        -2.304e-15   1.47e-13     -0.016      0.988   -2.93e-13    2.89e-13\n",
      "LNACCESS       5.523e-15   8.44e-14      0.065      0.948   -1.62e-13    1.73e-13\n",
      "LNADD         -4.441e-15   1.01e-13     -0.044      0.965   -2.05e-13    1.96e-13\n",
      "LNMEM          6.564e-15   1.18e-13      0.056      0.956   -2.27e-13    2.41e-13\n",
      "D_54          -1.288e-14   9.67e-13     -0.013      0.989   -1.93e-12     1.9e-12\n",
      "D_55           -7.55e-15   9.11e-13     -0.008      0.993   -1.81e-12     1.8e-12\n",
      "D_56          -2.665e-15   8.41e-13     -0.003      0.997   -1.67e-12    1.66e-12\n",
      "D_57           8.882e-16    7.9e-13      0.001      0.999   -1.57e-12    1.57e-12\n",
      "D_58           1.776e-15   6.87e-13      0.003      0.998   -1.36e-12    1.36e-12\n",
      "D_59           1.021e-14   6.52e-13      0.016      0.988   -1.28e-12     1.3e-12\n",
      "D_60          -1.288e-14   5.88e-13     -0.022      0.983   -1.18e-12    1.15e-12\n",
      "D_61          -7.327e-15   6.02e-13     -0.012      0.990    -1.2e-12    1.19e-12\n",
      "D_62          -1.066e-14   6.55e-13     -0.016      0.987   -1.31e-12    1.29e-12\n",
      "D_63           2.442e-15    7.2e-13      0.003      0.997   -1.42e-12    1.43e-12\n",
      "D_64           1.399e-14   8.92e-13      0.016      0.988   -1.75e-12    1.78e-12\n",
      "D_65           2.043e-14   1.07e-12      0.019      0.985    -2.1e-12    2.14e-12\n",
      "LNMULT_GEN2    4.774e-15   1.23e-13      0.039      0.969   -2.38e-13    2.48e-13\n",
      "LNMEM_GEN2     8.049e-16   1.33e-13      0.006      0.995   -2.63e-13    2.64e-13\n",
      "LNACCESS_GEN2 -2.637e-15   8.16e-14     -0.032      0.974   -1.64e-13    1.59e-13\n",
      "=================================================================================\n"
     ]
    }
   ],
   "source": [
    "# Indicador de generación\n",
    "x = np.where(df['YEAR'].ge(60), 1, 0)\n",
    "X = df.copy()\n",
    "X[['LNMULT_GEN2','LNMEM_GEN2','LNACCESS_GEN2']] = X[['LNMULT','LNMEM','LNACCESS']].multiply(x, axis=0)\n",
    "\n",
    "# Regresión\n",
    "m7 = sm.OLS(y, X).fit()\n",
    "print(m7.summary().tables[1])"
   ]
  },
  {
   "cell_type": "markdown",
   "id": "3ff31b00",
   "metadata": {},
   "source": [
    "Prueba F"
   ]
  },
  {
   "cell_type": "code",
   "execution_count": 12,
   "id": "ee1c7477",
   "metadata": {
    "scrolled": true
   },
   "outputs": [
    {
     "data": {
      "text/plain": [
       "(2.4146530790628247e+24, 18, 104.0, 0.0)"
      ]
     },
     "execution_count": 12,
     "metadata": {},
     "output_type": "execute_result"
    }
   ],
   "source": [
    "f_test(unrest=m7, rest=m6)"
   ]
  },
  {
   "cell_type": "markdown",
   "id": "e9596272",
   "metadata": {},
   "source": [
    "El $p$-value de la prueba es prácticamente 0.0. Es decir, los datos sugieren que las pendientes cambian entre la primera y segunda generación de computadoras.\n",
    "\n",
    "Supongo que esto sucede porque las computadoras dejaron de usar tubos vacíos y fueron reemplazados por transistores sólidos. Este cambio en tecnología refleja que el precio de las computadoras respondió al cambio tecnológico en sus características.\n",
    "\n",
    "---\n",
    "\n",
    "Finalmente, la pregunta pide probar si las pendientes son iguales a lo largo de todo el periodo contra la hipótesis alternativa de que las pendientes varían en cada año."
   ]
  },
  {
   "cell_type": "markdown",
   "id": "bd62a0d9",
   "metadata": {},
   "source": [
    "Modelo no restringido"
   ]
  },
  {
   "cell_type": "code",
   "execution_count": 13,
   "id": "b9fcc598",
   "metadata": {},
   "outputs": [
    {
     "name": "stdout",
     "output_type": "stream",
     "text": [
      "===============================================================================\n",
      "                  coef    std err          t      P>|t|      [0.025      0.975]\n",
      "-------------------------------------------------------------------------------\n",
      "CONST           2.5659      2.986      0.859      0.393      -3.368       8.499\n",
      "D_55           -0.4309      3.504     -0.123      0.902      -7.393       6.531\n",
      "D_56           -1.8915      3.261     -0.580      0.563      -8.371       4.588\n",
      "D_57           -1.5191      3.536     -0.430      0.669      -8.545       5.507\n",
      "D_58           -0.9850      3.226     -0.305      0.761      -7.395       5.425\n",
      "D_59           -0.0765      3.113     -0.025      0.980      -6.263       6.110\n",
      "D_60           -1.3611      3.253     -0.418      0.677      -7.824       5.102\n",
      "D_61           -2.5610      3.153     -0.812      0.419      -8.825       3.703\n",
      "D_62           -4.9703      3.118     -1.594      0.114     -11.166       1.225\n",
      "D_63           -3.3667      3.103     -1.085      0.281      -9.533       2.800\n",
      "D_64           -4.1557      3.046     -1.364      0.176     -10.209       1.897\n",
      "D_65           -3.9196      3.019     -1.298      0.198      -9.918       2.079\n",
      "LNMULT         -0.0872      0.243     -0.359      0.721      -0.570       0.396\n",
      "LNMEM           0.2751      0.327      0.840      0.403      -0.376       0.926\n",
      "LNACCESS       -0.1465      0.111     -1.322      0.189      -0.367       0.074\n",
      "LNMULT_55       0.0841      0.281      0.299      0.766      -0.475       0.643\n",
      "LNMEM_55        0.1449      0.390      0.371      0.711      -0.630       0.920\n",
      "LNACCESS_55    -0.1333      0.142     -0.941      0.349      -0.415       0.148\n",
      "LNMULT_56       0.1839      0.275      0.669      0.505      -0.362       0.730\n",
      "LNMEM_56        0.2374      0.354      0.671      0.504      -0.465       0.940\n",
      "LNACCESS_56    -0.1399      0.138     -1.014      0.313      -0.414       0.134\n",
      "LNMULT_57       0.0615      0.310      0.198      0.843      -0.555       0.678\n",
      "LNMEM_57        0.2406      0.367      0.656      0.513      -0.488       0.969\n",
      "LNACCESS_57    -0.0543      0.149     -0.364      0.717      -0.351       0.242\n",
      "LNMULT_58       0.0229      0.264      0.087      0.931      -0.502       0.548\n",
      "LNMEM_58        0.1524      0.348      0.438      0.662      -0.538       0.843\n",
      "LNACCESS_58    -0.0593      0.133     -0.445      0.658      -0.324       0.206\n",
      "LNMULT_59      -0.1244      0.258     -0.482      0.631      -0.637       0.388\n",
      "LNMEM_59        0.0811      0.340      0.238      0.812      -0.595       0.757\n",
      "LNACCESS_59     0.0195      0.136      0.143      0.886      -0.251       0.290\n",
      "LNMULT_60      -0.0651      0.258     -0.253      0.801      -0.577       0.447\n",
      "LNMEM_60        0.1482      0.361      0.411      0.682      -0.568       0.865\n",
      "LNACCESS_60     0.0257      0.129      0.200      0.842      -0.230       0.282\n",
      "LNMULT_61       0.0257      0.256      0.101      0.920      -0.482       0.534\n",
      "LNMEM_61        0.2755      0.348      0.793      0.430      -0.415       0.966\n",
      "LNACCESS_61    -0.0289      0.124     -0.233      0.816      -0.276       0.218\n",
      "LNMULT_62       0.1658      0.265      0.625      0.533      -0.361       0.693\n",
      "LNMEM_62        0.5513      0.347      1.589      0.116      -0.138       1.241\n",
      "LNACCESS_62    -0.1106      0.141     -0.783      0.436      -0.391       0.170\n",
      "LNMULT_63       0.0197      0.259      0.076      0.940      -0.496       0.535\n",
      "LNMEM_63        0.2998      0.341      0.879      0.382      -0.378       0.978\n",
      "LNACCESS_63     0.1054      0.195      0.540      0.590      -0.282       0.493\n",
      "LNMULT_64      -0.0614      0.251     -0.245      0.807      -0.560       0.437\n",
      "LNMEM_64        0.4116      0.339      1.213      0.228      -0.263       1.086\n",
      "LNACCESS_64     0.1877      0.166      1.132      0.261      -0.142       0.517\n",
      "LNMULT_65       0.0461      0.250      0.185      0.854      -0.450       0.542\n",
      "LNMEM_65        0.3027      0.333      0.909      0.366      -0.359       0.964\n",
      "LNACCESS_65 -2.278e-05      0.133     -0.000      1.000      -0.264       0.264\n",
      "===============================================================================\n"
     ]
    }
   ],
   "source": [
    "# Objetos para regresión\n",
    "x = ['CONST'] + ['D_' + str(i) for i in range(55,66)] + ['LNMULT','LNMEM','LNACCESS']\n",
    "X = df[x].copy()\n",
    "for year in range(55,66):\n",
    "    y = str(year)\n",
    "    f = ['LNMULT','LNMEM','LNACCESS']\n",
    "    X[['LNMULT_'+y,'LNMEM_'+y,'LNACCESS_'+y]] = X[f].multiply(X['D_'+y], axis=0)\n",
    "y = df['LNRENT']\n",
    "\n",
    "# Regresión\n",
    "m8 = sm.OLS(endog=y, exog=X).fit()\n",
    "print(m8.summary().tables[1])"
   ]
  },
  {
   "cell_type": "markdown",
   "id": "ccc53c80",
   "metadata": {},
   "source": [
    "Modelo restringido"
   ]
  },
  {
   "cell_type": "code",
   "execution_count": 14,
   "id": "1c064a5a",
   "metadata": {},
   "outputs": [],
   "source": [
    "# Objetos para regresión\n",
    "X = df[['CONST'] + ['D_'+str(y) for y in range(55,66)] + ['LNMULT','LNMEM','LNACCESS']]\n",
    "y = df['LNRENT']\n",
    "\n",
    "# Regresión\n",
    "m9 = sm.OLS(y, X).fit()"
   ]
  },
  {
   "cell_type": "markdown",
   "id": "e63ad000",
   "metadata": {},
   "source": [
    "Prueba F"
   ]
  },
  {
   "cell_type": "code",
   "execution_count": 15,
   "id": "dc1423cd",
   "metadata": {},
   "outputs": [
    {
     "data": {
      "text/plain": [
       "(0.9770281601571074, 33, 89.0, 0.5143160850946794)"
      ]
     },
     "execution_count": 15,
     "metadata": {},
     "output_type": "execute_result"
    }
   ],
   "source": [
    "f_test(unrest=m8, rest=m9)"
   ]
  },
  {
   "cell_type": "markdown",
   "id": "282aabd6",
   "metadata": {},
   "source": [
    "No puedo rechazar la hipótesis de que las pendientes sean distintas para cada año.\n",
    "\n",
    "Esto sucede porque no hay suficiente variabilidad _within_ la generación uno y _within_ la generación dos.\n",
    "\n",
    "La variabilidad viene _between_ la primera y segunda generaciones."
   ]
  },
  {
   "cell_type": "markdown",
   "id": "8d31ed05",
   "metadata": {},
   "source": [
    "### (d) Heteroscedasticidad\n",
    "Heteroscedasticidad en periodo 54-60"
   ]
  },
  {
   "cell_type": "code",
   "execution_count": 16,
   "id": "a173bfc3",
   "metadata": {},
   "outputs": [
    {
     "data": {
      "text/plain": [
       "(13.062282913126236,\n",
       " 0.02280204840927778,\n",
       " 3.1146862109989883,\n",
       " 0.015928131819553246)"
      ]
     },
     "execution_count": 16,
     "metadata": {},
     "output_type": "execute_result"
    }
   ],
   "source": [
    "X = df.loc[df['YEAR'].lt(60), ['D_55','D_56','D_57','D_58','D_59','D_60']]\n",
    "sm.stats.diagnostic.het_breuschpagan(resid=m4.resid, exog_het=X)"
   ]
  },
  {
   "cell_type": "markdown",
   "id": "4aad7bcd",
   "metadata": {},
   "source": [
    "El p-value del estadístico F es 0.02. Entonces sí puedo rechazar la hipótesis de que los errores sean homoscedásticos durante la primera generación de computadoras."
   ]
  },
  {
   "cell_type": "markdown",
   "id": "e4c1066a",
   "metadata": {},
   "source": [
    "Heteroscedasticidad en periodo 60-65"
   ]
  },
  {
   "cell_type": "code",
   "execution_count": 17,
   "id": "7e7f6ad3",
   "metadata": {
    "scrolled": true
   },
   "outputs": [
    {
     "data": {
      "text/plain": [
       "(7.9049907271389, 0.16155009168438864, 1.62164577927276, 0.16447752074356473)"
      ]
     },
     "execution_count": 17,
     "metadata": {},
     "output_type": "execute_result"
    }
   ],
   "source": [
    "X = df.loc[df['YEAR'].ge(60), ['D_60','D_61','D_62','D_63','D_64','D_65']]\n",
    "sm.stats.diagnostic.het_breuschpagan(resid=m1.resid, exog_het=X)"
   ]
  },
  {
   "cell_type": "markdown",
   "id": "2faf73cd",
   "metadata": {},
   "source": [
    "El p-value del estadístico F es 0.16. Como sigue siendo mayor a 0.05, no puedo rechazar la hipótesis de homoscedasticidad."
   ]
  },
  {
   "cell_type": "markdown",
   "id": "a9c761cb",
   "metadata": {},
   "source": [
    "## Ejercicio 6: Índice encadenado\n",
    "Crear columnas de año adyacente"
   ]
  },
  {
   "cell_type": "code",
   "execution_count": null,
   "id": "0284e9b9",
   "metadata": {},
   "outputs": [],
   "source": []
  },
  {
   "cell_type": "markdown",
   "id": "27a4e688",
   "metadata": {},
   "source": [
    "## Ejercicio 7: Box-Cox\n",
    "Leer datos de IBM"
   ]
  },
  {
   "cell_type": "code",
   "execution_count": 112,
   "id": "9f32eb1f",
   "metadata": {},
   "outputs": [],
   "source": [
    "# Leer\n",
    "df = pd.read_csv('../dat/cole.txt', sep='\\t')\n",
    "\n",
    "# Agregar constante\n",
    "df['CONST'] = 1"
   ]
  },
  {
   "cell_type": "markdown",
   "id": "2875076e",
   "metadata": {},
   "source": [
    "Casos especiales:\n",
    "- $\\lambda_j \\in \\{0,1\\}$ para $j \\in \\{x,y\\}$"
   ]
  },
  {
   "cell_type": "code",
   "execution_count": 113,
   "id": "9d65b095",
   "metadata": {},
   "outputs": [],
   "source": [
    "lambdas = []\n",
    "for l in [0,1]:\n",
    "    for col in ['PRICE','SPEED','CAP']:\n",
    "        df[col+'_l'+str(l)] = stats.boxcox(df[col], lmbda=l)"
   ]
  },
  {
   "cell_type": "markdown",
   "id": "7c208c83",
   "metadata": {},
   "source": [
    "$\\lambda_y$s que maximiza log-likelihood"
   ]
  },
  {
   "cell_type": "code",
   "execution_count": 114,
   "id": "da3b1008",
   "metadata": {},
   "outputs": [],
   "source": [
    "y, l_y = stats.boxcox(df['PRICE'])\n",
    "df['PRICE_ML'] = y"
   ]
  },
  {
   "cell_type": "markdown",
   "id": "34f263ba",
   "metadata": {},
   "source": [
    "$\\lambda_x$ que simultaneamente maximiza log-likelihood de $X_1$ y $X_2$"
   ]
  },
  {
   "cell_type": "code",
   "execution_count": 115,
   "id": "8db6bf0e",
   "metadata": {},
   "outputs": [
    {
     "name": "stdout",
     "output_type": "stream",
     "text": [
      "Lambda que maximiza log-likelihood simultaneamente: -0.007\n"
     ]
    }
   ],
   "source": [
    "lambdas = (np.arange(-1000, 1001) / 1000).tolist()\n",
    "loglike = []\n",
    "for l in lambdas:\n",
    "    spd = stats.boxcox_llf(lmb=l, data=df['SPEED'])\n",
    "    cap = stats.boxcox_llf(lmb=l, data=df['CAP'])\n",
    "    loglike.append(spd + cap)\n",
    "\n",
    "# Lambda que maximiza log-likelihood\n",
    "l_x = lambdas[loglike.index(max(loglike))]\n",
    "print('Lambda que maximiza log-likelihood simultaneamente:', l_x)\n",
    "\n",
    "# Asignar transformaciones\n",
    "df = df.assign(SPEED_ML=stats.boxcox(df['SPEED'], lmbda=l_x),\n",
    "               CAP_ML=stats.boxcox(df['CAP'], lmbda=l_x))"
   ]
  },
  {
   "cell_type": "code",
   "execution_count": 116,
   "id": "0e9c7847",
   "metadata": {},
   "outputs": [
    {
     "data": {
      "image/png": "[encoded data removed]",
      "text/plain": [
       "<Figure size 432x288 with 1 Axes>"
      ]
     },
     "metadata": {},
     "output_type": "display_data"
    }
   ],
   "source": [
    "plt.plot(lambdas, loglike, label='log-likelihood')\n",
    "plt.axvline(l_x, color='C1', lw=1, ls='--', label='Lambda óptimo')\n",
    "plt.xlim(-1.5, 1.5)\n",
    "plt.xlabel('Lambda', fontsize=11)\n",
    "plt.ylabel('Log-likelihood (suma)', fontsize=11)\n",
    "plt.legend(loc='upper left', fontsize=11)\n",
    "plt.show()"
   ]
  },
  {
   "cell_type": "markdown",
   "id": "a3fd580f",
   "metadata": {},
   "source": [
    "Comparación de los parámetros que maximizan la función de log-verosimilitud"
   ]
  },
  {
   "cell_type": "code",
   "execution_count": 137,
   "id": "754152e8",
   "metadata": {},
   "outputs": [
    {
     "name": "stdout",
     "output_type": "stream",
     "text": [
      "lambda_y: 0.23876851669819138\n",
      "lambda_x: -0.007\n"
     ]
    }
   ],
   "source": [
    "print('lambda_y:', l_y)\n",
    "print('lambda_x:', l_x)"
   ]
  },
  {
   "cell_type": "markdown",
   "id": "39503dce",
   "metadata": {},
   "source": [
    "El parámetro que maximiza la función de log-verosimilitud del precio **NO** es cercano a los casos especiales (0 ó 1).\n",
    "\n",
    "El parámetro que maximiza la función de log-verosimilitud de ambdas variables dependientes es muy cercano al 0. A pesar de ser negativo (-0.007), creo que Triplett estaba esperando observar un $\\lambda_x$ mucho más lejano al cero."
   ]
  },
  {
   "cell_type": "markdown",
   "id": "a7019b57",
   "metadata": {},
   "source": [
    "Regresiones"
   ]
  },
  {
   "cell_type": "code",
   "execution_count": 123,
   "id": "0a475781",
   "metadata": {},
   "outputs": [],
   "source": [
    "# Lista de columnas {constate dummies}\n",
    "cols = ['CONST'] + ['D'+str(y) for y in range(73, 85)]\n",
    "\n",
    "# ly = lx = 1\n",
    "m11 = sm.OLS(df['PRICE_l1'], df[cols + ['SPEED_l1','CAP_l1']]).fit()\n",
    "m11.name = 'm11'\n",
    "\n",
    "# ly = lx = 0\n",
    "m00 = sm.OLS(df['PRICE_l0'], df[cols + ['SPEED_l0','CAP_l0']]).fit()\n",
    "m00.name = 'm00'\n",
    "\n",
    "# ly = 0, lx = 1\n",
    "m01 = sm.OLS(df['PRICE_l0'], df[cols + ['SPEED_l1','CAP_l1']]).fit()\n",
    "m01.name = 'm01'\n",
    "\n",
    "# ly = 1, lx = 0\n",
    "m10 = sm.OLS(df['PRICE_l1'], df[cols + ['SPEED_l0','CAP_l0']]).fit()\n",
    "m10.name = 'm10'\n",
    "\n",
    "# ly y lx óptimos por log-likelihood (ll)\n",
    "mll = sm.OLS(df['PRICE_ML'], df[cols + ['SPEED_ML','CAP_ML']]).fit()\n",
    "mll.name = 'mll'\n",
    "\n",
    "# En una lisat\n",
    "m = [m11,m00,m01,m10,mll]"
   ]
  },
  {
   "cell_type": "markdown",
   "id": "7f20f41e",
   "metadata": {},
   "source": [
    "Antes de concluir, creo que las transformaciones de Box-Cox son necesarias porque las variables no se distribuyen normales."
   ]
  },
  {
   "cell_type": "code",
   "execution_count": 133,
   "id": "ba6129f4",
   "metadata": {
    "scrolled": false
   },
   "outputs": [
    {
     "data": {
      "image/png": "[encoded data removed]",
      "text/plain": [
       "<Figure size 360x216 with 1 Axes>"
      ]
     },
     "metadata": {},
     "output_type": "display_data"
    },
    {
     "data": {
      "image/png": "[encoded data removed]",
      "text/plain": [
       "<Figure size 360x216 with 1 Axes>"
      ]
     },
     "metadata": {},
     "output_type": "display_data"
    },
    {
     "data": {
      "image/png": "[encoded data removed]",
      "text/plain": [
       "<Figure size 360x216 with 1 Axes>"
      ]
     },
     "metadata": {},
     "output_type": "display_data"
    }
   ],
   "source": [
    "for col in ['PRICE','SPEED','CAP']:\n",
    "    plt.figure(figsize=(5,3))\n",
    "    plt.hist(df[col], bins=10)\n",
    "    plt.title('Distribución de ' + col.capitalize(), fontsize=12)\n",
    "    plt.show()"
   ]
  },
  {
   "cell_type": "markdown",
   "id": "7f8c9795",
   "metadata": {},
   "source": [
    "En lo personal, me quedaría con el modelo con la transformación Box-Cox usando $\\lambda_x = \\lambda_y = 0$. Escogí este modelo porque tiene un coeficiente de $R^2$ bastante alto y el criterio de Akaike más bajo de los cuatro modelos que probé."
   ]
  },
  {
   "cell_type": "code",
   "execution_count": 135,
   "id": "02bc477c",
   "metadata": {
    "scrolled": true
   },
   "outputs": [
    {
     "name": "stdout",
     "output_type": "stream",
     "text": [
      "m11 \n",
      " R2: 0.773 \n",
      " AIC: 1928.079 \n",
      "\n",
      "m00 \n",
      " R2: 0.838 \n",
      " AIC: 0.636 \n",
      "\n",
      "m01 \n",
      " R2: 0.651 \n",
      " AIC: 70.777 \n",
      "\n",
      "m10 \n",
      " R2: 0.838 \n",
      " AIC: 1897.303 \n",
      "\n",
      "mll \n",
      " R2: 0.853 \n",
      " AIC: 439.131 \n",
      "\n"
     ]
    }
   ],
   "source": [
    "for model in m:\n",
    "    print(model.name, '\\n R2:', round(model.rsquared, 3), '\\n AIC:', round(model.aic, 3), '\\n')"
   ]
  },
  {
   "cell_type": "markdown",
   "id": "b8a397e2",
   "metadata": {},
   "source": [
    "Las distribuciones de las variables transformadas se ven un poco más normales que antes. Me parece que la aproximación no es tan buena como podría ser porque tenemos pocas observaciones."
   ]
  },
  {
   "cell_type": "code",
   "execution_count": 136,
   "id": "50a53452",
   "metadata": {},
   "outputs": [
    {
     "data": {
      "image/png": "[encoded data removed]",
      "text/plain": [
       "<Figure size 360x216 with 1 Axes>"
      ]
     },
     "metadata": {},
     "output_type": "display_data"
    },
    {
     "data": {
      "image/png": "[encoded data removed]",
      "text/plain": [
       "<Figure size 360x216 with 1 Axes>"
      ]
     },
     "metadata": {},
     "output_type": "display_data"
    },
    {
     "data": {
      "image/png": "[encoded data removed]",
      "text/plain": [
       "<Figure size 360x216 with 1 Axes>"
      ]
     },
     "metadata": {},
     "output_type": "display_data"
    }
   ],
   "source": [
    "for col in ['PRICE_l0','SPEED_l0','CAP_l0']:\n",
    "    plt.figure(figsize=(5,3))\n",
    "    plt.hist(df[col], bins=10)\n",
    "    plt.title('Distribución de ' + col.capitalize(), fontsize=12)\n",
    "    plt.show()"
   ]
  },
  {
   "cell_type": "markdown",
   "id": "4bd38013",
   "metadata": {},
   "source": [
    "A pesar de la mejora en métricas de bondad de ajuste, la interpretación de cambios en las características de las variables se vuelve un poco complicada, pues las variables ahora han sido transformadas para asemejarse a una distribución normal, y sus medias y desviaciones estándar son afectadas por la transformación.\n",
    "\n",
    "Por suerte, el modelo que escogí usa $\\lambda_x = \\lambda_y = 0$. Esto se traduce en un modelo log-log y los coeficientes estimados se pueden interpretar como elasticidades.\n",
    "\n",
    "Considerando esto, podemos construir un índice como en la pregunta 3."
   ]
  },
  {
   "cell_type": "code",
   "execution_count": 176,
   "id": "15063dbe",
   "metadata": {},
   "outputs": [
    {
     "data": {
      "text/plain": [
       "D72    1.000000\n",
       "D73    1.016091\n",
       "D74    0.804362\n",
       "D75    0.733999\n",
       "D76    0.658800\n",
       "D77    0.659251\n",
       "D78    0.563248\n",
       "D79    0.463532\n",
       "D80    0.382830\n",
       "D81    0.380214\n",
       "D82    0.385331\n",
       "D83    0.332293\n",
       "D84    0.306911\n",
       "dtype: float64"
      ]
     },
     "execution_count": 176,
     "metadata": {},
     "output_type": "execute_result"
    }
   ],
   "source": [
    "pd.concat([pd.Series(data=[1], index=['D72']), np.exp(m00.params['D73':'D84'])], axis=0)"
   ]
  }
 ],
 "metadata": {
  "kernelspec": {
   "display_name": "Python 3",
   "language": "python",
   "name": "python3"
  },
  "language_info": {
   "codemirror_mode": {
    "name": "ipython",
    "version": 3
   },
   "file_extension": ".py",
   "mimetype": "text/x-python",
   "name": "python",
   "nbconvert_exporter": "python",
   "pygments_lexer": "ipython3",
   "version": "3.8.8"
  }
 },
 "nbformat": 4,
 "nbformat_minor": 5
}
