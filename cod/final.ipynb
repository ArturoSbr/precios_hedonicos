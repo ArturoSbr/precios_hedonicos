{
 "cells": [
  {
   "cell_type": "markdown",
   "id": "340ed1fd",
   "metadata": {},
   "source": [
    "# Econometría Aplicada 1 (Taller) - Examen Final\n",
    "Importar librerías"
   ]
  },
  {
   "cell_type": "code",
   "execution_count": 2,
   "id": "d03287b9",
   "metadata": {},
   "outputs": [],
   "source": [
    "import numpy as np\n",
    "import pandas as pd\n",
    "import statsmodels.api as sm"
   ]
  },
  {
   "cell_type": "markdown",
   "id": "8da007d6",
   "metadata": {},
   "source": [
    "## Ejercicio 3: Índice hedónico de computadoras\n",
    "Cargar datos"
   ]
  },
  {
   "cell_type": "code",
   "execution_count": 42,
   "id": "6aaa8293",
   "metadata": {},
   "outputs": [],
   "source": [
    "df = pd.read_csv('../dat/chow.txt', sep='\\t')"
   ]
  },
  {
   "cell_type": "markdown",
   "id": "ebe8f27b",
   "metadata": {},
   "source": [
    "### (a) Construcción de atributos\n",
    "Crear los atributos necesarios"
   ]
  },
  {
   "cell_type": "code",
   "execution_count": 43,
   "id": "f17f3c09",
   "metadata": {},
   "outputs": [],
   "source": [
    "# Agregar término constante\n",
    "df['CONST'] = 1\n",
    "\n",
    "# Crear atributos logarítmicos\n",
    "for col in ['RENT','MULT','ACCESS','ADD']:\n",
    "    df['LN'+col] = np.log(df[col])\n",
    "    \n",
    "# Crear Memory Space\n",
    "df['LNMEM'] = np.log(df[['WORDS','BINARY','DIGITS']].product(axis=1))\n",
    "\n",
    "# Crear dummies por año (61, 62, ..., 65)\n",
    "df['D'] = np.where(df['YEAR'].lt(61), 60, df['YEAR'])\n",
    "df = pd.get_dummies(df, prefix='D', prefix_sep='_', columns=['D'], drop_first=True)"
   ]
  },
  {
   "cell_type": "markdown",
   "id": "4cc7d9e6",
   "metadata": {},
   "source": [
    "Comparación de matríces de correlación en los periodos\n",
    "- [1954-1959]"
   ]
  },
  {
   "cell_type": "code",
   "execution_count": 44,
   "id": "329aa5b1",
   "metadata": {},
   "outputs": [
    {
     "data": {
      "text/html": [
       "<div>\n",
       "<style scoped>\n",
       "    .dataframe tbody tr th:only-of-type {\n",
       "        vertical-align: middle;\n",
       "    }\n",
       "\n",
       "    .dataframe tbody tr th {\n",
       "        vertical-align: top;\n",
       "    }\n",
       "\n",
       "    .dataframe thead th {\n",
       "        text-align: right;\n",
       "    }\n",
       "</style>\n",
       "<table border=\"1\" class=\"dataframe\">\n",
       "  <thead>\n",
       "    <tr style=\"text-align: right;\">\n",
       "      <th></th>\n",
       "      <th>LNRENT</th>\n",
       "      <th>LNMULT</th>\n",
       "      <th>LNACCESS</th>\n",
       "      <th>LNADD</th>\n",
       "      <th>LNMEM</th>\n",
       "    </tr>\n",
       "  </thead>\n",
       "  <tbody>\n",
       "    <tr>\n",
       "      <th>LNRENT</th>\n",
       "      <td>1.00</td>\n",
       "      <td>-0.87</td>\n",
       "      <td>-0.85</td>\n",
       "      <td>-0.84</td>\n",
       "      <td>0.88</td>\n",
       "    </tr>\n",
       "    <tr>\n",
       "      <th>LNMULT</th>\n",
       "      <td>-0.87</td>\n",
       "      <td>1.00</td>\n",
       "      <td>0.86</td>\n",
       "      <td>0.98</td>\n",
       "      <td>-0.74</td>\n",
       "    </tr>\n",
       "    <tr>\n",
       "      <th>LNACCESS</th>\n",
       "      <td>-0.85</td>\n",
       "      <td>0.86</td>\n",
       "      <td>1.00</td>\n",
       "      <td>0.85</td>\n",
       "      <td>-0.61</td>\n",
       "    </tr>\n",
       "    <tr>\n",
       "      <th>LNADD</th>\n",
       "      <td>-0.84</td>\n",
       "      <td>0.98</td>\n",
       "      <td>0.85</td>\n",
       "      <td>1.00</td>\n",
       "      <td>-0.73</td>\n",
       "    </tr>\n",
       "    <tr>\n",
       "      <th>LNMEM</th>\n",
       "      <td>0.88</td>\n",
       "      <td>-0.74</td>\n",
       "      <td>-0.61</td>\n",
       "      <td>-0.73</td>\n",
       "      <td>1.00</td>\n",
       "    </tr>\n",
       "  </tbody>\n",
       "</table>\n",
       "</div>"
      ],
      "text/plain": [
       "          LNRENT  LNMULT  LNACCESS  LNADD  LNMEM\n",
       "LNRENT      1.00   -0.87     -0.85  -0.84   0.88\n",
       "LNMULT     -0.87    1.00      0.86   0.98  -0.74\n",
       "LNACCESS   -0.85    0.86      1.00   0.85  -0.61\n",
       "LNADD      -0.84    0.98      0.85   1.00  -0.73\n",
       "LNMEM       0.88   -0.74     -0.61  -0.73   1.00"
      ]
     },
     "execution_count": 44,
     "metadata": {},
     "output_type": "execute_result"
    }
   ],
   "source": [
    "c1 = df.loc[df['YEAR'].between(54,59), 'LNRENT':'LNMEM'].corr()\n",
    "c1.round(2)"
   ]
  },
  {
   "cell_type": "markdown",
   "id": "d55a629a",
   "metadata": {},
   "source": [
    "- [1960-1965]"
   ]
  },
  {
   "cell_type": "code",
   "execution_count": 45,
   "id": "23e83d86",
   "metadata": {},
   "outputs": [
    {
     "data": {
      "text/html": [
       "<div>\n",
       "<style scoped>\n",
       "    .dataframe tbody tr th:only-of-type {\n",
       "        vertical-align: middle;\n",
       "    }\n",
       "\n",
       "    .dataframe tbody tr th {\n",
       "        vertical-align: top;\n",
       "    }\n",
       "\n",
       "    .dataframe thead th {\n",
       "        text-align: right;\n",
       "    }\n",
       "</style>\n",
       "<table border=\"1\" class=\"dataframe\">\n",
       "  <thead>\n",
       "    <tr style=\"text-align: right;\">\n",
       "      <th></th>\n",
       "      <th>LNRENT</th>\n",
       "      <th>LNMULT</th>\n",
       "      <th>LNACCESS</th>\n",
       "      <th>LNADD</th>\n",
       "      <th>LNMEM</th>\n",
       "    </tr>\n",
       "  </thead>\n",
       "  <tbody>\n",
       "    <tr>\n",
       "      <th>LNRENT</th>\n",
       "      <td>1.00</td>\n",
       "      <td>-0.63</td>\n",
       "      <td>-0.58</td>\n",
       "      <td>-0.63</td>\n",
       "      <td>0.88</td>\n",
       "    </tr>\n",
       "    <tr>\n",
       "      <th>LNMULT</th>\n",
       "      <td>-0.63</td>\n",
       "      <td>1.00</td>\n",
       "      <td>0.77</td>\n",
       "      <td>0.94</td>\n",
       "      <td>-0.57</td>\n",
       "    </tr>\n",
       "    <tr>\n",
       "      <th>LNACCESS</th>\n",
       "      <td>-0.58</td>\n",
       "      <td>0.77</td>\n",
       "      <td>1.00</td>\n",
       "      <td>0.81</td>\n",
       "      <td>-0.46</td>\n",
       "    </tr>\n",
       "    <tr>\n",
       "      <th>LNADD</th>\n",
       "      <td>-0.63</td>\n",
       "      <td>0.94</td>\n",
       "      <td>0.81</td>\n",
       "      <td>1.00</td>\n",
       "      <td>-0.56</td>\n",
       "    </tr>\n",
       "    <tr>\n",
       "      <th>LNMEM</th>\n",
       "      <td>0.88</td>\n",
       "      <td>-0.57</td>\n",
       "      <td>-0.46</td>\n",
       "      <td>-0.56</td>\n",
       "      <td>1.00</td>\n",
       "    </tr>\n",
       "  </tbody>\n",
       "</table>\n",
       "</div>"
      ],
      "text/plain": [
       "          LNRENT  LNMULT  LNACCESS  LNADD  LNMEM\n",
       "LNRENT      1.00   -0.63     -0.58  -0.63   0.88\n",
       "LNMULT     -0.63    1.00      0.77   0.94  -0.57\n",
       "LNACCESS   -0.58    0.77      1.00   0.81  -0.46\n",
       "LNADD      -0.63    0.94      0.81   1.00  -0.56\n",
       "LNMEM       0.88   -0.57     -0.46  -0.56   1.00"
      ]
     },
     "execution_count": 45,
     "metadata": {},
     "output_type": "execute_result"
    }
   ],
   "source": [
    "c2 = df.loc[df['YEAR'].between(60,65), 'LNRENT':'LNMEM'].corr()\n",
    "c2.round(2)"
   ]
  },
  {
   "cell_type": "markdown",
   "id": "44e47a50",
   "metadata": {},
   "source": [
    "Los coeficientes de correlación entre las siguientes variables cambiaron menos de 10 puntos porcentuales entre ambos periodos:\n",
    "1. `LNRENT` y `LNMEM`\n",
    "1. `LNMULT` y `LNACCESS`\n",
    "1. `LNMULT` y `LNADD`\n",
    "1. `LNACCESS` y `LNADD`\n",
    "\n",
    "Los demás pares de variables cambian en 10 o más puntos porcentuales.\n",
    "\n",
    "En general, ambas matríces de correlación se parecen. Sin embargo, considero que hay diferencias importantes entre ambos periodos. En particular, hay menos pares de variables con coeficientes de correlación mayores a 0.7 en valor absoluto en el segundo periodo.\n",
    "\n",
    "Igualmente, creo que Chow estaba en lo correcto al preocuparse por la posibilidad de un problema de multicolinealidad, pues todos los pares de variables excepto por `LNMEM` y `LNACCESS` tienen un coeficiente de correlación de almenos 0.7 en valor absoluto en el periodo previo a 1960.\n",
    "\n",
    "Las correlaciones siguen siendo altas de 1960 en adelante. Sin embargo, los coeficientes tienden a disminuir en esta ventana de tiempo."
   ]
  },
  {
   "cell_type": "markdown",
   "id": "9bdbc4a9",
   "metadata": {},
   "source": [
    "### (b) Regresión de Chow"
   ]
  },
  {
   "cell_type": "code",
   "execution_count": 51,
   "id": "c575dc08",
   "metadata": {},
   "outputs": [],
   "source": [
    "# Objetos para regresión\n",
    "feats = ['CONST','D_61','D_62','D_63','D_64','D_65','LNMULT','LNMEM','LNACCESS']\n",
    "targt = 'LNRENT'\n",
    "X = df.loc[df['YEAR'].ge(60), feats]\n",
    "y = df.loc[df['YEAR'].ge(60), targt]\n",
    "\n",
    "# Modelo de Chow\n",
    "m1 = sm.OLS(endog=y, exog=X)\n",
    "m1_res = m1.fit()"
   ]
  },
  {
   "cell_type": "code",
   "execution_count": 59,
   "id": "202b9ab6",
   "metadata": {},
   "outputs": [
    {
     "name": "stdout",
     "output_type": "stream",
     "text": [
      "==============================================================================\n",
      "                 coef    std err          t      P>|t|      [0.025      0.975]\n",
      "------------------------------------------------------------------------------\n",
      "CONST         -0.1045      0.315     -0.332      0.741      -0.732       0.523\n",
      "D_61          -0.1398      0.166     -0.840      0.404      -0.472       0.192\n",
      "D_62          -0.4891      0.174     -2.815      0.006      -0.835      -0.143\n",
      "D_63          -0.5938      0.166     -3.575      0.001      -0.925      -0.263\n",
      "D_64          -0.9248      0.166     -5.561      0.000      -1.256      -0.593\n",
      "D_65          -1.1632      0.166     -7.003      0.000      -1.494      -0.832\n",
      "LNMULT        -0.0654      0.028     -2.301      0.024      -0.122      -0.009\n",
      "LNMEM          0.5793      0.035     16.369      0.000       0.509       0.650\n",
      "LNACCESS      -0.1406      0.029     -4.794      0.000      -0.199      -0.082\n",
      "==============================================================================\n",
      "Observations: 82.0\n",
      "R2: 0.908\n"
     ]
    }
   ],
   "source": [
    "print(m1_res.summary().tables[1])\n",
    "print('Observations:', int(m1_res.nobs))\n",
    "print('R2:', round(m1_res.rsquared, 3))"
   ]
  },
  {
   "cell_type": "code",
   "execution_count": null,
   "id": "9df78ff4",
   "metadata": {},
   "outputs": [],
   "source": []
  }
 ],
 "metadata": {
  "kernelspec": {
   "display_name": "Python 3",
   "language": "python",
   "name": "python3"
  },
  "language_info": {
   "codemirror_mode": {
    "name": "ipython",
    "version": 3
   },
   "file_extension": ".py",
   "mimetype": "text/x-python",
   "name": "python",
   "nbconvert_exporter": "python",
   "pygments_lexer": "ipython3",
   "version": "3.8.8"
  }
 },
 "nbformat": 4,
 "nbformat_minor": 5
}
