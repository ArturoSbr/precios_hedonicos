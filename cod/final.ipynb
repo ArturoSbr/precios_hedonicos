{
 "cells": [
  {
   "cell_type": "markdown",
   "id": "d74ad4a7",
   "metadata": {},
   "source": [
    "# Econometría Aplicada 1 (Taller) - Examen Final\n",
    "Importar librerías"
   ]
  },
  {
   "cell_type": "code",
   "execution_count": 1,
   "id": "98be54b7",
   "metadata": {},
   "outputs": [],
   "source": [
    "import numpy as np\n",
    "import pandas as pd\n",
    "import statsmodels.api as sm\n",
    "import matplotlib.pyplot as plt\n",
    "plt.style.use('fivethirtyeight')"
   ]
  },
  {
   "cell_type": "markdown",
   "id": "c4252dbc",
   "metadata": {},
   "source": [
    "## Ejercicio 3: Índice hedónico de computadoras\n",
    "Cargar datos"
   ]
  },
  {
   "cell_type": "code",
   "execution_count": null,
   "id": "90de866d",
   "metadata": {},
   "outputs": [],
   "source": [
    "df = pd.read_csv('../dat/chow.txt', sep='\\t')"
   ]
  },
  {
   "cell_type": "markdown",
   "id": "3245f9e1",
   "metadata": {},
   "source": [
    "### (a) Construcción de atributos\n",
    "Crear los atributos necesarios"
   ]
  },
  {
   "cell_type": "code",
   "execution_count": null,
   "id": "dfee3926",
   "metadata": {},
   "outputs": [],
   "source": [
    "# Agregar término constante\n",
    "df['CONST'] = 1\n",
    "\n",
    "# Crear atributos logarítmicos\n",
    "for col in ['RENT','MULT','ACCESS','ADD']:\n",
    "    df['LN'+col] = np.log(df[col])\n",
    "    \n",
    "# Crear Memory Space\n",
    "df['LNMEM'] = np.log(df[['WORDS','BINARY','DIGITS']].product(axis=1))\n",
    "\n",
    "# Crear dummies por año (61, 62, ..., 65)\n",
    "df['D'] = np.where(df['YEAR'].lt(61), 60, df['YEAR'])\n",
    "df = pd.get_dummies(df, prefix='D', prefix_sep='_', columns=['D'], drop_first=True)"
   ]
  },
  {
   "cell_type": "markdown",
   "id": "002164ad",
   "metadata": {},
   "source": [
    "Comparación de matríces de correlación en los periodos\n",
    "- [1954-1959]"
   ]
  },
  {
   "cell_type": "code",
   "execution_count": null,
   "id": "9d56d382",
   "metadata": {},
   "outputs": [],
   "source": [
    "c1 = df.loc[df['YEAR'].between(54,59), 'LNRENT':'LNMEM'].corr()\n",
    "c1.round(2)"
   ]
  },
  {
   "cell_type": "markdown",
   "id": "b68f70dc",
   "metadata": {},
   "source": [
    "- [1960-1965]"
   ]
  },
  {
   "cell_type": "code",
   "execution_count": null,
   "id": "4c74a709",
   "metadata": {},
   "outputs": [],
   "source": [
    "c2 = df.loc[df['YEAR'].between(60,65), 'LNRENT':'LNMEM'].corr()\n",
    "c2.round(2)"
   ]
  },
  {
   "cell_type": "markdown",
   "id": "51acd592",
   "metadata": {},
   "source": [
    "Los coeficientes de correlación entre las siguientes variables cambiaron menos de 10 puntos porcentuales entre ambos periodos:\n",
    "1. `LNRENT` y `LNMEM`\n",
    "1. `LNMULT` y `LNACCESS`\n",
    "1. `LNMULT` y `LNADD`\n",
    "1. `LNACCESS` y `LNADD`\n",
    "\n",
    "Los demás pares de variables cambian en 10 o más puntos porcentuales.\n",
    "\n",
    "En general, ambas matríces de correlación se parecen. Sin embargo, considero que hay diferencias importantes entre ambos periodos. En particular, hay menos pares de variables con coeficientes de correlación mayores a 0.7 en valor absoluto en el segundo periodo.\n",
    "\n",
    "Igualmente, creo que Chow estaba en lo correcto al preocuparse por la posibilidad de un problema de multicolinealidad, pues todos los pares de variables excepto por `LNMEM` y `LNACCESS` tienen un coeficiente de correlación de almenos 0.7 en valor absoluto en el periodo previo a 1960.\n",
    "\n",
    "Las correlaciones siguen siendo altas de 1960 en adelante. Sin embargo, los coeficientes tienden a disminuir en esta ventana de tiempo."
   ]
  },
  {
   "cell_type": "markdown",
   "id": "5e7ccb18",
   "metadata": {},
   "source": [
    "### (b) Regresión de Chow"
   ]
  },
  {
   "cell_type": "code",
   "execution_count": null,
   "id": "02a20fb8",
   "metadata": {},
   "outputs": [],
   "source": [
    "# Objetos para regresión\n",
    "feats = ['CONST','D_61','D_62','D_63','D_64','D_65','LNMULT','LNMEM','LNACCESS']\n",
    "targt = 'LNRENT'\n",
    "X = df.loc[df['YEAR'].ge(60), feats]\n",
    "y = df.loc[df['YEAR'].ge(60), targt]\n",
    "\n",
    "# Modelo de Chow\n",
    "m1 = sm.OLS(endog=y, exog=X)\n",
    "m1_res = m1.fit()"
   ]
  },
  {
   "cell_type": "code",
   "execution_count": null,
   "id": "fcbc2fa4",
   "metadata": {},
   "outputs": [],
   "source": [
    "print(m1_res.summary().tables[1])\n",
    "print('Observations:', int(m1_res.nobs))\n",
    "print('R2:', round(m1_res.rsquared, 3))"
   ]
  },
  {
   "cell_type": "markdown",
   "id": "2dde9779",
   "metadata": {},
   "source": [
    "Índice de precios usando método alternativo"
   ]
  },
  {
   "cell_type": "code",
   "execution_count": null,
   "id": "13968c28",
   "metadata": {},
   "outputs": [],
   "source": [
    "t = pd.concat([pd.Series([1], ['D_60']), np.exp(m1_res.params['D_61':'D_65'])]).to_frame()\n",
    "t.columns=['Price Index (exp)']\n",
    "t['Price Index (Chow)'] = [1,.8438,.6414,.5330,.3906,.3188]\n",
    "t.round(4)"
   ]
  },
  {
   "cell_type": "code",
   "execution_count": null,
   "id": "4dc44377",
   "metadata": {},
   "outputs": [],
   "source": [
    "plt.plot(t.index, t['Price Index (exp)'], label='Coeficientes exponenciados')\n",
    "plt.plot(t.index, t['Price Index (Chow)'], label='Método Chow')\n",
    "plt.xticks(t.index, labels=range(1960,1966), rotation=45, fontsize=12)\n",
    "plt.xlabel('Año', fontsize=12)\n",
    "plt.ylabel('Índice de precios (base 1960)', fontsize=12)\n",
    "plt.legend()\n",
    "plt.show()"
   ]
  },
  {
   "cell_type": "markdown",
   "id": "d6096be9",
   "metadata": {},
   "source": [
    "El índice de precios usando el método de exponenciar los coeficientes de efectos fijos por año da resultados muy similares al método de Chow. Ambas series muestran la misma tendencia a la baja y las diferencias son negligibles."
   ]
  },
  {
   "cell_type": "markdown",
   "id": "273b7fac",
   "metadata": {},
   "source": [
    "### (c) Especificación alternativa\n",
    "Prueba de que la especificación de Chow asume que el logaritmo `BINARY * DIGITS` y de `WORDS` tienen la misma pendiente:\n",
    "$$\\beta \\ln(MEM) = \\beta \\ln(WORDS \\times BINARY \\times DIGITS) = \\beta \\ln(WORDS) + \\beta \\ln(BINARY \\times DIGITS)$$"
   ]
  },
  {
   "cell_type": "code",
   "execution_count": null,
   "id": "739ac1b6",
   "metadata": {},
   "outputs": [],
   "source": [
    "# Separar LNMEM en dos términos independientes\n",
    "df = df.assign(LNLENGTH=np.log(df['BINARY'].multiply(df['DIGITS'])),\n",
    "               LNWORDS=np.log(df['WORDS']))\n",
    "\n",
    "# Objetos para regresión\n",
    "feats = ['CONST','D_61','D_62','D_63','D_64','D_65','LNMULT','LNLENGTH','LNWORDS','LNACCESS']\n",
    "X = df.loc[df['YEAR'].ge(60), feats]\n",
    "y = df.loc[df['YEAR'].ge(60), 'LNRENT']\n",
    "\n",
    "# Modelo alternativo\n",
    "m2 = sm.OLS(y, X)\n",
    "m2_res = m2.fit()\n",
    "print(m2_res.summary().tables[1])"
   ]
  },
  {
   "cell_type": "markdown",
   "id": "5f942ad4",
   "metadata": {},
   "source": [
    "Probar si los coeficientes son distintos entre sí:"
   ]
  },
  {
   "cell_type": "code",
   "execution_count": null,
   "id": "9ad78492",
   "metadata": {},
   "outputs": [],
   "source": [
    "print('R2 adj de modelo 1:', round(m1_res.rsquared_adj, 4))\n",
    "print('R2 adj de modelo 2:', round(m1_res.rsquared_adj, 4))\n",
    "\n",
    "# Probar si los coeficientes son distintos\n",
    "m2_res.t_test([0,0,0,0,0,0,0,1,-1,0]).summary()"
   ]
  },
  {
   "cell_type": "markdown",
   "id": "04f26773",
   "metadata": {},
   "source": [
    "Ambas especificaciones resultan en prácticamente el mismo coeficiente $R^2$ adjustado, así que la especificación no tienen un impacto sobre el desempeño predictivo del modelo. Sin embargo, los coeficientes de `LNLENGTH` y de `LNWORDS` son muy parecidos y no podemos rechazar la hipótesis nula de que tengan el mismo efecto sobre la variable dependiente.\n",
    "\n",
    "Por cuestiones de parsimonía, prefiero el primer modelo."
   ]
  },
  {
   "cell_type": "markdown",
   "id": "d3e26f5a",
   "metadata": {},
   "source": [
    "### (d) Efectos fijos sin término constante\n",
    "Usar todas las observaciones y crear efectos fijos por año (sin constante)"
   ]
  },
  {
   "cell_type": "code",
   "execution_count": null,
   "id": "48450d12",
   "metadata": {},
   "outputs": [],
   "source": [
    "# Objetos para regresión\n",
    "X = pd.concat([pd.get_dummies(df['YEAR'], prefix='D'), df[['LNMULT','LNMEM','LNACCESS']]], axis=1)\n",
    "y = df['LNRENT']\n",
    "\n",
    "# Modelo\n",
    "m3 = sm.OLS(y, X)\n",
    "m3_res = m3.fit()\n",
    "print(m3_res.summary().tables[1])"
   ]
  },
  {
   "cell_type": "code",
   "execution_count": null,
   "id": "440c8d58",
   "metadata": {},
   "outputs": [],
   "source": [
    "t = np.exp(m3_res.params['D_54':'D_65'] - m3_res.params['D_54']).to_frame()\n",
    "t.columns = ['Price Index (base 1954)']\n",
    "t['Price Index (base 1965)'] = t['Price Index (base 1954)'].div(t.loc['D_65'].item())\n",
    "(t * 100).round(0)"
   ]
  },
  {
   "cell_type": "markdown",
   "id": "c12b959c",
   "metadata": {},
   "source": [
    "La segunda columna es igual a la primera salvo porque renormalicé la serie a 1965.\n",
    "\n",
    "Con respecto a la serie de Triplett, mis estimaciones resultan en índices más bajos. Por ejemplo, en 1954, el precio de una computadora era 10 veces el índice de 1965. De acuerdo a los coeficientes estimados por Triplett, el precio de la misma computadora era 13.20 veces el precio de 1965."
   ]
  },
  {
   "cell_type": "markdown",
   "id": "a1156179",
   "metadata": {},
   "source": [
    "### (e) Heteroscedasticidad"
   ]
  },
  {
   "cell_type": "code",
   "execution_count": null,
   "id": "a7bb0368",
   "metadata": {},
   "outputs": [],
   "source": [
    "# Objetos para regresión\n",
    "w = np.sqrt(df.loc[df['YEAR'].ge(60), 'VOLUME'])\n",
    "X = df.loc[df['YEAR'].ge(60), m1.exog_names]\n",
    "y = df.loc[df['YEAR'].ge(60), 'LNRENT']\n",
    "\n",
    "# Modelo\n",
    "m4 = sm.OLS(y, X.multiply(w, axis=0), hasconst=True)\n",
    "m4_res = m4.fit()\n",
    "print(m4_res.summary().tables[1])"
   ]
  },
  {
   "cell_type": "markdown",
   "id": "70da1c84",
   "metadata": {},
   "source": [
    "Me parece que este método no es correcto porque el libro muestra un ejemplo donde $Y_i$ es el precio promedio del modelo $i$ en la siguiente especificación:\n",
    "$$Y_i = \\beta_0 + \\beta_1 X_{1,i} + ... + u_i$$\n",
    "\n",
    "Nuestra especificación usa $\\ln(Y_i)$ como variable dependiente, la cual no es una transformación lineal. Es decir, $\\sqrt{S_m} \\ \\times \\ln(Y_i) \\neq \\ln\\big(Y_i \\times \\sqrt{S_m} \\ \\big)$.\n",
    "\n",
    "Solo deberíamos de aplicar esta transformación cuando modelamos el precio de las computadoras, no el logaritmo del precio.\n",
    "\n",
    "Como se muestra a continuación, el método que no usa este atajo coincide casi puntualmente con la estimación original salvo que los errores estándar son más grandes en la mayoría de los casos."
   ]
  },
  {
   "cell_type": "code",
   "execution_count": null,
   "id": "a1374ae2",
   "metadata": {},
   "outputs": [],
   "source": [
    "m5 = sm.OLS(y, X, weights=w).fit()\n",
    "print(m5.summary().tables[1])"
   ]
  },
  {
   "cell_type": "markdown",
   "id": "72615f0f",
   "metadata": {},
   "source": [
    "## Ejercicio 4: IBM\n",
    "Cargar datos"
   ]
  },
  {
   "cell_type": "code",
   "execution_count": 2,
   "id": "f16f0c88",
   "metadata": {},
   "outputs": [],
   "source": [
    "df = pd.read_csv('../dat/cole.txt', sep='\\t')"
   ]
  },
  {
   "cell_type": "code",
   "execution_count": 4,
   "id": "bb60e81c",
   "metadata": {},
   "outputs": [
    {
     "data": {
      "text/plain": [
       "Index(['Obs', 'DEVICE', 'FCS', 'CAP', 'ACT', 'ACCT', 'ROTD', 'TR', 'ARDEN',\n",
       "       'PRICE', 'SPEED', 'OLDTR', 'OLDARD', 'OLDPR', 'OLDSP', 'D72', 'D73',\n",
       "       'D74', 'D75', 'D76', 'D77', 'D78', 'D79', 'D80', 'D81', 'D82', 'D83',\n",
       "       'D84', 'YEAR', 'LNPRICE', 'CONST', 'LNSPEED', 'LNCAP'],\n",
       "      dtype='object')"
      ]
     },
     "execution_count": 4,
     "metadata": {},
     "output_type": "execute_result"
    }
   ],
   "source": [
    "df.columns"
   ]
  },
  {
   "cell_type": "markdown",
   "id": "39bc68af",
   "metadata": {},
   "source": [
    "### (a) Regresión\n",
    "La pregunta indica que tengo que usar los datos viejos."
   ]
  },
  {
   "cell_type": "code",
   "execution_count": 16,
   "id": "ef7983bc",
   "metadata": {},
   "outputs": [
    {
     "name": "stdout",
     "output_type": "stream",
     "text": [
      "==============================================================================\n",
      "                 coef    std err          t      P>|t|      [0.025      0.975]\n",
      "------------------------------------------------------------------------------\n",
      "CONST          9.4803      0.739     12.830      0.000       8.009      10.952\n",
      "D73            0.0531      0.121      0.438      0.663      -0.189       0.295\n",
      "D74           -0.1828      0.115     -1.588      0.116      -0.412       0.046\n",
      "D75           -0.2743      0.115     -2.381      0.020      -0.504      -0.045\n",
      "D76           -0.3861      0.111     -3.482      0.001      -0.607      -0.165\n",
      "D77           -0.3916      0.123     -3.187      0.002      -0.636      -0.147\n",
      "D78           -0.5500      0.169     -3.263      0.002      -0.886      -0.214\n",
      "D79           -0.7449      0.169     -4.419      0.000      -1.081      -0.409\n",
      "D80           -0.9365      0.162     -5.779      0.000      -1.259      -0.614\n",
      "D81           -0.9455      0.161     -5.889      0.000      -1.265      -0.626\n",
      "D82           -0.9334      0.169     -5.513      0.000      -1.271      -0.596\n",
      "D83           -1.0893      0.184     -5.925      0.000      -1.455      -0.723\n",
      "D84           -1.1678      0.189     -6.193      0.000      -1.543      -0.792\n",
      "LNOLDSP        0.4108      0.123      3.343      0.001       0.166       0.656\n",
      "LNCAP          0.4558      0.078      5.840      0.000       0.300       0.611\n",
      "==============================================================================\n",
      "R2: 0.8438665464110455\n"
     ]
    }
   ],
   "source": [
    "# Nuevas columnas\n",
    "df = df.assign(CONST=1,\n",
    "               LNOLDPR=np.log(df['OLDPR']),\n",
    "               LNPRICE=np.log(df['PRICE']),\n",
    "               LNOLDSP=np.log(df['OLDSP']),\n",
    "               LNSPEED=np.log(df['SPEED']),\n",
    "               LNCAP=np.log(df['CAP']))\n",
    "\n",
    "# Objetos para regresión\n",
    "feats = ['CONST','D73','D74','D75','D76','D77','D78','D79','D80',\n",
    "         'D81','D82','D83','D84','LNOLDSP','LNCAP']\n",
    "X = df[feats]\n",
    "y = df['LNOLDPR']\n",
    "\n",
    "# Modelo\n",
    "m1 = sm.OLS(y, X).fit()\n",
    "print(m1.summary().tables[1])\n",
    "print('R2:', m1.rsquared)"
   ]
  },
  {
   "cell_type": "markdown",
   "id": "57e2acf6",
   "metadata": {},
   "source": [
    "### (b) Misma regresión usando nuevos datos"
   ]
  },
  {
   "cell_type": "code",
   "execution_count": 17,
   "id": "cae0a7ce",
   "metadata": {},
   "outputs": [
    {
     "name": "stdout",
     "output_type": "stream",
     "text": [
      "==============================================================================\n",
      "                 coef    std err          t      P>|t|      [0.025      0.975]\n",
      "------------------------------------------------------------------------------\n",
      "CONST          9.4283      0.757     12.459      0.000       7.921      10.936\n",
      "D73            0.0160      0.121      0.132      0.896      -0.225       0.257\n",
      "D74           -0.2177      0.115     -1.891      0.062      -0.447       0.012\n",
      "D75           -0.3092      0.115     -2.685      0.009      -0.539      -0.080\n",
      "D76           -0.4173      0.111     -3.764      0.000      -0.638      -0.197\n",
      "D77           -0.4167      0.123     -3.387      0.001      -0.662      -0.172\n",
      "D78           -0.5740      0.169     -3.399      0.001      -0.910      -0.238\n",
      "D79           -0.7689      0.169     -4.553      0.000      -1.105      -0.433\n",
      "D80           -0.9602      0.162     -5.915      0.000      -1.283      -0.637\n",
      "D81           -0.9670      0.161     -6.014      0.000      -1.287      -0.647\n",
      "D82           -0.9537      0.170     -5.626      0.000      -1.291      -0.616\n",
      "D83           -1.1017      0.184     -5.988      0.000      -1.468      -0.735\n",
      "D84           -1.1812      0.189     -6.259      0.000      -1.557      -0.805\n",
      "LNSPEED        0.3909      0.126      3.092      0.003       0.139       0.643\n",
      "LNCAP          0.4588      0.079      5.794      0.000       0.301       0.616\n",
      "==============================================================================\n",
      "R2: 0.8383458867355523\n"
     ]
    }
   ],
   "source": [
    "feats = ['CONST','D73','D74','D75','D76','D77','D78','D79','D80',\n",
    "         'D81','D82','D83','D84','LNSPEED','LNCAP']\n",
    "X = df[feats]\n",
    "y = df['LNPRICE']\n",
    "\n",
    "# Modelo nuevo\n",
    "m2 = sm.OLS(y, X).fit()\n",
    "print(m2.summary().tables[1])\n",
    "print('R2:', m2.rsquared)"
   ]
  },
  {
   "cell_type": "markdown",
   "id": "6b000648",
   "metadata": {},
   "source": [
    "Todos los coeficientes se mantienen cercanos a lo que solían ser. En particular, los coeficientes estimados en la vieja y nueva regresión resultan en que las mismas variables tienen un efecto estadísticamente significativo.\n",
    "\n",
    "El efecto marginal de `LNSPEED` bajo, pero no mucho."
   ]
  },
  {
   "cell_type": "markdown",
   "id": "871d1423",
   "metadata": {},
   "source": [
    "### (c) Homogeneidad\n",
    "$H_0$: $\\beta_{lnspeed} + \\beta_{lncap} = 1$\n",
    "\n",
    "$H_1$: $\\beta_{lnspeed} + \\beta_{lncap} \\neq 1$"
   ]
  },
  {
   "cell_type": "code",
   "execution_count": 34,
   "id": "b9ae9a87",
   "metadata": {},
   "outputs": [
    {
     "data": {
      "text/plain": [
       "<class 'statsmodels.stats.contrast.ContrastResults'>\n",
       "                             Test for Constraints                             \n",
       "==============================================================================\n",
       "                 coef    std err          t      P>|t|      [0.025      0.975]\n",
       "------------------------------------------------------------------------------\n",
       "c0             0.8497      0.074     11.430      0.000       0.702       0.998\n",
       "=============================================================================="
      ]
     },
     "execution_count": 34,
     "metadata": {},
     "output_type": "execute_result"
    }
   ],
   "source": [
    "m2.t_test(np.zeros(len(m2.params)-2).astype(int).tolist() + [1, 1])"
   ]
  },
  {
   "cell_type": "markdown",
   "id": "25907583",
   "metadata": {},
   "source": [
    "Podemos rechazar la hipótesis nula de que los coeficientes sean iguales a uno. Esto significa que al multiplicar ambas variables por $\\lambda$, el precio se multiplicaría por un factor menor a $\\lambda$."
   ]
  },
  {
   "cell_type": "markdown",
   "id": "bdb1a772",
   "metadata": {},
   "source": [
    "### (d) Efectos anuales constantes\n",
    "Si reemplazamos los efectos fijos anuales por una sola columna de tiempo, estamos asumiendo que el paso del tiempo tiene rendimientos constantes sobre el logaritmo del precio porque estamos estimando un solo coeficiente."
   ]
  },
  {
   "cell_type": "code",
   "execution_count": 50,
   "id": "36054a34",
   "metadata": {},
   "outputs": [
    {
     "name": "stdout",
     "output_type": "stream",
     "text": [
      "==============================================================================\n",
      "                 coef    std err          t      P>|t|      [0.025      0.975]\n",
      "------------------------------------------------------------------------------\n",
      "CONST          9.7808      0.639     15.298      0.000       8.510      11.052\n",
      "TIME          -0.1052      0.012     -8.424      0.000      -0.130      -0.080\n",
      "LNSPEED        0.4343      0.109      3.988      0.000       0.218       0.651\n",
      "LNCAP          0.4428      0.066      6.745      0.000       0.312       0.573\n",
      "==============================================================================\n"
     ]
    }
   ],
   "source": [
    "# Nueva variable de rendimientos constantes\n",
    "df['TIME'] = df['YEAR'] - 1971\n",
    "\n",
    "# Objetos para regresión\n",
    "X = df[['CONST','TIME','LNSPEED','LNCAP']]\n",
    "y = df['LNPRICE']\n",
    "\n",
    "# Modelo\n",
    "m3 = sm.OLS(y, X).fit()\n",
    "print(m3.summary().tables[1])"
   ]
  },
  {
   "cell_type": "markdown",
   "id": "1a0983de",
   "metadata": {},
   "source": [
    "Haré la prueba $F$ de que todos los coeficientes sean iguales."
   ]
  },
  {
   "cell_type": "code",
   "execution_count": 61,
   "id": "2549399c",
   "metadata": {},
   "outputs": [
    {
     "data": {
      "text/plain": [
       "array([0.        , 0.        , 1.10515499, 0.        , 0.        ,\n",
       "       0.        , 0.        , 0.        , 0.        , 0.        ,\n",
       "       0.        , 0.        , 0.        , 0.        , 0.        ])"
      ]
     },
     "execution_count": 61,
     "metadata": {},
     "output_type": "execute_result"
    }
   ],
   "source": [
    "np.roll([0,1-b,0,0,0,0,0,0,0,0,0,0,0,0,0], 1)"
   ]
  },
  {
   "cell_type": "code",
   "execution_count": 73,
   "id": "4ca4c4b9",
   "metadata": {},
   "outputs": [
    {
     "data": {
      "text/plain": [
       "<class 'statsmodels.stats.contrast.ContrastResults'>\n",
       "<F test: F=array([[6.1990736]]), p=1.7806867071957074e-07, df_denom=76, df_num=12>"
      ]
     },
     "execution_count": 73,
     "metadata": {},
     "output_type": "execute_result"
    }
   ],
   "source": [
    "# Efecto marginal anual\n",
    "b = m3.params['TIME']\n",
    "\n",
    "# Matriz de restricciones\n",
    "L = np.matrix([[0,1-b,0,0,0,0,0,0,0,0,0,0,0,0,0],\n",
    "               [0,0,1-b,0,0,0,0,0,0,0,0,0,0,0,0],\n",
    "               [0,0,0,1-b,0,0,0,0,0,0,0,0,0,0,0],\n",
    "               [0,0,0,0,1-b,0,0,0,0,0,0,0,0,0,0],\n",
    "               [0,0,0,0,0,1-b,0,0,0,0,0,0,0,0,0],\n",
    "               [0,0,0,0,0,0,1-b,0,0,0,0,0,0,0,0],\n",
    "               [0,0,0,0,0,0,0,1-b,0,0,0,0,0,0,0],\n",
    "               [0,0,0,0,0,0,0,0,1-b,0,0,0,0,0,0],\n",
    "               [0,0,0,0,0,0,0,0,0,1-b,0,0,0,0,0],\n",
    "               [0,0,0,0,0,0,0,0,0,0,1-b,0,0,0,0],\n",
    "               [0,0,0,0,0,0,0,0,0,0,0,1-b,0,0,0],\n",
    "               [0,0,0,0,0,0,0,0,0,0,0,0,1-b,0,0]])\n",
    "\n",
    "# Prueba\n",
    "f = m2.f_test(L)\n",
    "print('F-stat:', round(f.statistic, 4)"
   ]
  },
  {
   "cell_type": "code",
   "execution_count": 64,
   "id": "df4b1e60",
   "metadata": {},
   "outputs": [],
   "source": []
  },
  {
   "cell_type": "code",
   "execution_count": 66,
   "id": "39e628ca",
   "metadata": {},
   "outputs": [
    {
     "data": {
      "text/plain": [
       "'<F test: F=array([[6.1990736]]), p=1.7806867071957074e-07, df_denom=76, df_num=12>'"
      ]
     },
     "execution_count": 66,
     "metadata": {},
     "output_type": "execute_result"
    }
   ],
   "source": [
    "f.summary()"
   ]
  },
  {
   "cell_type": "markdown",
   "id": "4b2c8088",
   "metadata": {},
   "source": [
    "## Ejercicio 5: Estabilidad de precios hedónicos"
   ]
  },
  {
   "cell_type": "code",
   "execution_count": null,
   "id": "3efa5d38",
   "metadata": {},
   "outputs": [],
   "source": []
  },
  {
   "cell_type": "markdown",
   "id": "d6645e69",
   "metadata": {},
   "source": [
    "## Ejercicio 6: Índice encadenado"
   ]
  },
  {
   "cell_type": "code",
   "execution_count": null,
   "id": "d905fde2",
   "metadata": {},
   "outputs": [],
   "source": []
  },
  {
   "cell_type": "markdown",
   "id": "e2b9d849",
   "metadata": {},
   "source": [
    "## Ejercicio 7: Box-Cox"
   ]
  },
  {
   "cell_type": "code",
   "execution_count": null,
   "id": "801c5a54",
   "metadata": {},
   "outputs": [],
   "source": []
  }
 ],
 "metadata": {
  "kernelspec": {
   "display_name": "Python 3",
   "language": "python",
   "name": "python3"
  },
  "language_info": {
   "codemirror_mode": {
    "name": "ipython",
    "version": 3
   },
   "file_extension": ".py",
   "mimetype": "text/x-python",
   "name": "python",
   "nbconvert_exporter": "python",
   "pygments_lexer": "ipython3",
   "version": "3.8.8"
  }
 },
 "nbformat": 4,
 "nbformat_minor": 5
}
