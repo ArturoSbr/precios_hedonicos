{
 "cells": [
  {
   "cell_type": "markdown",
   "id": "d74ad4a7",
   "metadata": {},
   "source": [
    "# Econometría Aplicada 1 (Taller) - Examen Final\n",
    "Importar librerías"
   ]
  },
  {
   "cell_type": "code",
   "execution_count": 1,
   "id": "98be54b7",
   "metadata": {},
   "outputs": [],
   "source": [
    "import numpy as np\n",
    "import pandas as pd\n",
    "import statsmodels.api as sm\n",
    "import matplotlib.pyplot as plt\n",
    "plt.style.use('fivethirtyeight')"
   ]
  },
  {
   "cell_type": "markdown",
   "id": "c4252dbc",
   "metadata": {},
   "source": [
    "## Ejercicio 3: Índice hedónico de computadoras\n",
    "Cargar datos"
   ]
  },
  {
   "cell_type": "code",
   "execution_count": null,
   "id": "90de866d",
   "metadata": {},
   "outputs": [],
   "source": [
    "df = pd.read_csv('../dat/chow.txt', sep='\\t')"
   ]
  },
  {
   "cell_type": "markdown",
   "id": "3245f9e1",
   "metadata": {},
   "source": [
    "### (a) Construcción de atributos\n",
    "Crear los atributos necesarios"
   ]
  },
  {
   "cell_type": "code",
   "execution_count": null,
   "id": "dfee3926",
   "metadata": {},
   "outputs": [],
   "source": [
    "# Agregar término constante\n",
    "df['CONST'] = 1\n",
    "\n",
    "# Crear atributos logarítmicos\n",
    "for col in ['RENT','MULT','ACCESS','ADD']:\n",
    "    df['LN'+col] = np.log(df[col])\n",
    "    \n",
    "# Crear Memory Space\n",
    "df['LNMEM'] = np.log(df[['WORDS','BINARY','DIGITS']].product(axis=1))\n",
    "\n",
    "# Crear dummies por año (61, 62, ..., 65)\n",
    "df['D'] = np.where(df['YEAR'].lt(61), 60, df['YEAR'])\n",
    "df = pd.get_dummies(df, prefix='D', prefix_sep='_', columns=['D'], drop_first=True)"
   ]
  },
  {
   "cell_type": "markdown",
   "id": "002164ad",
   "metadata": {},
   "source": [
    "Comparación de matríces de correlación en los periodos\n",
    "- [1954-1959]"
   ]
  },
  {
   "cell_type": "code",
   "execution_count": null,
   "id": "9d56d382",
   "metadata": {},
   "outputs": [],
   "source": [
    "c1 = df.loc[df['YEAR'].between(54,59), 'LNRENT':'LNMEM'].corr()\n",
    "c1.round(2)"
   ]
  },
  {
   "cell_type": "markdown",
   "id": "b68f70dc",
   "metadata": {},
   "source": [
    "- [1960-1965]"
   ]
  },
  {
   "cell_type": "code",
   "execution_count": null,
   "id": "4c74a709",
   "metadata": {},
   "outputs": [],
   "source": [
    "c2 = df.loc[df['YEAR'].between(60,65), 'LNRENT':'LNMEM'].corr()\n",
    "c2.round(2)"
   ]
  },
  {
   "cell_type": "markdown",
   "id": "51acd592",
   "metadata": {},
   "source": [
    "Los coeficientes de correlación entre las siguientes variables cambiaron menos de 10 puntos porcentuales entre ambos periodos:\n",
    "1. `LNRENT` y `LNMEM`\n",
    "1. `LNMULT` y `LNACCESS`\n",
    "1. `LNMULT` y `LNADD`\n",
    "1. `LNACCESS` y `LNADD`\n",
    "\n",
    "Los demás pares de variables cambian en 10 o más puntos porcentuales.\n",
    "\n",
    "En general, ambas matríces de correlación se parecen. Sin embargo, considero que hay diferencias importantes entre ambos periodos. En particular, hay menos pares de variables con coeficientes de correlación mayores a 0.7 en valor absoluto en el segundo periodo.\n",
    "\n",
    "Igualmente, creo que Chow estaba en lo correcto al preocuparse por la posibilidad de un problema de multicolinealidad, pues todos los pares de variables excepto por `LNMEM` y `LNACCESS` tienen un coeficiente de correlación de almenos 0.7 en valor absoluto en el periodo previo a 1960.\n",
    "\n",
    "Las correlaciones siguen siendo altas de 1960 en adelante. Sin embargo, los coeficientes tienden a disminuir en esta ventana de tiempo."
   ]
  },
  {
   "cell_type": "markdown",
   "id": "5e7ccb18",
   "metadata": {},
   "source": [
    "### (b) Regresión de Chow"
   ]
  },
  {
   "cell_type": "code",
   "execution_count": null,
   "id": "02a20fb8",
   "metadata": {},
   "outputs": [],
   "source": [
    "# Objetos para regresión\n",
    "feats = ['CONST','D_61','D_62','D_63','D_64','D_65','LNMULT','LNMEM','LNACCESS']\n",
    "targt = 'LNRENT'\n",
    "X = df.loc[df['YEAR'].ge(60), feats]\n",
    "y = df.loc[df['YEAR'].ge(60), targt]\n",
    "\n",
    "# Modelo de Chow\n",
    "m1 = sm.OLS(endog=y, exog=X)\n",
    "m1_res = m1.fit()"
   ]
  },
  {
   "cell_type": "code",
   "execution_count": null,
   "id": "fcbc2fa4",
   "metadata": {},
   "outputs": [],
   "source": [
    "print(m1_res.summary().tables[1])\n",
    "print('Observations:', int(m1_res.nobs))\n",
    "print('R2:', round(m1_res.rsquared, 3))"
   ]
  },
  {
   "cell_type": "markdown",
   "id": "2dde9779",
   "metadata": {},
   "source": [
    "Índice de precios usando método alternativo"
   ]
  },
  {
   "cell_type": "code",
   "execution_count": null,
   "id": "13968c28",
   "metadata": {},
   "outputs": [],
   "source": [
    "t = pd.concat([pd.Series([1], ['D_60']), np.exp(m1_res.params['D_61':'D_65'])]).to_frame()\n",
    "t.columns=['Price Index (exp)']\n",
    "t['Price Index (Chow)'] = [1,.8438,.6414,.5330,.3906,.3188]\n",
    "t.round(4)"
   ]
  },
  {
   "cell_type": "code",
   "execution_count": null,
   "id": "4dc44377",
   "metadata": {},
   "outputs": [],
   "source": [
    "plt.plot(t.index, t['Price Index (exp)'], label='Coeficientes exponenciados')\n",
    "plt.plot(t.index, t['Price Index (Chow)'], label='Método Chow')\n",
    "plt.xticks(t.index, labels=range(1960,1966), rotation=45, fontsize=12)\n",
    "plt.xlabel('Año', fontsize=12)\n",
    "plt.ylabel('Índice de precios (base 1960)', fontsize=12)\n",
    "plt.legend()\n",
    "plt.show()"
   ]
  },
  {
   "cell_type": "markdown",
   "id": "d6096be9",
   "metadata": {},
   "source": [
    "El índice de precios usando el método de exponenciar los coeficientes de efectos fijos por año da resultados muy similares al método de Chow. Ambas series muestran la misma tendencia a la baja y las diferencias son negligibles."
   ]
  },
  {
   "cell_type": "markdown",
   "id": "273b7fac",
   "metadata": {},
   "source": [
    "### (c) Especificación alternativa\n",
    "Prueba de que la especificación de Chow asume que el logaritmo `BINARY * DIGITS` y de `WORDS` tienen la misma pendiente:\n",
    "$$\\beta \\ln(MEM) = \\beta \\ln(WORDS \\times BINARY \\times DIGITS) = \\beta \\ln(WORDS) + \\beta \\ln(BINARY \\times DIGITS)$$"
   ]
  },
  {
   "cell_type": "code",
   "execution_count": null,
   "id": "739ac1b6",
   "metadata": {},
   "outputs": [],
   "source": [
    "# Separar LNMEM en dos términos independientes\n",
    "df = df.assign(LNLENGTH=np.log(df['BINARY'].multiply(df['DIGITS'])),\n",
    "               LNWORDS=np.log(df['WORDS']))\n",
    "\n",
    "# Objetos para regresión\n",
    "feats = ['CONST','D_61','D_62','D_63','D_64','D_65','LNMULT','LNLENGTH','LNWORDS','LNACCESS']\n",
    "X = df.loc[df['YEAR'].ge(60), feats]\n",
    "y = df.loc[df['YEAR'].ge(60), 'LNRENT']\n",
    "\n",
    "# Modelo alternativo\n",
    "m2 = sm.OLS(y, X)\n",
    "m2_res = m2.fit()\n",
    "print(m2_res.summary().tables[1])"
   ]
  },
  {
   "cell_type": "markdown",
   "id": "5f942ad4",
   "metadata": {},
   "source": [
    "Probar si los coeficientes son distintos entre sí:"
   ]
  },
  {
   "cell_type": "code",
   "execution_count": null,
   "id": "9ad78492",
   "metadata": {},
   "outputs": [],
   "source": [
    "print('R2 adj de modelo 1:', round(m1_res.rsquared_adj, 4))\n",
    "print('R2 adj de modelo 2:', round(m1_res.rsquared_adj, 4))\n",
    "\n",
    "# Probar si los coeficientes son distintos\n",
    "m2_res.t_test([0,0,0,0,0,0,0,1,-1,0]).summary()"
   ]
  },
  {
   "cell_type": "markdown",
   "id": "04f26773",
   "metadata": {},
   "source": [
    "Ambas especificaciones resultan en prácticamente el mismo coeficiente $R^2$ adjustado, así que la especificación no tienen un impacto sobre el desempeño predictivo del modelo. Sin embargo, los coeficientes de `LNLENGTH` y de `LNWORDS` son muy parecidos y no podemos rechazar la hipótesis nula de que tengan el mismo efecto sobre la variable dependiente.\n",
    "\n",
    "Por cuestiones de parsimonía, prefiero el primer modelo."
   ]
  },
  {
   "cell_type": "markdown",
   "id": "d3e26f5a",
   "metadata": {},
   "source": [
    "### (d) Efectos fijos sin término constante\n",
    "Usar todas las observaciones y crear efectos fijos por año (sin constante)"
   ]
  },
  {
   "cell_type": "code",
   "execution_count": null,
   "id": "48450d12",
   "metadata": {},
   "outputs": [],
   "source": [
    "# Objetos para regresión\n",
    "X = pd.concat([pd.get_dummies(df['YEAR'], prefix='D'), df[['LNMULT','LNMEM','LNACCESS']]], axis=1)\n",
    "y = df['LNRENT']\n",
    "\n",
    "# Modelo\n",
    "m3 = sm.OLS(y, X)\n",
    "m3_res = m3.fit()\n",
    "print(m3_res.summary().tables[1])"
   ]
  },
  {
   "cell_type": "code",
   "execution_count": null,
   "id": "440c8d58",
   "metadata": {},
   "outputs": [],
   "source": [
    "t = np.exp(m3_res.params['D_54':'D_65'] - m3_res.params['D_54']).to_frame()\n",
    "t.columns = ['Price Index (base 1954)']\n",
    "t['Price Index (base 1965)'] = t['Price Index (base 1954)'].div(t.loc['D_65'].item())\n",
    "(t * 100).round(0)"
   ]
  },
  {
   "cell_type": "markdown",
   "id": "c12b959c",
   "metadata": {},
   "source": [
    "La segunda columna es igual a la primera salvo porque renormalicé la serie a 1965.\n",
    "\n",
    "Con respecto a la serie de Triplett, mis estimaciones resultan en índices más bajos. Por ejemplo, en 1954, el precio de una computadora era 10 veces el índice de 1965. De acuerdo a los coeficientes estimados por Triplett, el precio de la misma computadora era 13.20 veces el precio de 1965."
   ]
  },
  {
   "cell_type": "markdown",
   "id": "a1156179",
   "metadata": {},
   "source": [
    "### (e) Heteroscedasticidad"
   ]
  },
  {
   "cell_type": "code",
   "execution_count": null,
   "id": "a7bb0368",
   "metadata": {},
   "outputs": [],
   "source": [
    "# Objetos para regresión\n",
    "w = np.sqrt(df.loc[df['YEAR'].ge(60), 'VOLUME'])\n",
    "X = df.loc[df['YEAR'].ge(60), m1.exog_names]\n",
    "y = df.loc[df['YEAR'].ge(60), 'LNRENT']\n",
    "\n",
    "# Modelo\n",
    "m4 = sm.OLS(y, X.multiply(w, axis=0), hasconst=True)\n",
    "m4_res = m4.fit()\n",
    "print(m4_res.summary().tables[1])"
   ]
  },
  {
   "cell_type": "markdown",
   "id": "70da1c84",
   "metadata": {},
   "source": [
    "Me parece que este método no es correcto porque el libro muestra un ejemplo donde $Y_i$ es el precio promedio del modelo $i$ en la siguiente especificación:\n",
    "$$Y_i = \\beta_0 + \\beta_1 X_{1,i} + ... + u_i$$\n",
    "\n",
    "Nuestra especificación usa $\\ln(Y_i)$ como variable dependiente, la cual no es una transformación lineal. Es decir, $\\sqrt{S_m} \\ \\times \\ln(Y_i) \\neq \\ln\\big(Y_i \\times \\sqrt{S_m} \\ \\big)$.\n",
    "\n",
    "Solo deberíamos de aplicar esta transformación cuando modelamos el precio de las computadoras, no el logaritmo del precio.\n",
    "\n",
    "Como se muestra a continuación, el método que no usa este atajo coincide casi puntualmente con la estimación original salvo que los errores estándar son más grandes en la mayoría de los casos."
   ]
  },
  {
   "cell_type": "code",
   "execution_count": null,
   "id": "a1374ae2",
   "metadata": {},
   "outputs": [],
   "source": [
    "m5 = sm.OLS(y, X, weights=w).fit()\n",
    "print(m5.summary().tables[1])"
   ]
  },
  {
   "cell_type": "markdown",
   "id": "72615f0f",
   "metadata": {},
   "source": [
    "## Ejercicio 4: IBM\n",
    "Cargar datos"
   ]
  },
  {
   "cell_type": "code",
   "execution_count": 2,
   "id": "f16f0c88",
   "metadata": {},
   "outputs": [],
   "source": [
    "df = pd.read_csv('../dat/cole.txt', sep='\\t')"
   ]
  },
  {
   "cell_type": "code",
   "execution_count": 4,
   "id": "1f85495f",
   "metadata": {},
   "outputs": [
    {
     "data": {
      "text/plain": [
       "Index(['Obs', 'DEVICE', 'FCS', 'CAP', 'ACT', 'ACCT', 'ROTD', 'TR', 'ARDEN',\n",
       "       'PRICE', 'SPEED', 'OLDTR', 'OLDARD', 'OLDPR', 'OLDSP', 'D72', 'D73',\n",
       "       'D74', 'D75', 'D76', 'D77', 'D78', 'D79', 'D80', 'D81', 'D82', 'D83',\n",
       "       'D84', 'YEAR', 'LNPRICE', 'CONST', 'LNSPEED', 'LNCAP'],\n",
       "      dtype='object')"
      ]
     },
     "execution_count": 4,
     "metadata": {},
     "output_type": "execute_result"
    }
   ],
   "source": [
    "df.columns"
   ]
  },
  {
   "cell_type": "markdown",
   "id": "39bc68af",
   "metadata": {},
   "source": [
    "### (a) Regresión\n",
    "La pregunta indica que tengo que usar los datos viejos."
   ]
  },
  {
   "cell_type": "code",
   "execution_count": 16,
   "id": "ef7983bc",
   "metadata": {},
   "outputs": [
    {
     "name": "stdout",
     "output_type": "stream",
     "text": [
      "==============================================================================\n",
      "                 coef    std err          t      P>|t|      [0.025      0.975]\n",
      "------------------------------------------------------------------------------\n",
      "CONST          9.4803      0.739     12.830      0.000       8.009      10.952\n",
      "D73            0.0531      0.121      0.438      0.663      -0.189       0.295\n",
      "D74           -0.1828      0.115     -1.588      0.116      -0.412       0.046\n",
      "D75           -0.2743      0.115     -2.381      0.020      -0.504      -0.045\n",
      "D76           -0.3861      0.111     -3.482      0.001      -0.607      -0.165\n",
      "D77           -0.3916      0.123     -3.187      0.002      -0.636      -0.147\n",
      "D78           -0.5500      0.169     -3.263      0.002      -0.886      -0.214\n",
      "D79           -0.7449      0.169     -4.419      0.000      -1.081      -0.409\n",
      "D80           -0.9365      0.162     -5.779      0.000      -1.259      -0.614\n",
      "D81           -0.9455      0.161     -5.889      0.000      -1.265      -0.626\n",
      "D82           -0.9334      0.169     -5.513      0.000      -1.271      -0.596\n",
      "D83           -1.0893      0.184     -5.925      0.000      -1.455      -0.723\n",
      "D84           -1.1678      0.189     -6.193      0.000      -1.543      -0.792\n",
      "LNOLDSP        0.4108      0.123      3.343      0.001       0.166       0.656\n",
      "LNCAP          0.4558      0.078      5.840      0.000       0.300       0.611\n",
      "==============================================================================\n",
      "R2: 0.8438665464110455\n"
     ]
    }
   ],
   "source": [
    "# Nuevas columnas\n",
    "df = df.assign(CONST=1,\n",
    "               LNOLDPR=np.log(df['OLDPR']),\n",
    "               LNPRICE=np.log(df['PRICE']),\n",
    "               LNOLDSP=np.log(df['OLDSP']),\n",
    "               LNSPEED=np.log(df['SPEED']),\n",
    "               LNCAP=np.log(df['CAP']))\n",
    "\n",
    "# Objetos para regresión\n",
    "feats = ['CONST','D73','D74','D75','D76','D77','D78','D79','D80',\n",
    "         'D81','D82','D83','D84','LNOLDSP','LNCAP']\n",
    "X = df[feats]\n",
    "y = df['LNOLDPR']\n",
    "\n",
    "# Modelo\n",
    "m1 = sm.OLS(y, X).fit()\n",
    "print(m1.summary().tables[1])\n",
    "print('R2:', m1.rsquared)"
   ]
  },
  {
   "cell_type": "markdown",
   "id": "1a1d594c",
   "metadata": {},
   "source": [
    "### (b) Misma regresión usando nuevos datos"
   ]
  },
  {
   "cell_type": "code",
   "execution_count": 17,
   "id": "7ea68e00",
   "metadata": {},
   "outputs": [
    {
     "name": "stdout",
     "output_type": "stream",
     "text": [
      "==============================================================================\n",
      "                 coef    std err          t      P>|t|      [0.025      0.975]\n",
      "------------------------------------------------------------------------------\n",
      "CONST          9.4283      0.757     12.459      0.000       7.921      10.936\n",
      "D73            0.0160      0.121      0.132      0.896      -0.225       0.257\n",
      "D74           -0.2177      0.115     -1.891      0.062      -0.447       0.012\n",
      "D75           -0.3092      0.115     -2.685      0.009      -0.539      -0.080\n",
      "D76           -0.4173      0.111     -3.764      0.000      -0.638      -0.197\n",
      "D77           -0.4167      0.123     -3.387      0.001      -0.662      -0.172\n",
      "D78           -0.5740      0.169     -3.399      0.001      -0.910      -0.238\n",
      "D79           -0.7689      0.169     -4.553      0.000      -1.105      -0.433\n",
      "D80           -0.9602      0.162     -5.915      0.000      -1.283      -0.637\n",
      "D81           -0.9670      0.161     -6.014      0.000      -1.287      -0.647\n",
      "D82           -0.9537      0.170     -5.626      0.000      -1.291      -0.616\n",
      "D83           -1.1017      0.184     -5.988      0.000      -1.468      -0.735\n",
      "D84           -1.1812      0.189     -6.259      0.000      -1.557      -0.805\n",
      "LNSPEED        0.3909      0.126      3.092      0.003       0.139       0.643\n",
      "LNCAP          0.4588      0.079      5.794      0.000       0.301       0.616\n",
      "==============================================================================\n",
      "R2: 0.8383458867355523\n"
     ]
    }
   ],
   "source": [
    "feats = ['CONST','D73','D74','D75','D76','D77','D78','D79','D80',\n",
    "         'D81','D82','D83','D84','LNSPEED','LNCAP']\n",
    "X = df[feats]\n",
    "y = df['LNPRICE']\n",
    "\n",
    "# Modelo nuevo\n",
    "m2 = sm.OLS(y, X).fit()\n",
    "print(m2.summary().tables[1])\n",
    "print('R2:', m2.rsquared)"
   ]
  },
  {
   "cell_type": "markdown",
   "id": "1a07f8ee",
   "metadata": {},
   "source": [
    "Todos los coeficientes se mantienen cercanos a lo que solían ser. En particular, los coeficientes estimados en la vieja y nueva regresión resultan en que las mismas variables tienen un efecto estadísticamente significativo.\n",
    "\n",
    "El efecto marginal de `LNSPEED` bajo, pero no mucho."
   ]
  },
  {
   "cell_type": "markdown",
   "id": "99ef2744",
   "metadata": {},
   "source": [
    "### (c) Homogeneidad\n",
    "$H_0$: $\\beta_{lnspeed} + \\beta_{lncap} = 1$\n",
    "\n",
    "$H_1$: $\\beta_{lnspeed} + \\beta_{lncap} \\neq 1$"
   ]
  },
  {
   "cell_type": "code",
   "execution_count": 34,
   "id": "44648fa2",
   "metadata": {},
   "outputs": [
    {
     "data": {
      "text/plain": [
       "<class 'statsmodels.stats.contrast.ContrastResults'>\n",
       "                             Test for Constraints                             \n",
       "==============================================================================\n",
       "                 coef    std err          t      P>|t|      [0.025      0.975]\n",
       "------------------------------------------------------------------------------\n",
       "c0             0.8497      0.074     11.430      0.000       0.702       0.998\n",
       "=============================================================================="
      ]
     },
     "execution_count": 34,
     "metadata": {},
     "output_type": "execute_result"
    }
   ],
   "source": [
    "m2.t_test(np.zeros(len(m2.params)-2).astype(int).tolist() + [1, 1])"
   ]
  },
  {
   "cell_type": "markdown",
   "id": "6b4f192d",
   "metadata": {},
   "source": [
    "Podemos rechazar la hipótesis nula de que los coeficientes sean iguales a uno. Esto significa que al multiplicar ambas variables por $\\lambda$, el precio se multiplicaría por un factor menor a $\\lambda$."
   ]
  },
  {
   "cell_type": "markdown",
   "id": "e8ed007d",
   "metadata": {},
   "source": [
    "### (d) Efectos anuales constantes\n",
    "Si reemplazamos los efectos fijos anuales por una sola columna de tiempo, estamos asumiendo que el paso del tiempo tiene rendimientos constantes sobre el logaritmo del precio porque estamos estimando un solo coeficiente."
   ]
  },
  {
   "cell_type": "code",
   "execution_count": 50,
   "id": "3ed2a853",
   "metadata": {},
   "outputs": [
    {
     "name": "stdout",
     "output_type": "stream",
     "text": [
      "==============================================================================\n",
      "                 coef    std err          t      P>|t|      [0.025      0.975]\n",
      "------------------------------------------------------------------------------\n",
      "CONST          9.7808      0.639     15.298      0.000       8.510      11.052\n",
      "TIME          -0.1052      0.012     -8.424      0.000      -0.130      -0.080\n",
      "LNSPEED        0.4343      0.109      3.988      0.000       0.218       0.651\n",
      "LNCAP          0.4428      0.066      6.745      0.000       0.312       0.573\n",
      "==============================================================================\n"
     ]
    }
   ],
   "source": [
    "# Nueva variable de rendimientos constantes\n",
    "df['TIME'] = df['YEAR'] - 1971\n",
    "\n",
    "# Objetos para regresión\n",
    "X = df[['CONST','TIME','LNSPEED','LNCAP']]\n",
    "y = df['LNPRICE']\n",
    "\n",
    "# Modelo\n",
    "m3 = sm.OLS(y, X).fit()\n",
    "print(m3.summary().tables[1])"
   ]
  },
  {
   "cell_type": "markdown",
   "id": "bf7a2751",
   "metadata": {},
   "source": [
    "Haré la prueba $F$ de que todos los coeficientes sean iguales."
   ]
  },
  {
   "cell_type": "code",
   "execution_count": 61,
   "id": "77630366",
   "metadata": {},
   "outputs": [
    {
     "data": {
      "text/plain": [
       "array([0.        , 0.        , 1.10515499, 0.        , 0.        ,\n",
       "       0.        , 0.        , 0.        , 0.        , 0.        ,\n",
       "       0.        , 0.        , 0.        , 0.        , 0.        ])"
      ]
     },
     "execution_count": 61,
     "metadata": {},
     "output_type": "execute_result"
    }
   ],
   "source": [
    "np.roll([0,1-b,0,0,0,0,0,0,0,0,0,0,0,0,0], 1)"
   ]
  },
  {
   "cell_type": "code",
   "execution_count": 77,
   "id": "95611bac",
   "metadata": {},
   "outputs": [
    {
     "name": "stdout",
     "output_type": "stream",
     "text": [
      "F-stat: 6.1991\n",
      "p-value: 0.0\n"
     ]
    }
   ],
   "source": [
    "# Efecto marginal anual\n",
    "b = m3.params['TIME']\n",
    "\n",
    "# Matriz de restricciones\n",
    "L = np.matrix([[0,1-b,0,0,0,0,0,0,0,0,0,0,0,0,0],\n",
    "               [0,0,1-b,0,0,0,0,0,0,0,0,0,0,0,0],\n",
    "               [0,0,0,1-b,0,0,0,0,0,0,0,0,0,0,0],\n",
    "               [0,0,0,0,1-b,0,0,0,0,0,0,0,0,0,0],\n",
    "               [0,0,0,0,0,1-b,0,0,0,0,0,0,0,0,0],\n",
    "               [0,0,0,0,0,0,1-b,0,0,0,0,0,0,0,0],\n",
    "               [0,0,0,0,0,0,0,1-b,0,0,0,0,0,0,0],\n",
    "               [0,0,0,0,0,0,0,0,1-b,0,0,0,0,0,0],\n",
    "               [0,0,0,0,0,0,0,0,0,1-b,0,0,0,0,0],\n",
    "               [0,0,0,0,0,0,0,0,0,0,1-b,0,0,0,0],\n",
    "               [0,0,0,0,0,0,0,0,0,0,0,1-b,0,0,0],\n",
    "               [0,0,0,0,0,0,0,0,0,0,0,0,1-b,0,0]])\n",
    "\n",
    "# Prueba\n",
    "f = m2.f_test(L)\n",
    "print('F-stat:', round(f.statistic.item(), 4))\n",
    "print('p-value:', round(f.pvalue.item(), 4))"
   ]
  },
  {
   "cell_type": "markdown",
   "id": "ab8fb977",
   "metadata": {},
   "source": [
    "Podemos rechazar la hipótesis de que los rendimientos marginales sobre el tiempo sean constantes e iguales al coeficiente del modelo del inciso anterior."
   ]
  },
  {
   "cell_type": "markdown",
   "id": "a9a58079",
   "metadata": {},
   "source": [
    "## Ejercicio 5: Estabilidad de precios hedónicos\n",
    "Reconstruir datos de pregunta 3"
   ]
  },
  {
   "cell_type": "code",
   "execution_count": 152,
   "id": "57b6376d",
   "metadata": {},
   "outputs": [],
   "source": [
    "# Leer datos\n",
    "df = pd.read_csv('../dat/chow.txt', sep='\\t')\n",
    "\n",
    "# Agregar término constante\n",
    "df['CONST'] = 1\n",
    "\n",
    "# Crear atributos logarítmicos\n",
    "for col in ['RENT','MULT','ACCESS','ADD']:\n",
    "    df['LN'+col] = np.log(df[col])\n",
    "    \n",
    "# Crear Memory Space\n",
    "df['LNMEM'] = np.log(df[['WORDS','BINARY','DIGITS']].product(axis=1))\n",
    "\n",
    "# Crear dummies por año\n",
    "df['D'] = df['YEAR']\n",
    "df = pd.get_dummies(df, prefix='D', prefix_sep='_', columns=['D'], drop_first=False)"
   ]
  },
  {
   "cell_type": "markdown",
   "id": "9baa4584",
   "metadata": {},
   "source": [
    "### (a) Regresiones 60-65"
   ]
  },
  {
   "cell_type": "markdown",
   "id": "e36250cc",
   "metadata": {},
   "source": [
    "Pooled"
   ]
  },
  {
   "cell_type": "code",
   "execution_count": 153,
   "id": "2e4b1e07",
   "metadata": {},
   "outputs": [],
   "source": [
    "# Objetos para regresión\n",
    "feats = ['CONST','D_61','D_62','D_63','D_64','D_65','LNMULT','LNMEM','LNACCESS']\n",
    "targt = 'LNRENT'\n",
    "X = df.loc[df['YEAR'].ge(60), feats]\n",
    "y = df.loc[df['YEAR'].ge(60), targt]\n",
    "\n",
    "# Regresión\n",
    "m1 = sm.OLS(endog=y, exog=X).fit()"
   ]
  },
  {
   "cell_type": "markdown",
   "id": "fe993845",
   "metadata": {},
   "source": [
    "Heterogenea"
   ]
  },
  {
   "cell_type": "code",
   "execution_count": 154,
   "id": "85798606",
   "metadata": {},
   "outputs": [
    {
     "name": "stdout",
     "output_type": "stream",
     "text": [
      "===============================================================================\n",
      "                  coef    std err          t      P>|t|      [0.025      0.975]\n",
      "-------------------------------------------------------------------------------\n",
      "D_60            1.2047      1.381      0.872      0.387      -1.560       3.970\n",
      "D_61            0.0048      1.083      0.004      0.996      -2.163       2.172\n",
      "D_62           -2.4044      0.961     -2.502      0.015      -4.328      -0.481\n",
      "D_63           -0.8008      0.905     -0.885      0.380      -2.612       1.010\n",
      "D_64           -1.5899      0.644     -2.468      0.017      -2.880      -0.300\n",
      "D_65           -1.3537      0.475     -2.849      0.006      -2.305      -0.403\n",
      "LNMULT_60      -0.1523      0.091     -1.678      0.099      -0.334       0.029\n",
      "LNMEM_60        0.4234      0.162      2.619      0.011       0.100       0.747\n",
      "LNACCESS_60    -0.1208      0.070     -1.713      0.092      -0.262       0.020\n",
      "LNMULT_61      -0.0615      0.085     -0.727      0.470      -0.231       0.108\n",
      "LNMEM_61        0.5507      0.125      4.407      0.000       0.301       0.801\n",
      "LNACCESS_61    -0.1755      0.060     -2.917      0.005      -0.296      -0.055\n",
      "LNMULT_62       0.0786      0.113      0.694      0.491      -0.148       0.306\n",
      "LNMEM_62        0.8264      0.122      6.747      0.000       0.581       1.072\n",
      "LNACCESS_62    -0.2571      0.094     -2.743      0.008      -0.445      -0.069\n",
      "LNMULT_63      -0.0675      0.097     -0.698      0.488      -0.261       0.126\n",
      "LNMEM_63        0.5750      0.103      5.607      0.000       0.370       0.780\n",
      "LNACCESS_63    -0.0412      0.172     -0.239      0.812      -0.385       0.303\n",
      "LNMULT_64      -0.1486      0.066     -2.241      0.029      -0.281      -0.016\n",
      "LNMEM_64        0.6867      0.095      7.211      0.000       0.496       0.877\n",
      "LNACCESS_64     0.0412      0.132      0.312      0.756      -0.224       0.306\n",
      "LNMULT_65      -0.0411      0.061     -0.670      0.506      -0.164       0.082\n",
      "LNMEM_65        0.5778      0.065      8.949      0.000       0.449       0.707\n",
      "LNACCESS_65    -0.1465      0.079     -1.864      0.067      -0.304       0.011\n",
      "===============================================================================\n"
     ]
    }
   ],
   "source": [
    "# Objetos para regresión\n",
    "x = ['D_60','D_61','D_62','D_63','D_64','D_65','LNMULT','LNMEM','LNACCESS']\n",
    "X = df.loc[df['YEAR'].ge(60), x].copy()\n",
    "for year in range(60,66):\n",
    "    y = str(year)\n",
    "    f = ['LNMULT','LNMEM','LNACCESS']\n",
    "    X[['LNMULT_'+y,'LNMEM_'+y,'LNACCESS_'+y]] = X[f].multiply(X['D_'+y], axis=0)\n",
    "X.drop(columns=['LNMULT','LNMEM','LNACCESS'], axis=1, inplace=True)\n",
    "y = df.loc[df['YEAR'].ge(60), 'LNRENT']\n",
    "\n",
    "# Regresión\n",
    "m2 = sm.OLS(endog=y, exog=X).fit()\n",
    "print(m2.summary().tables[1])"
   ]
  },
  {
   "cell_type": "markdown",
   "id": "054c1c44",
   "metadata": {},
   "source": [
    "Prueba F"
   ]
  },
  {
   "cell_type": "code",
   "execution_count": null,
   "id": "5f1d35ec",
   "metadata": {},
   "outputs": [],
   "source": []
  },
  {
   "cell_type": "markdown",
   "id": "86872e58",
   "metadata": {},
   "source": [
    "### (b) Regresiones 55-65"
   ]
  },
  {
   "cell_type": "code",
   "execution_count": 155,
   "id": "4a3f2ac4",
   "metadata": {},
   "outputs": [
    {
     "name": "stdout",
     "output_type": "stream",
     "text": [
      "===============================================================================\n",
      "                  coef    std err          t      P>|t|      [0.025      0.975]\n",
      "-------------------------------------------------------------------------------\n",
      "D_54            2.5659      2.542      1.009      0.321      -2.619       7.750\n",
      "D_55            2.1350      1.560      1.369      0.181      -1.047       5.317\n",
      "D_56            0.6744      1.115      0.605      0.550      -1.600       2.948\n",
      "D_57            1.0467      1.612      0.649      0.521      -2.241       4.335\n",
      "D_58            1.5809      1.039      1.522      0.138      -0.537       3.699\n",
      "D_59            2.4894      0.750      3.320      0.002       0.960       4.019\n",
      "LNMULT_54      -0.0872      0.207     -0.421      0.677      -0.509       0.335\n",
      "LNMEM_54        0.2751      0.279      0.987      0.331      -0.293       0.844\n",
      "LNACCESS_54    -0.1465      0.094     -1.553      0.130      -0.339       0.046\n",
      "LNMULT_55      -0.0031      0.120     -0.026      0.980      -0.248       0.242\n",
      "LNMEM_55        0.4201      0.181      2.327      0.027       0.052       0.788\n",
      "LNACCESS_55    -0.2798      0.075     -3.726      0.001      -0.433      -0.127\n",
      "LNMULT_56       0.0967      0.109      0.887      0.382      -0.126       0.319\n",
      "LNMEM_56        0.5126      0.114      4.512      0.000       0.281       0.744\n",
      "LNACCESS_56    -0.2865      0.070     -4.087      0.000      -0.429      -0.144\n",
      "LNMULT_57      -0.0256      0.164     -0.156      0.877      -0.360       0.309\n",
      "LNMEM_57        0.5158      0.140      3.681      0.001       0.230       0.802\n",
      "LNACCESS_57    -0.2008      0.085     -2.364      0.024      -0.374      -0.028\n",
      "LNMULT_58      -0.0643      0.088     -0.729      0.472      -0.244       0.116\n",
      "LNMEM_58        0.4276      0.099      4.300      0.000       0.225       0.630\n",
      "LNACCESS_58    -0.2058      0.063     -3.256      0.003      -0.335      -0.077\n",
      "LNMULT_59      -0.2116      0.073     -2.888      0.007      -0.361      -0.062\n",
      "LNMEM_59        0.3562      0.079      4.513      0.000       0.195       0.517\n",
      "LNACCESS_59    -0.1270      0.067     -1.882      0.069      -0.265       0.011\n",
      "===============================================================================\n"
     ]
    }
   ],
   "source": [
    "# Objetos para regresión\n",
    "x = ['D_54','D_55','D_56','D_57','D_58','D_59','LNMULT','LNMEM','LNACCESS']\n",
    "X = df.loc[df['YEAR'].lt(60), x].copy()\n",
    "for year in range(54,60):\n",
    "    y = str(year)\n",
    "    f = ['LNMULT','LNMEM','LNACCESS']\n",
    "    X[['LNMULT_'+y,'LNMEM_'+y,'LNACCESS_'+y]] = X[f].multiply(X['D_'+y], axis=0)\n",
    "X.drop(columns=['LNMULT','LNMEM','LNACCESS'], axis=1, inplace=True)\n",
    "y = df.loc[df['YEAR'].lt(60), 'LNRENT']\n",
    "\n",
    "# Regresión\n",
    "m3 = sm.OLS(endog=y, exog=X).fit()\n",
    "print(m3.summary().tables[1])"
   ]
  },
  {
   "cell_type": "markdown",
   "id": "67dacb73",
   "metadata": {},
   "source": [
    "La pregunta indica que habrán discrepancias en los resultados previos a 1959.\n",
    "\n",
    "1. Prueba F `LNMULT`"
   ]
  },
  {
   "cell_type": "markdown",
   "id": "d402bc80",
   "metadata": {},
   "source": []
  },
  {
   "cell_type": "markdown",
   "id": "12ec8674",
   "metadata": {},
   "source": [
    "### (c) Regresiones 54-65"
   ]
  },
  {
   "cell_type": "code",
   "execution_count": 124,
   "id": "b9fcc598",
   "metadata": {},
   "outputs": [
    {
     "name": "stdout",
     "output_type": "stream",
     "text": [
      "===============================================================================\n",
      "                  coef    std err          t      P>|t|      [0.025      0.975]\n",
      "-------------------------------------------------------------------------------\n",
      "CONST           1.9297      0.166     11.637      0.000       1.600       2.259\n",
      "D_55            0.2053      2.188      0.094      0.925      -4.140       4.551\n",
      "D_56           -1.2553      1.568     -0.801      0.425      -4.369       1.859\n",
      "D_57           -0.8829      2.261     -0.391      0.697      -5.373       3.607\n",
      "D_58           -0.3488      1.462     -0.239      0.812      -3.252       2.554\n",
      "D_59            0.5597      1.062      0.527      0.599      -1.549       2.668\n",
      "D_60           -0.7250      1.544     -0.469      0.640      -3.792       2.342\n",
      "D_61           -1.9248      1.215     -1.584      0.117      -4.338       0.488\n",
      "D_62           -4.3341      1.081     -4.009      0.000      -6.481      -2.187\n",
      "D_63           -2.7305      1.019     -2.679      0.009      -4.754      -0.707\n",
      "D_64           -3.5195      0.735     -4.788      0.000      -4.979      -2.060\n",
      "D_65           -3.2834      0.553     -5.932      0.000      -4.383      -2.184\n",
      "LNMULT_55      -0.0031      0.168     -0.019      0.985      -0.337       0.331\n",
      "LNMEM_55        0.4201      0.252      1.664      0.100      -0.081       0.922\n",
      "LNACCESS_55    -0.2798      0.105     -2.664      0.009      -0.488      -0.071\n",
      "LNMULT_56       0.0967      0.152      0.635      0.527      -0.206       0.399\n",
      "LNMEM_56        0.5126      0.159      3.226      0.002       0.197       0.828\n",
      "LNACCESS_56    -0.2865      0.098     -2.923      0.004      -0.481      -0.092\n",
      "LNMULT_57      -0.0256      0.229     -0.112      0.911      -0.481       0.430\n",
      "LNMEM_57        0.5158      0.196      2.632      0.010       0.127       0.905\n",
      "LNACCESS_57    -0.2008      0.119     -1.691      0.094      -0.437       0.035\n",
      "LNMULT_58      -0.0643      0.123     -0.521      0.604      -0.309       0.181\n",
      "LNMEM_58        0.4276      0.139      3.075      0.003       0.151       0.704\n",
      "LNACCESS_58    -0.2058      0.088     -2.329      0.022      -0.381      -0.030\n",
      "LNMULT_59      -0.2116      0.102     -2.065      0.042      -0.415      -0.008\n",
      "LNMEM_59        0.3562      0.110      3.227      0.002       0.137       0.575\n",
      "LNACCESS_59    -0.1270      0.094     -1.346      0.182      -0.314       0.060\n",
      "LNMULT_60      -0.1523      0.101     -1.510      0.134      -0.353       0.048\n",
      "LNMEM_60        0.4234      0.180      2.356      0.021       0.067       0.780\n",
      "LNACCESS_60    -0.1208      0.078     -1.542      0.127      -0.276       0.035\n",
      "LNMULT_61      -0.0615      0.094     -0.654      0.514      -0.248       0.125\n",
      "LNMEM_61        0.5507      0.139      3.965      0.000       0.275       0.827\n",
      "LNACCESS_61    -0.1755      0.067     -2.624      0.010      -0.308      -0.043\n",
      "LNMULT_62       0.0786      0.126      0.624      0.534      -0.172       0.329\n",
      "LNMEM_62        0.8264      0.136      6.070      0.000       0.556       1.097\n",
      "LNACCESS_62    -0.2571      0.104     -2.468      0.015      -0.464      -0.050\n",
      "LNMULT_63      -0.0675      0.107     -0.628      0.532      -0.281       0.146\n",
      "LNMEM_63        0.5750      0.114      5.045      0.000       0.349       0.801\n",
      "LNACCESS_63    -0.0412      0.191     -0.215      0.830      -0.421       0.338\n",
      "LNMULT_64      -0.1486      0.074     -2.016      0.047      -0.295      -0.002\n",
      "LNMEM_64        0.6867      0.106      6.488      0.000       0.476       0.897\n",
      "LNACCESS_64     0.0412      0.147      0.280      0.780      -0.251       0.333\n",
      "LNMULT_65      -0.0411      0.068     -0.603      0.548      -0.176       0.094\n",
      "LNMEM_65        0.5778      0.072      8.052      0.000       0.435       0.720\n",
      "LNACCESS_65    -0.1465      0.087     -1.677      0.097      -0.320       0.027\n",
      "===============================================================================\n"
     ]
    }
   ],
   "source": [
    "# Objetos para regresión\n",
    "x = ['CONST'] + ['D_' + str(i) for i in range(55,66)] + ['LNMULT','LNMEM','LNACCESS']\n",
    "X = df[x].copy()\n",
    "for year in range(55,66):\n",
    "    y = str(year)\n",
    "    f = ['LNMULT','LNMEM','LNACCESS']\n",
    "    X[['LNMULT_'+y,'LNMEM_'+y,'LNACCESS_'+y]] = X[f].multiply(X['D_'+y], axis=0)\n",
    "X.drop(columns=['LNMULT','LNMEM','LNACCESS'], axis=1, inplace=True)\n",
    "y = df['LNRENT']\n",
    "\n",
    "# Regresión\n",
    "m4 = sm.OLS(endog=y, exog=X).fit()\n",
    "print(m4.summary().tables[1])"
   ]
  },
  {
   "cell_type": "markdown",
   "id": "e63ad000",
   "metadata": {},
   "source": [
    "Prueba F"
   ]
  },
  {
   "cell_type": "code",
   "execution_count": null,
   "id": "dc1423cd",
   "metadata": {},
   "outputs": [],
   "source": []
  },
  {
   "cell_type": "markdown",
   "id": "8d31ed05",
   "metadata": {},
   "source": [
    "### (d) Heteroscedasticidad\n",
    "Heteroscedasticidad en periodo 54-60"
   ]
  },
  {
   "cell_type": "code",
   "execution_count": 145,
   "id": "a173bfc3",
   "metadata": {},
   "outputs": [
    {
     "data": {
      "text/plain": [
       "(0.04704222600741825,\n",
       " 0.9999748940057489,\n",
       " 0.008560453870543114,\n",
       " 0.9999786717289858)"
      ]
     },
     "execution_count": 145,
     "metadata": {},
     "output_type": "execute_result"
    }
   ],
   "source": [
    "X = df.loc[df['YEAR'].lt(60), ['D_55','D_56','D_57','D_58','D_59','D_60']]\n",
    "sm.stats.diagnostic.het_breuschpagan(resid=m3.resid, exog_het=X)"
   ]
  },
  {
   "cell_type": "markdown",
   "id": "4aad7bcd",
   "metadata": {},
   "source": [
    "El p-value del estadístico F es 0.99. Entonces no puedo rechazar la hipótesis de que los errores sean homoscedásticos."
   ]
  },
  {
   "cell_type": "markdown",
   "id": "e4c1066a",
   "metadata": {},
   "source": [
    "Heteroscedasticidad en periodo 60-65"
   ]
  },
  {
   "cell_type": "code",
   "execution_count": 148,
   "id": "7e7f6ad3",
   "metadata": {
    "scrolled": true
   },
   "outputs": [
    {
     "data": {
      "text/plain": [
       "(6.4237088019467015,\n",
       " 0.2671445649616237,\n",
       " 1.2919445006068901,\n",
       " 0.27627574782473957)"
      ]
     },
     "execution_count": 148,
     "metadata": {},
     "output_type": "execute_result"
    }
   ],
   "source": [
    "X = df.loc[df['YEAR'].ge(60), ['D_60','D_61','D_62','D_63','D_64','D_65']]\n",
    "sm.stats.diagnostic.het_breuschpagan(resid=m2.resid, exog_het=X)"
   ]
  },
  {
   "cell_type": "markdown",
   "id": "2faf73cd",
   "metadata": {},
   "source": [
    "El p-value del estadístico F es 0.28. Como sigue siendo mayor a 0.05, no puedo rechazar la hipótesis de homoscedasticidad."
   ]
  },
  {
   "cell_type": "code",
   "execution_count": null,
   "id": "94629d92",
   "metadata": {},
   "outputs": [],
   "source": []
  },
  {
   "cell_type": "markdown",
   "id": "a9c761cb",
   "metadata": {},
   "source": [
    "## Ejercicio 6: Índice encadenado"
   ]
  },
  {
   "cell_type": "code",
   "execution_count": null,
   "id": "0284e9b9",
   "metadata": {},
   "outputs": [],
   "source": []
  },
  {
   "cell_type": "markdown",
   "id": "27a4e688",
   "metadata": {},
   "source": [
    "## Ejercicio 7: Box-Cox"
   ]
  },
  {
   "cell_type": "code",
   "execution_count": null,
   "id": "9f32eb1f",
   "metadata": {},
   "outputs": [],
   "source": []
  }
 ],
 "metadata": {
  "kernelspec": {
   "display_name": "Python 3",
   "language": "python",
   "name": "python3"
  },
  "language_info": {
   "codemirror_mode": {
    "name": "ipython",
    "version": 3
   },
   "file_extension": ".py",
   "mimetype": "text/x-python",
   "name": "python",
   "nbconvert_exporter": "python",
   "pygments_lexer": "ipython3",
   "version": "3.8.8"
  }
 },
 "nbformat": 4,
 "nbformat_minor": 5
}
